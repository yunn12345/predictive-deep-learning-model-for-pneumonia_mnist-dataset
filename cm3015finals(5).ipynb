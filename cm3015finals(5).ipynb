{
 "cells": [
  {
   "cell_type": "markdown",
   "metadata": {
    "id": "58XHTXNN5_lR"
   },
   "source": [
    "# CM3015 FINALS REPORT"
   ]
  },
  {
   "cell_type": "markdown",
   "metadata": {
    "id": "GuzV5laAx4xw"
   },
   "source": [
    "## Defining the problem and assembling a dataset\n",
    "\n",
    "This project involves developing a deep learning model that will be used to predict the likelihood of pneumonia in patients using the Pneumonia_MNIST dataset from Tensorflow. The dataset is publicly available and data collection is not required. The dataset has also been pre-annotated with labels indicating the presence or absence of pneumonia as pneumonia-positive and pneumonia-negative respectively.\n",
    "\n",
    "The input data that will be used for the model is the grayscaled chest X-ray images from the Pneumonia_MNIST dataset. The output prediction will be a probability score indicating whether a patient has pneumonia or not.\n",
    "\n",
    "Due to the dataset only having two labels (pneumonia-positive and pneumonia-negative) it is a binary classification problem. Therefore, the model will function by categorising the input images to either pneumonia-positive (class 1) and pneumonia-negative (class 0). A classification-based neural network architecture will be used for this model, and the loss function used will be binary cross-entropy.\n",
    "\n",
    "Some hypothesis that are made would be that the presence of pneumonia can be determined solely from chest X-ray images and that the dataset provides sufficient distinguishing features for a deep learning model to be able to differentiate between healthy and pneumonia-affected lungs.\n",
    "\n"
   ]
  },
  {
   "cell_type": "markdown",
   "metadata": {
    "id": "H_mudzOSyA8Q"
   },
   "source": [
    "## Choosing a measure of success\n",
    "\n",
    "The Pneumonia_MNIST dataset is highly class-imbalanced, with pneumonia-negative being about 70% and pneumonia-positive being about 30%, hence, relying solely on accuracy could lead to unaccurate results.\n",
    "Instead, a combination of metrics such as precision, recall, F1-score, and AUC-PR (area under the precision-recall curve), along with the confusion matrix will be used to measure the level of success.\n",
    "\n",
    "The precision metric measures the proportion of correctly predicted pneumonia cases out of all cases predicted as pneumonia, helping to assess the model’s ability to avoid false positives. The recall metric  measures the proportion of actual pneumonia cases that were correctly identified, helping to check if there is a high number of false negatives. The F1-Score measures the mean of precision and recall, and provides a balance between the two. The AUC-PR focuses on the performance of the model on the positive class and is more sensitive to changes in precision and recall than AUC-ROC for inbalanced class datasets. The confusion matrix will provide a breakdown of true positives, false positives, true negatives, and false negatives, allowing for an in-depth understanding of the model’s misclassifications.\n",
    "\n",
    "The desired results for the metrics would be a high precision and high recall, and low false negatives and low false positives"
   ]
  },
  {
   "cell_type": "markdown",
   "metadata": {
    "id": "KL72JTWJyFp3"
   },
   "source": [
    "## Deciding on an evaluation protocol\n",
    "\n",
    "As the Pneumonia_MNIST dataset is class-imbalanced, just using a simple holdout validation may not accurately depict the performance of the model. Therefore, stratified K-fold cross-validation will be used as well, as it provides a more balanced representation by ensuring that each fold maintains the same proportion of pneumonia-positive and pneumonia-negative cases. Stratified K-fold cross-validation also reduces the risk of misleading results by splitting the dataset into multiple training and validation sets, reducing the risk of misleading results.\n",
    "\n",
    "In this model, 5 folds will be used and in each iteration, the model will be trained on (K-1)/K of the data and validated on the remaining 1/K. The precision, recall, F1-score, AUC-PR, and the confusion matrix will be used and averaged across all folds to obtain a more accurate evaluation.\n",
    "\n",
    "After carrying out stratified K-fold cross-validation, holdout validation will be carried out on the chosen best model to help evaluate the chosen model on a set of data that is completely independent of the training and cross-validation processes. This ensures a more accurate estimate of how the model could perform on completely new data."
   ]
  },
  {
   "cell_type": "markdown",
   "metadata": {
    "id": "F2Kcl5VnyKIG"
   },
   "source": [
    "## Preparing the dataset\n",
    "\n",
    "In this section, the Pneumonia_MNIST dataset is preprocessed for model training. The dataset is first loaded in using tensorflow_datasets (tfds), combining both the train and test splits for better control over data partitioning. The images in the dataset are then resized to 16x16 pixels using skimage.transform.resize to reduce computational complexity and are stored in NumPy arrays for easier manipulation. To ensure compatibility with the model, the images in the dataset that are originally 2D matrices are reshaped into 1D feature vectors.\n",
    "\n",
    "The dataset is split into training (80%) and testing (20%) subsets using train_test_split, ensuring that the split maintains the class distribution via stratification. The training data is then further split where 20% of the training data will be the validation set.\n",
    "\n",
    "Lastly, the pixel values are scaled to the [0,1] range by dividing by 255.0 to improve convergence during training of the model. One-hot encoding is not carried out in this step as the dataset has a binary classification problem, where it is more beneficial for the labels to remain unchanged as 0 for pneumonia-negative and 1 for pneumonia-positive."
   ]
  },
  {
   "cell_type": "code",
   "execution_count": 1,
   "metadata": {
    "colab": {
     "base_uri": "https://localhost:8080/"
    },
    "id": "gLEhCIKLVElf",
    "outputId": "33538a90-9777-4d5a-c6c7-76eba6230a91"
   },
   "outputs": [
    {
     "name": "stdout",
     "output_type": "stream",
     "text": [
      "Collecting tfds-nightly\n",
      "  Downloading tfds_nightly-4.9.7.dev202503050044-py3-none-any.whl.metadata (11 kB)\n",
      "Requirement already satisfied: absl-py in /usr/local/lib/python3.11/dist-packages (from tfds-nightly) (1.4.0)\n",
      "Requirement already satisfied: array_record>=0.5.0 in /usr/local/lib/python3.11/dist-packages (from tfds-nightly) (0.6.0)\n",
      "Requirement already satisfied: dm-tree in /usr/local/lib/python3.11/dist-packages (from tfds-nightly) (0.1.9)\n",
      "Requirement already satisfied: etils>=1.9.1 in /usr/local/lib/python3.11/dist-packages (from etils[edc,enp,epath,epy,etree]>=1.9.1; python_version >= \"3.11\"->tfds-nightly) (1.12.0)\n",
      "Requirement already satisfied: immutabledict in /usr/local/lib/python3.11/dist-packages (from tfds-nightly) (4.2.1)\n",
      "Requirement already satisfied: numpy in /usr/local/lib/python3.11/dist-packages (from tfds-nightly) (1.26.4)\n",
      "Requirement already satisfied: promise in /usr/local/lib/python3.11/dist-packages (from tfds-nightly) (2.3)\n",
      "Requirement already satisfied: protobuf>=3.20 in /usr/local/lib/python3.11/dist-packages (from tfds-nightly) (4.25.6)\n",
      "Requirement already satisfied: psutil in /usr/local/lib/python3.11/dist-packages (from tfds-nightly) (5.9.5)\n",
      "Requirement already satisfied: pyarrow in /usr/local/lib/python3.11/dist-packages (from tfds-nightly) (18.1.0)\n",
      "Requirement already satisfied: requests>=2.19.0 in /usr/local/lib/python3.11/dist-packages (from tfds-nightly) (2.32.3)\n",
      "Requirement already satisfied: simple_parsing in /usr/local/lib/python3.11/dist-packages (from tfds-nightly) (0.1.7)\n",
      "Requirement already satisfied: tensorflow-metadata in /usr/local/lib/python3.11/dist-packages (from tfds-nightly) (1.16.1)\n",
      "Requirement already satisfied: termcolor in /usr/local/lib/python3.11/dist-packages (from tfds-nightly) (2.5.0)\n",
      "Requirement already satisfied: toml in /usr/local/lib/python3.11/dist-packages (from tfds-nightly) (0.10.2)\n",
      "Requirement already satisfied: tqdm in /usr/local/lib/python3.11/dist-packages (from tfds-nightly) (4.67.1)\n",
      "Requirement already satisfied: wrapt in /usr/local/lib/python3.11/dist-packages (from tfds-nightly) (1.17.2)\n",
      "Requirement already satisfied: fsspec in /usr/local/lib/python3.11/dist-packages (from etils[edc,enp,epath,epy,etree]>=1.9.1; python_version >= \"3.11\"->tfds-nightly) (2024.10.0)\n",
      "Requirement already satisfied: importlib_resources in /usr/local/lib/python3.11/dist-packages (from etils[edc,enp,epath,epy,etree]>=1.9.1; python_version >= \"3.11\"->tfds-nightly) (6.5.2)\n",
      "Requirement already satisfied: typing_extensions in /usr/local/lib/python3.11/dist-packages (from etils[edc,enp,epath,epy,etree]>=1.9.1; python_version >= \"3.11\"->tfds-nightly) (4.12.2)\n",
      "Requirement already satisfied: zipp in /usr/local/lib/python3.11/dist-packages (from etils[edc,enp,epath,epy,etree]>=1.9.1; python_version >= \"3.11\"->tfds-nightly) (3.21.0)\n",
      "Requirement already satisfied: charset-normalizer<4,>=2 in /usr/local/lib/python3.11/dist-packages (from requests>=2.19.0->tfds-nightly) (3.4.1)\n",
      "Requirement already satisfied: idna<4,>=2.5 in /usr/local/lib/python3.11/dist-packages (from requests>=2.19.0->tfds-nightly) (3.10)\n",
      "Requirement already satisfied: urllib3<3,>=1.21.1 in /usr/local/lib/python3.11/dist-packages (from requests>=2.19.0->tfds-nightly) (2.3.0)\n",
      "Requirement already satisfied: certifi>=2017.4.17 in /usr/local/lib/python3.11/dist-packages (from requests>=2.19.0->tfds-nightly) (2025.1.31)\n",
      "Requirement already satisfied: attrs>=18.2.0 in /usr/local/lib/python3.11/dist-packages (from dm-tree->tfds-nightly) (25.1.0)\n",
      "Requirement already satisfied: six in /usr/local/lib/python3.11/dist-packages (from promise->tfds-nightly) (1.17.0)\n",
      "Requirement already satisfied: docstring-parser<1.0,>=0.15 in /usr/local/lib/python3.11/dist-packages (from simple_parsing->tfds-nightly) (0.16)\n",
      "Requirement already satisfied: googleapis-common-protos<2,>=1.56.4 in /usr/local/lib/python3.11/dist-packages (from tensorflow-metadata->tfds-nightly) (1.68.0)\n",
      "Downloading tfds_nightly-4.9.7.dev202503050044-py3-none-any.whl (5.3 MB)\n",
      "\u001b[2K   \u001b[90m━━━━━━━━━━━━━━━━━━━━━━━━━━━━━━━━━━━━━━━━\u001b[0m \u001b[32m5.3/5.3 MB\u001b[0m \u001b[31m26.4 MB/s\u001b[0m eta \u001b[36m0:00:00\u001b[0m\n",
      "\u001b[?25hInstalling collected packages: tfds-nightly\n",
      "Successfully installed tfds-nightly-4.9.7.dev202503050044\n"
     ]
    }
   ],
   "source": [
    "!pip install --upgrade tfds-nightly"
   ]
  },
  {
   "cell_type": "code",
   "execution_count": 2,
   "metadata": {
    "id": "Anl-HMKDVNLB"
   },
   "outputs": [],
   "source": [
    "import os\n",
    "import pandas as pd\n",
    "import numpy as np\n",
    "import matplotlib.pyplot as plt"
   ]
  },
  {
   "cell_type": "code",
   "execution_count": 55,
   "metadata": {
    "id": "ukch0R0RVXzp"
   },
   "outputs": [],
   "source": [
    "from sklearn.preprocessing import LabelEncoder, OneHotEncoder, StandardScaler\n",
    "from sklearn.preprocessing import OneHotEncoder\n",
    "from sklearn.model_selection import train_test_split\n",
    "from sklearn.model_selection import StratifiedKFold\n",
    "from sklearn.utils.class_weight import compute_class_weight\n",
    "from sklearn.metrics import accuracy_score, precision_score, recall_score, roc_auc_score\n",
    "from sklearn.metrics import balanced_accuracy_score, confusion_matrix, classification_report, ConfusionMatrixDisplay\n",
    "from skimage.transform import resize"
   ]
  },
  {
   "cell_type": "code",
   "execution_count": 4,
   "metadata": {
    "id": "LbPWiJfyVaqI"
   },
   "outputs": [],
   "source": [
    "import tensorflow as tf\n",
    "import tensorflow_datasets as tfds\n",
    "from tensorflow.keras.utils import to_categorical\n",
    "from tensorflow.keras.models import Sequential\n",
    "from tensorflow.keras.layers import Input, Dense, Dropout\n",
    "from tensorflow.keras.metrics import Precision, Recall\n",
    "from tensorflow.keras.callbacks import EarlyStopping\n",
    "from tensorflow.keras.optimizers import Adam\n",
    "from tensorflow.keras.layers import BatchNormalization"
   ]
  },
  {
   "cell_type": "code",
   "execution_count": 5,
   "metadata": {
    "id": "Tqih8F2cVdKL"
   },
   "outputs": [],
   "source": [
    "SEED = 204\n",
    "tf.random.set_seed(SEED)\n",
    "np.random.seed(SEED)"
   ]
  },
  {
   "cell_type": "code",
   "execution_count": 6,
   "metadata": {
    "colab": {
     "base_uri": "https://localhost:8080/",
     "height": 153,
     "referenced_widgets": [
      "8b54ba02063441c491f4a55ce64e210f",
      "8ee340533f4e4c5c9bbaf033997b895d",
      "4c437f92f1b64c45850d86ab25629adb",
      "c45b995f94394a69ba0082ded560d262",
      "84ef733289a24d48bb2e3c2b259268e7",
      "d45d32026081453b92119b931246bb49",
      "2f09362a68fa49b59b6c8b967ba0ad7c",
      "a4b9119ebe024b4da6f9ad17e40789c9",
      "6284661b6e9f404cac3e3b45e60369b8",
      "ad8449b2233d4805bd6435b1d5858d66",
      "e733fbc3bfc04c4d8db09cfb63f59683",
      "f43927175b604a39801c246c44e6278d",
      "56c503776dca4d149ad5d19969d5fcb5",
      "a71f0cd96c0240b0a7d1037541be61f5",
      "39dcef18009d41ea84ffd4977937de46",
      "9e68688ab40e4e4da9dd8263335e89b0",
      "ff48c624a325458692b5bb146ebabb64",
      "8d2c361f90da4dd980dec0392d830802",
      "cd445ffaa58144079f74221ce41ffbc1",
      "3c59d7b666f341bf82dd8d29e0934b47",
      "4cbe0061b47d46afb7a867af6623d8e9",
      "be2059b4882f45019141c3e2b69e53de",
      "4f439bcf61e649799578b583fb950f78",
      "867b6090e19244ed9678b5324583c5db",
      "dc203713a2e348bfb2a4cab220d159aa",
      "cd95cad3ed9248d1b78cd732d5e83d28",
      "4f4573c82a8841f19998195cd95335d9",
      "1de1adb840fd4e0085d75ee569198024",
      "80de1ea83aae4b1da81b791f97d0942a",
      "a7be693be1a54a9bbaf938bf6bc191f8",
      "31be2072c3ef4c9c9d654d7fb09bab73",
      "8610f2b8c4e34cf5a5cb86d9793470d1",
      "4d47b971462c40c79afb154253316214",
      "bf445e16018e4986802d7f4b0ec77523",
      "374dc4acbdbd41f58d95b9c930da3e58",
      "153f41c5956e4d7f9cdf7459d0c3df3f",
      "ac84e1e81618403fa47b85d305db99ae",
      "cd1814fa12e2422fa6653df1085981e3",
      "d4505cd8890c43138eda8dd24e6cc07a",
      "708c3d8676b74958887bc9e1dd70ed6a",
      "4ac5214404414d9380b382dcab5c7248",
      "229c42c633b04e6298d67037a1654350",
      "6c6299b9df9c4e978d17e349fe8b7ed1",
      "f837149a103d493b9f898dcdcea31916",
      "f85fbe1026644e62ace59be7171a7056",
      "3b46f8e762f7426f9bcf822d98100616",
      "7d9b95588ad44776824e884ec86752fd",
      "3d6f12a2187c43f8b0244edaae16ee33",
      "8029032d6e404aca9dd1471b499ec821",
      "a4e1128594be47448395d693dca55b35",
      "1b2bb0517a0843bca8b24c06b4d3bfab",
      "9a89349b287b47eb8d91803945c4e20b",
      "49038ff321584f4b9e02ac80f99c4f0b",
      "59c76577bfc6443f89d3fe91f7d1a79a",
      "02828f3a416c42adba50396af21b61b9",
      "1faa47c18dcd4f6eb3669b03dbacf2a5",
      "b10b2f39b9294a9aac894830d9e6190f",
      "1a2e427f064d480fa01af3d97c29d92b",
      "b4dec34ccd3b47b2b280219d496703e1",
      "fc160c6d5469432790557a4cdc539169",
      "a588ccc1854c429db094e95b393c6b2f",
      "34e8ee2d716749948208e9e4000e4fe6",
      "51549734b8e0443b97af08ed085bfead",
      "42abd3030abd4130a9844627adfbb23f",
      "100e8809162c4f838f9153b495eb0a0b",
      "2f005c0b677c4d7ba19f70bb440792c2",
      "11241366811546f18b30a4c5f034c959",
      "5b4b7f22dbfe4fb587c5394efd289221",
      "44e69c59b7d9429f9d138ea6abc43f94",
      "4272f2f0e1154d7694358e00340a47e7",
      "f54abddfb36b47788b24741361f2abee",
      "7cc47da8bc7c450fa83a66e2f580d1e1",
      "ba1685000fab4d9f81f85793c24b9125",
      "37a44f8098c24d988daf59820a6b8556",
      "1a3bcc40cb6b4887b7d213e03696b73f",
      "0be812a9d32c4ac2be60ffccad51330e",
      "54147b7132784b56a763d0b30cc57d67",
      "f7b77592033b49659b93433f84420fe4",
      "a97d9d9dd13c404eae93e0c812a3fc64",
      "94f9217d699742098403da81003838f5",
      "007e31d7bcb745098ccd67d3cd41bf4f",
      "bbaf9400614749fe83d4d7ae0ccb912a",
      "e7be776c008848d886ce039fc50c6a99",
      "4fed55f1c78e493a9b39c6bbe079bd76",
      "57c6b8eb3e7c4fed992a47d005c2707b",
      "44f54c29e560449db7b9bae883417b37",
      "5a64c12043674c9fafb07776b61d3692",
      "a1ca4aedbf494671999cd6b6acbac8c1",
      "19eb3bfd7efd41b68a667d79018094a4",
      "e0539402d19b45abaa3a055dc6903f53",
      "ab97e3fb34044f548f7e7b3c1087087b",
      "36edae111bc04517bc40bd8555e26c32",
      "0ab6114945204376a35dc0009ef24bc9",
      "ca935ccf77824d4bac06e35092a3c848",
      "c411e4c6b089427d9a361444bd94b436",
      "80d5de8e83f74244ac76ab6ee995f9de",
      "95ae339757e946dabb91476c9f8d30c2",
      "70ca1db6598f4a4487ba6e28b9ac898f",
      "d9a2e30fbefa49e6a07de3f9fad0dfe8"
     ]
    },
    "id": "2LNZpjzkVhAs",
    "outputId": "60207c91-6636-424f-ff28-d7e9da30da5f"
   },
   "outputs": [
    {
     "name": "stderr",
     "output_type": "stream",
     "text": [
      "WARNING:absl:Variant folder /root/tensorflow_datasets/pneumonia_mnist/1.0.0 has no dataset_info.json\n"
     ]
    },
    {
     "name": "stdout",
     "output_type": "stream",
     "text": [
      "Downloading and preparing dataset Unknown size (download: Unknown size, generated: Unknown size, total: Unknown size) to /root/tensorflow_datasets/pneumonia_mnist/1.0.0...\n"
     ]
    },
    {
     "data": {
      "application/vnd.jupyter.widget-view+json": {
       "model_id": "8b54ba02063441c491f4a55ce64e210f",
       "version_major": 2,
       "version_minor": 0
      },
      "text/plain": [
       "Dl Completed...: 0 url [00:00, ? url/s]"
      ]
     },
     "metadata": {},
     "output_type": "display_data"
    },
    {
     "data": {
      "application/vnd.jupyter.widget-view+json": {
       "model_id": "f43927175b604a39801c246c44e6278d",
       "version_major": 2,
       "version_minor": 0
      },
      "text/plain": [
       "Dl Size...: 0 MiB [00:00, ? MiB/s]"
      ]
     },
     "metadata": {},
     "output_type": "display_data"
    },
    {
     "data": {
      "application/vnd.jupyter.widget-view+json": {
       "model_id": "4f439bcf61e649799578b583fb950f78",
       "version_major": 2,
       "version_minor": 0
      },
      "text/plain": [
       "Generating splits...:   0%|          | 0/3 [00:00<?, ? splits/s]"
      ]
     },
     "metadata": {},
     "output_type": "display_data"
    },
    {
     "data": {
      "application/vnd.jupyter.widget-view+json": {
       "model_id": "bf445e16018e4986802d7f4b0ec77523",
       "version_major": 2,
       "version_minor": 0
      },
      "text/plain": [
       "Generating train examples...: 0 examples [00:00, ? examples/s]"
      ]
     },
     "metadata": {},
     "output_type": "display_data"
    },
    {
     "data": {
      "application/vnd.jupyter.widget-view+json": {
       "model_id": "f85fbe1026644e62ace59be7171a7056",
       "version_major": 2,
       "version_minor": 0
      },
      "text/plain": [
       "Shuffling /root/tensorflow_datasets/pneumonia_mnist/incomplete.T74UQ8_1.0.0/pneumonia_mnist-train.tfrecord*...…"
      ]
     },
     "metadata": {},
     "output_type": "display_data"
    },
    {
     "data": {
      "application/vnd.jupyter.widget-view+json": {
       "model_id": "1faa47c18dcd4f6eb3669b03dbacf2a5",
       "version_major": 2,
       "version_minor": 0
      },
      "text/plain": [
       "Generating val examples...: 0 examples [00:00, ? examples/s]"
      ]
     },
     "metadata": {},
     "output_type": "display_data"
    },
    {
     "data": {
      "application/vnd.jupyter.widget-view+json": {
       "model_id": "11241366811546f18b30a4c5f034c959",
       "version_major": 2,
       "version_minor": 0
      },
      "text/plain": [
       "Shuffling /root/tensorflow_datasets/pneumonia_mnist/incomplete.T74UQ8_1.0.0/pneumonia_mnist-val.tfrecord*...: …"
      ]
     },
     "metadata": {},
     "output_type": "display_data"
    },
    {
     "data": {
      "application/vnd.jupyter.widget-view+json": {
       "model_id": "f7b77592033b49659b93433f84420fe4",
       "version_major": 2,
       "version_minor": 0
      },
      "text/plain": [
       "Generating test examples...: 0 examples [00:00, ? examples/s]"
      ]
     },
     "metadata": {},
     "output_type": "display_data"
    },
    {
     "data": {
      "application/vnd.jupyter.widget-view+json": {
       "model_id": "19eb3bfd7efd41b68a667d79018094a4",
       "version_major": 2,
       "version_minor": 0
      },
      "text/plain": [
       "Shuffling /root/tensorflow_datasets/pneumonia_mnist/incomplete.T74UQ8_1.0.0/pneumonia_mnist-test.tfrecord*...:…"
      ]
     },
     "metadata": {},
     "output_type": "display_data"
    },
    {
     "name": "stdout",
     "output_type": "stream",
     "text": [
      "Dataset pneumonia_mnist downloaded and prepared to /root/tensorflow_datasets/pneumonia_mnist/1.0.0. Subsequent calls will reuse this data.\n"
     ]
    }
   ],
   "source": [
    "DATASET = \"pneumonia_mnist\"\n",
    "RESIZE = (16, 16)\n",
    "\n",
    "dataset, info = tfds.load(DATASET, split='train+test', \n",
    "                          shuffle_files=True, \n",
    "                          as_supervised=True, with_info=True)"
   ]
  },
  {
   "cell_type": "code",
   "execution_count": 7,
   "metadata": {
    "id": "JQ9tI6EIVilC"
   },
   "outputs": [],
   "source": [
    "images, labels = [], []\n",
    "for image, label in tfds.as_numpy(dataset):\n",
    "    image = image.squeeze()\n",
    "    image = resize(image, RESIZE, anti_aliasing=True)\n",
    "    images.append(image)\n",
    "    labels.append(label)"
   ]
  },
  {
   "cell_type": "code",
   "execution_count": 8,
   "metadata": {
    "id": "S18a5hHpVn_b"
   },
   "outputs": [],
   "source": [
    "X = np.array(images)\n",
    "y = np.array(labels)"
   ]
  },
  {
   "cell_type": "code",
   "execution_count": 9,
   "metadata": {
    "id": "Grq2dCr5VrPp"
   },
   "outputs": [],
   "source": [
    "X = X.reshape(X.shape[0], -1)"
   ]
  },
  {
   "cell_type": "code",
   "execution_count": 10,
   "metadata": {
    "id": "Js3MVJB3Vulz"
   },
   "outputs": [],
   "source": [
    "TEST_SIZE = 0.20\n",
    "X_train, X_test, y_train, y_test = \n",
    "train_test_split(X, y, test_size=TEST_SIZE, \n",
    "                 stratify=y, random_state=SEED, shuffle=True)\n",
    "\n",
    "VALIDATION_SIZE_RATIO = 0.20\n",
    "VALIDATION_SIZE = int(X_train.shape[0] * VALIDATION_SIZE_RATIO)\n",
    "X_train, X_val, y_train, y_val = \n",
    "train_test_split(X_train, y_train, test_size=VALIDATION_SIZE, \n",
    "                 stratify=y_train, shuffle=True, random_state=SEED, \n",
    "                 train_size=None)"
   ]
  },
  {
   "cell_type": "code",
   "execution_count": 11,
   "metadata": {
    "id": "AmjqZN2ZV2Ht"
   },
   "outputs": [],
   "source": [
    "X_train, X_val, X_test = X_train / 255.0, X_val / \n",
    "                         255.0, X_test / 255.0"
   ]
  },
  {
   "cell_type": "code",
   "execution_count": 12,
   "metadata": {
    "colab": {
     "base_uri": "https://localhost:8080/"
    },
    "id": "Kjl3beliV-Ie",
    "outputId": "1217df5e-cea1-496c-9d3b-c1bba18b22a2"
   },
   "outputs": [
    {
     "name": "stdout",
     "output_type": "stream",
     "text": [
      "Data Shapes:\n",
      "X_train: (3412, 256) y_train: (3412,)\n",
      "X_val: (853, 256) y_val: (853,)\n",
      "X_test: (1067, 256) y_test: (1067,)\n"
     ]
    }
   ],
   "source": [
    "print(\"Data Shapes:\")\n",
    "print(\"X_train:\", X_train.shape, \"y_train:\", y_train.shape)\n",
    "print(\"X_val:\", X_val.shape, \"y_val:\", y_val.shape)\n",
    "print(\"X_test:\", X_test.shape, \"y_test:\", y_test.shape)"
   ]
  },
  {
   "cell_type": "markdown",
   "metadata": {
    "id": "lHrwEKLlZnL6"
   },
   "source": [
    "The data shapes above show that the dataset has been preprocessed successfully and can now be used for further model development."
   ]
  },
  {
   "cell_type": "markdown",
   "metadata": {
    "id": "s8qaA2RHZ9zS"
   },
   "source": [
    "## Developing a model that performs better than the baseline\n",
    "\n",
    "This step in the DLWP 4.5 (1st Edition) involves developing a simple model that performs better than the naive baseline. Doing this helps to ensure that the model is actively learning from the data, and is not always predicting the majority class or just randomly guessing. The naive baseline accuracy is first determined by taking the majority class's proportion in the training dataset."
   ]
  },
  {
   "cell_type": "code",
   "execution_count": 13,
   "metadata": {
    "colab": {
     "base_uri": "https://localhost:8080/"
    },
    "id": "-vQWRARYWAPW",
    "outputId": "1f20a842-33c5-41cb-dc04-dee5e7f7675d"
   },
   "outputs": [
    {
     "name": "stdout",
     "output_type": "stream",
     "text": [
      "Baseline Accuracy: 0.7286049237983587\n"
     ]
    }
   ],
   "source": [
    "counts = np.bincount(y_train)\n",
    "baseline = max(counts) / sum(counts)\n",
    "\n",
    "print(\"Baseline Accuracy:\", baseline)"
   ]
  },
  {
   "cell_type": "markdown",
   "metadata": {
    "id": "zngm91Z5kFYf"
   },
   "source": [
    "This shows that if the model were to always predict the majority class, which is pneumonia-negative, it would achieve an accuracy of approximately 72.86%. This means that the model that is developed will have to achieve an accuracy that exceeds the above to be considered working.\n",
    "\n",
    "Due to the high class inbalance in the dataset, accuracy alone is not a sufficient metric. Therefore, a custom F1-score is created using tensorflow in addition to using precision and recall."
   ]
  },
  {
   "cell_type": "code",
   "execution_count": 14,
   "metadata": {
    "id": "qz6zPURiblPi"
   },
   "outputs": [],
   "source": [
    "class F1Score(tf.keras.metrics.Metric):\n",
    "    def __init__(self, name=\"f1_score\", **kwargs):\n",
    "        super(F1Score, self).__init__(name=name, **kwargs)\n",
    "        self.precision = Precision()\n",
    "        self.recall = Recall()\n",
    "\n",
    "    def update_state(self, y_true, y_pred, sample_weight=None):\n",
    "        y_pred = tf.cast(y_pred > 0.5, tf.float32)\n",
    "        self.precision.update_state(y_true, y_pred, sample_weight)\n",
    "        self.recall.update_state(y_true, y_pred, sample_weight)\n",
    "\n",
    "    def result(self):\n",
    "        precision = self.precision.result()\n",
    "        recall = self.recall.result()\n",
    "        return 2 * ((precision * recall) / \n",
    "                    (precision + recall + tf.keras.backend.epsilon()))\n",
    "\n",
    "    def reset_state(self):\n",
    "        self.precision.reset_state()\n",
    "        self.recall.reset_state()\n"
   ]
  },
  {
   "cell_type": "markdown",
   "metadata": {
    "id": "RLGrrBlQl1cu"
   },
   "source": [
    "Next, a simple neural network model is created using tensorflow's keras API, with the function below defining a customisable model. The variations in the number of hidden layers, activation functions, and optimisation techniques can be edited through the process of developing the model. The binary crossentropy loss function and the sigmoid activation are used as the dataset has a binary classfication.\n",
    "The model is then trained with a helper function."
   ]
  },
  {
   "cell_type": "code",
   "execution_count": 15,
   "metadata": {
    "id": "Somy6RfDWMiv"
   },
   "outputs": [],
   "source": [
    "def deep_neural_network(hidden_layers=1, hidden_neurons=2, activation='sigmoid',\n",
    "                        input_dimension=256, output_dimension=1,\n",
    "                        optimizer='adam', loss='binary_crossentropy',\n",
    "                        metrics=[tf.keras.metrics.BinaryAccuracy(name='binary_accuracy'),\n",
    "                                 tf.keras.metrics.AUC(name='auc_pr', curve='PR'),\n",
    "                                 tf.keras.metrics.Precision(name='precision'),\n",
    "                                 tf.keras.metrics.Recall(name='recall'),\n",
    "                                 F1Score()],\n",
    "                        name=None):\n",
    "\n",
    "    model = Sequential()\n",
    "    model.add(Input(shape=(input_dimension,)))\n",
    "\n",
    "    for layer in range(hidden_layers):\n",
    "        model.add(Dense(hidden_neurons, activation=activation))\n",
    "        model.add(BatchNormalization())\n",
    "\n",
    "    model.add(Dense(output_dimension, activation='sigmoid'))\n",
    "\n",
    "    if name is not None:\n",
    "        model._name = name\n",
    "\n",
    "    model.compile(optimizer=optimizer, loss=loss, metrics=metrics)\n",
    "    return model"
   ]
  },
  {
   "cell_type": "code",
   "execution_count": 16,
   "metadata": {
    "id": "EwEKh-zcZovo"
   },
   "outputs": [],
   "source": [
    "def train_deep_neural_network(model, X, y, batch_size=128, \n",
    "                              epochs=30, val_data=None, \n",
    "                              callbacks=[], seed=0):\n",
    "    if val_data is None:\n",
    "        X_train, X_val, y_train, y_val = \n",
    "        train_test_split(X, y, test_size=0.2,\n",
    "                         random_state=seed, shuffle=True,\n",
    "                         stratify=y)\n",
    "    else:\n",
    "        X_train, y_train, X_val, y_val = X, y, val_data[0], val_data[1]\n",
    "\n",
    "    history = model.fit(X_train, y_train,\n",
    "                        batch_size=batch_size, epochs=epochs,\n",
    "                        validation_data=(X_val, y_val),\n",
    "                        callbacks=callbacks,\n",
    "                        verbose=1)\n",
    "\n",
    "    return {'model': model,\n",
    "            'val_score': model.evaluate(X_val, y_val, verbose=0)[1:],\n",
    "            'history': history}"
   ]
  },
  {
   "cell_type": "markdown",
   "metadata": {
    "id": "9pMrA4-Ym6T2"
   },
   "source": [
    "The model parameters are then defined where the input dimension is the number of input features the model will receive for each data sample and the output dimension of 1 is used as the dataset has a binary classification and the model will output a single value, either 0 or 1.\n",
    "\n",
    "The simple model was initally instantiated with 0 hidden layers and 0 hidden neurons as the goal of this step is to develop a single-layer simple model, however the accuracy did not improve beyond the naive baseline and remained at 0.73. This could possibly be due to the model not having enough capacity to learn the patterns and distinguish between the two classes. Therefore, the model is then edited to have 1 hidden layer and 2 hidden neurons to still try to keep it simple but also allow it to have the capacity to distinguish between the two classes. The sigmoid function is used as it helps to keep the output to a range between 0 and 1 (making the results interpretable as a possibility), which is highly beneficial for a binary classification. The adam optimiser is used as it is an efficient opitimiser that is compatible with various models, including this model."
   ]
  },
  {
   "cell_type": "code",
   "execution_count": 23,
   "metadata": {
    "colab": {
     "base_uri": "https://localhost:8080/",
     "height": 241
    },
    "id": "h_HNvGbPZsxt",
    "outputId": "2c0ef044-a175-462e-fae6-3c6ec26cbbcb"
   },
   "outputs": [
    {
     "data": {
      "text/html": [
       "<pre style=\"white-space:pre;overflow-x:auto;line-height:normal;font-family:Menlo,'DejaVu Sans Mono',consolas,'Courier New',monospace\"><span style=\"font-weight: bold\">Model: \"sequential_2\"</span>\n",
       "</pre>\n"
      ],
      "text/plain": [
       "\u001b[1mModel: \"sequential_2\"\u001b[0m\n"
      ]
     },
     "metadata": {},
     "output_type": "display_data"
    },
    {
     "data": {
      "text/html": [
       "<pre style=\"white-space:pre;overflow-x:auto;line-height:normal;font-family:Menlo,'DejaVu Sans Mono',consolas,'Courier New',monospace\">┏━━━━━━━━━━━━━━━━━━━━━━━━━━━━━━━━━━━━━━┳━━━━━━━━━━━━━━━━━━━━━━━━━━━━━┳━━━━━━━━━━━━━━━━━┓\n",
       "┃<span style=\"font-weight: bold\"> Layer (type)                         </span>┃<span style=\"font-weight: bold\"> Output Shape                </span>┃<span style=\"font-weight: bold\">         Param # </span>┃\n",
       "┡━━━━━━━━━━━━━━━━━━━━━━━━━━━━━━━━━━━━━━╇━━━━━━━━━━━━━━━━━━━━━━━━━━━━━╇━━━━━━━━━━━━━━━━━┩\n",
       "│ dense_3 (<span style=\"color: #0087ff; text-decoration-color: #0087ff\">Dense</span>)                      │ (<span style=\"color: #00d7ff; text-decoration-color: #00d7ff\">None</span>, <span style=\"color: #00af00; text-decoration-color: #00af00\">2</span>)                   │             <span style=\"color: #00af00; text-decoration-color: #00af00\">514</span> │\n",
       "├──────────────────────────────────────┼─────────────────────────────┼─────────────────┤\n",
       "│ batch_normalization_1                │ (<span style=\"color: #00d7ff; text-decoration-color: #00d7ff\">None</span>, <span style=\"color: #00af00; text-decoration-color: #00af00\">2</span>)                   │               <span style=\"color: #00af00; text-decoration-color: #00af00\">8</span> │\n",
       "│ (<span style=\"color: #0087ff; text-decoration-color: #0087ff\">BatchNormalization</span>)                 │                             │                 │\n",
       "├──────────────────────────────────────┼─────────────────────────────┼─────────────────┤\n",
       "│ dense_4 (<span style=\"color: #0087ff; text-decoration-color: #0087ff\">Dense</span>)                      │ (<span style=\"color: #00d7ff; text-decoration-color: #00d7ff\">None</span>, <span style=\"color: #00af00; text-decoration-color: #00af00\">1</span>)                   │               <span style=\"color: #00af00; text-decoration-color: #00af00\">3</span> │\n",
       "└──────────────────────────────────────┴─────────────────────────────┴─────────────────┘\n",
       "</pre>\n"
      ],
      "text/plain": [
       "┏━━━━━━━━━━━━━━━━━━━━━━━━━━━━━━━━━━━━━━┳━━━━━━━━━━━━━━━━━━━━━━━━━━━━━┳━━━━━━━━━━━━━━━━━┓\n",
       "┃\u001b[1m \u001b[0m\u001b[1mLayer (type)                        \u001b[0m\u001b[1m \u001b[0m┃\u001b[1m \u001b[0m\u001b[1mOutput Shape               \u001b[0m\u001b[1m \u001b[0m┃\u001b[1m \u001b[0m\u001b[1m        Param #\u001b[0m\u001b[1m \u001b[0m┃\n",
       "┡━━━━━━━━━━━━━━━━━━━━━━━━━━━━━━━━━━━━━━╇━━━━━━━━━━━━━━━━━━━━━━━━━━━━━╇━━━━━━━━━━━━━━━━━┩\n",
       "│ dense_3 (\u001b[38;5;33mDense\u001b[0m)                      │ (\u001b[38;5;45mNone\u001b[0m, \u001b[38;5;34m2\u001b[0m)                   │             \u001b[38;5;34m514\u001b[0m │\n",
       "├──────────────────────────────────────┼─────────────────────────────┼─────────────────┤\n",
       "│ batch_normalization_1                │ (\u001b[38;5;45mNone\u001b[0m, \u001b[38;5;34m2\u001b[0m)                   │               \u001b[38;5;34m8\u001b[0m │\n",
       "│ (\u001b[38;5;33mBatchNormalization\u001b[0m)                 │                             │                 │\n",
       "├──────────────────────────────────────┼─────────────────────────────┼─────────────────┤\n",
       "│ dense_4 (\u001b[38;5;33mDense\u001b[0m)                      │ (\u001b[38;5;45mNone\u001b[0m, \u001b[38;5;34m1\u001b[0m)                   │               \u001b[38;5;34m3\u001b[0m │\n",
       "└──────────────────────────────────────┴─────────────────────────────┴─────────────────┘\n"
      ]
     },
     "metadata": {},
     "output_type": "display_data"
    },
    {
     "data": {
      "text/html": [
       "<pre style=\"white-space:pre;overflow-x:auto;line-height:normal;font-family:Menlo,'DejaVu Sans Mono',consolas,'Courier New',monospace\"><span style=\"font-weight: bold\"> Total params: </span><span style=\"color: #00af00; text-decoration-color: #00af00\">525</span> (2.05 KB)\n",
       "</pre>\n"
      ],
      "text/plain": [
       "\u001b[1m Total params: \u001b[0m\u001b[38;5;34m525\u001b[0m (2.05 KB)\n"
      ]
     },
     "metadata": {},
     "output_type": "display_data"
    },
    {
     "data": {
      "text/html": [
       "<pre style=\"white-space:pre;overflow-x:auto;line-height:normal;font-family:Menlo,'DejaVu Sans Mono',consolas,'Courier New',monospace\"><span style=\"font-weight: bold\"> Trainable params: </span><span style=\"color: #00af00; text-decoration-color: #00af00\">521</span> (2.04 KB)\n",
       "</pre>\n"
      ],
      "text/plain": [
       "\u001b[1m Trainable params: \u001b[0m\u001b[38;5;34m521\u001b[0m (2.04 KB)\n"
      ]
     },
     "metadata": {},
     "output_type": "display_data"
    },
    {
     "data": {
      "text/html": [
       "<pre style=\"white-space:pre;overflow-x:auto;line-height:normal;font-family:Menlo,'DejaVu Sans Mono',consolas,'Courier New',monospace\"><span style=\"font-weight: bold\"> Non-trainable params: </span><span style=\"color: #00af00; text-decoration-color: #00af00\">4</span> (16.00 B)\n",
       "</pre>\n"
      ],
      "text/plain": [
       "\u001b[1m Non-trainable params: \u001b[0m\u001b[38;5;34m4\u001b[0m (16.00 B)\n"
      ]
     },
     "metadata": {},
     "output_type": "display_data"
    }
   ],
   "source": [
    "INPUT_DIMENSION = X_train.shape[1]\n",
    "OUTPUT_DIMENSION = 1\n",
    "\n",
    "simple_model = deep_neural_network(hidden_layers=1, \n",
    "                                   hidden_neurons=2, \n",
    "                                   activation='sigmoid',\n",
    "                                   input_dimension=INPUT_DIMENSION, \n",
    "                                   output_dimension=OUTPUT_DIMENSION,\n",
    "                                   optimizer=Adam(),\n",
    "                                   name=\"Pneumonia_Detection_Model\")\n",
    "\n",
    "simple_model.summary()"
   ]
  },
  {
   "cell_type": "markdown",
   "metadata": {
    "id": "3pKwCK9Yqewm"
   },
   "source": [
    "Parameters such as batch size and epochs are further defined before the model is trained. A batch size of 128 is used as it is an amount that is not too high or low and only 30 epochs are used as the training is for a simple model"
   ]
  },
  {
   "cell_type": "code",
   "execution_count": 24,
   "metadata": {
    "colab": {
     "base_uri": "https://localhost:8080/"
    },
    "id": "lO60Uh1AbqqQ",
    "outputId": "02bfde1e-b350-425e-bc30-0d8ca145dac7"
   },
   "outputs": [
    {
     "name": "stdout",
     "output_type": "stream",
     "text": [
      "Epoch 1/30\n",
      "\u001b[1m27/27\u001b[0m \u001b[32m━━━━━━━━━━━━━━━━━━━━\u001b[0m\u001b[37m\u001b[0m \u001b[1m4s\u001b[0m 52ms/step - auc_pr: 0.7839 - binary_accuracy: 0.6996 - f1_score: 0.8203 - loss: 0.6899 - precision: 0.7250 - recall: 0.9445 - val_auc_pr: 0.7280 - val_binary_accuracy: 0.2720 - val_f1_score: 0.0000e+00 - val_loss: 0.7603 - val_precision: 0.0000e+00 - val_recall: 0.0000e+00\n",
      "Epoch 2/30\n",
      "\u001b[1m27/27\u001b[0m \u001b[32m━━━━━━━━━━━━━━━━━━━━\u001b[0m\u001b[37m\u001b[0m \u001b[1m0s\u001b[0m 7ms/step - auc_pr: 0.8793 - binary_accuracy: 0.7235 - f1_score: 0.8395 - loss: 0.6766 - precision: 0.7235 - recall: 1.0000 - val_auc_pr: 0.7280 - val_binary_accuracy: 0.2720 - val_f1_score: 0.0000e+00 - val_loss: 0.7364 - val_precision: 0.0000e+00 - val_recall: 0.0000e+00\n",
      "Epoch 3/30\n",
      "\u001b[1m27/27\u001b[0m \u001b[32m━━━━━━━━━━━━━━━━━━━━\u001b[0m\u001b[37m\u001b[0m \u001b[1m0s\u001b[0m 7ms/step - auc_pr: 0.9290 - binary_accuracy: 0.7235 - f1_score: 0.8395 - loss: 0.6627 - precision: 0.7235 - recall: 1.0000 - val_auc_pr: 0.8019 - val_binary_accuracy: 0.2720 - val_f1_score: 0.0000e+00 - val_loss: 0.7140 - val_precision: 0.0000e+00 - val_recall: 0.0000e+00\n",
      "Epoch 4/30\n",
      "\u001b[1m27/27\u001b[0m \u001b[32m━━━━━━━━━━━━━━━━━━━━\u001b[0m\u001b[37m\u001b[0m \u001b[1m0s\u001b[0m 7ms/step - auc_pr: 0.9486 - binary_accuracy: 0.7235 - f1_score: 0.8395 - loss: 0.6481 - precision: 0.7235 - recall: 1.0000 - val_auc_pr: 0.7280 - val_binary_accuracy: 0.4572 - val_f1_score: 0.4072 - val_loss: 0.6930 - val_precision: 0.9937 - val_recall: 0.2560\n",
      "Epoch 5/30\n",
      "\u001b[1m27/27\u001b[0m \u001b[32m━━━━━━━━━━━━━━━━━━━━\u001b[0m\u001b[37m\u001b[0m \u001b[1m0s\u001b[0m 7ms/step - auc_pr: 0.9540 - binary_accuracy: 0.7235 - f1_score: 0.8395 - loss: 0.6330 - precision: 0.7235 - recall: 1.0000 - val_auc_pr: 0.7966 - val_binary_accuracy: 0.7280 - val_f1_score: 0.8426 - val_loss: 0.6734 - val_precision: 0.7280 - val_recall: 1.0000\n",
      "Epoch 6/30\n",
      "\u001b[1m27/27\u001b[0m \u001b[32m━━━━━━━━━━━━━━━━━━━━\u001b[0m\u001b[37m\u001b[0m \u001b[1m0s\u001b[0m 7ms/step - auc_pr: 0.9570 - binary_accuracy: 0.7235 - f1_score: 0.8395 - loss: 0.6174 - precision: 0.7235 - recall: 1.0000 - val_auc_pr: 0.8875 - val_binary_accuracy: 0.7280 - val_f1_score: 0.8426 - val_loss: 0.6555 - val_precision: 0.7280 - val_recall: 1.0000\n",
      "Epoch 7/30\n",
      "\u001b[1m27/27\u001b[0m \u001b[32m━━━━━━━━━━━━━━━━━━━━\u001b[0m\u001b[37m\u001b[0m \u001b[1m0s\u001b[0m 7ms/step - auc_pr: 0.9598 - binary_accuracy: 0.7235 - f1_score: 0.8395 - loss: 0.6017 - precision: 0.7235 - recall: 1.0000 - val_auc_pr: 0.8754 - val_binary_accuracy: 0.7280 - val_f1_score: 0.8426 - val_loss: 0.6393 - val_precision: 0.7280 - val_recall: 1.0000\n",
      "Epoch 8/30\n",
      "\u001b[1m27/27\u001b[0m \u001b[32m━━━━━━━━━━━━━━━━━━━━\u001b[0m\u001b[37m\u001b[0m \u001b[1m0s\u001b[0m 6ms/step - auc_pr: 0.9608 - binary_accuracy: 0.7235 - f1_score: 0.8395 - loss: 0.5860 - precision: 0.7235 - recall: 1.0000 - val_auc_pr: 0.9308 - val_binary_accuracy: 0.7280 - val_f1_score: 0.8426 - val_loss: 0.6248 - val_precision: 0.7280 - val_recall: 1.0000\n",
      "Epoch 9/30\n",
      "\u001b[1m27/27\u001b[0m \u001b[32m━━━━━━━━━━━━━━━━━━━━\u001b[0m\u001b[37m\u001b[0m \u001b[1m0s\u001b[0m 7ms/step - auc_pr: 0.9618 - binary_accuracy: 0.7235 - f1_score: 0.8395 - loss: 0.5706 - precision: 0.7235 - recall: 1.0000 - val_auc_pr: 0.9490 - val_binary_accuracy: 0.7280 - val_f1_score: 0.8426 - val_loss: 0.6120 - val_precision: 0.7280 - val_recall: 1.0000\n",
      "Epoch 10/30\n",
      "\u001b[1m27/27\u001b[0m \u001b[32m━━━━━━━━━━━━━━━━━━━━\u001b[0m\u001b[37m\u001b[0m \u001b[1m0s\u001b[0m 7ms/step - auc_pr: 0.9628 - binary_accuracy: 0.7238 - f1_score: 0.8397 - loss: 0.5554 - precision: 0.7237 - recall: 1.0000 - val_auc_pr: 0.9567 - val_binary_accuracy: 0.7280 - val_f1_score: 0.8426 - val_loss: 0.6005 - val_precision: 0.7280 - val_recall: 1.0000\n",
      "Epoch 11/30\n",
      "\u001b[1m27/27\u001b[0m \u001b[32m━━━━━━━━━━━━━━━━━━━━\u001b[0m\u001b[37m\u001b[0m \u001b[1m0s\u001b[0m 7ms/step - auc_pr: 0.9637 - binary_accuracy: 0.7244 - f1_score: 0.8400 - loss: 0.5407 - precision: 0.7242 - recall: 1.0000 - val_auc_pr: 0.9612 - val_binary_accuracy: 0.7280 - val_f1_score: 0.8426 - val_loss: 0.5905 - val_precision: 0.7280 - val_recall: 1.0000\n",
      "Epoch 12/30\n",
      "\u001b[1m27/27\u001b[0m \u001b[32m━━━━━━━━━━━━━━━━━━━━\u001b[0m\u001b[37m\u001b[0m \u001b[1m0s\u001b[0m 7ms/step - auc_pr: 0.9641 - binary_accuracy: 0.7263 - f1_score: 0.8409 - loss: 0.5264 - precision: 0.7255 - recall: 1.0000 - val_auc_pr: 0.9651 - val_binary_accuracy: 0.7280 - val_f1_score: 0.8426 - val_loss: 0.5815 - val_precision: 0.7280 - val_recall: 1.0000\n",
      "Epoch 13/30\n",
      "\u001b[1m27/27\u001b[0m \u001b[32m━━━━━━━━━━━━━━━━━━━━\u001b[0m\u001b[37m\u001b[0m \u001b[1m0s\u001b[0m 9ms/step - auc_pr: 0.9644 - binary_accuracy: 0.7299 - f1_score: 0.8427 - loss: 0.5125 - precision: 0.7282 - recall: 1.0000 - val_auc_pr: 0.9660 - val_binary_accuracy: 0.7280 - val_f1_score: 0.8426 - val_loss: 0.5729 - val_precision: 0.7280 - val_recall: 1.0000\n",
      "Epoch 14/30\n",
      "\u001b[1m27/27\u001b[0m \u001b[32m━━━━━━━━━━━━━━━━━━━━\u001b[0m\u001b[37m\u001b[0m \u001b[1m0s\u001b[0m 11ms/step - auc_pr: 0.9654 - binary_accuracy: 0.7347 - f1_score: 0.8451 - loss: 0.4988 - precision: 0.7318 - recall: 1.0000 - val_auc_pr: 0.9676 - val_binary_accuracy: 0.7280 - val_f1_score: 0.8426 - val_loss: 0.5645 - val_precision: 0.7280 - val_recall: 1.0000\n",
      "Epoch 15/30\n",
      "\u001b[1m27/27\u001b[0m \u001b[32m━━━━━━━━━━━━━━━━━━━━\u001b[0m\u001b[37m\u001b[0m \u001b[1m0s\u001b[0m 9ms/step - auc_pr: 0.9665 - binary_accuracy: 0.7402 - f1_score: 0.8477 - loss: 0.4854 - precision: 0.7359 - recall: 0.9998 - val_auc_pr: 0.9699 - val_binary_accuracy: 0.7280 - val_f1_score: 0.8426 - val_loss: 0.5558 - val_precision: 0.7280 - val_recall: 1.0000\n",
      "Epoch 16/30\n",
      "\u001b[1m27/27\u001b[0m \u001b[32m━━━━━━━━━━━━━━━━━━━━\u001b[0m\u001b[37m\u001b[0m \u001b[1m0s\u001b[0m 11ms/step - auc_pr: 0.9672 - binary_accuracy: 0.7498 - f1_score: 0.8525 - loss: 0.4722 - precision: 0.7433 - recall: 0.9994 - val_auc_pr: 0.9710 - val_binary_accuracy: 0.7280 - val_f1_score: 0.8426 - val_loss: 0.5463 - val_precision: 0.7280 - val_recall: 1.0000\n",
      "Epoch 17/30\n",
      "\u001b[1m27/27\u001b[0m \u001b[32m━━━━━━━━━━━━━━━━━━━━\u001b[0m\u001b[37m\u001b[0m \u001b[1m1s\u001b[0m 13ms/step - auc_pr: 0.9683 - binary_accuracy: 0.7611 - f1_score: 0.8582 - loss: 0.4590 - precision: 0.7522 - recall: 0.9992 - val_auc_pr: 0.9731 - val_binary_accuracy: 0.7280 - val_f1_score: 0.8426 - val_loss: 0.5357 - val_precision: 0.7280 - val_recall: 1.0000\n",
      "Epoch 18/30\n",
      "\u001b[1m27/27\u001b[0m \u001b[32m━━━━━━━━━━━━━━━━━━━━\u001b[0m\u001b[37m\u001b[0m \u001b[1m0s\u001b[0m 8ms/step - auc_pr: 0.9693 - binary_accuracy: 0.7757 - f1_score: 0.8656 - loss: 0.4459 - precision: 0.7639 - recall: 0.9988 - val_auc_pr: 0.9737 - val_binary_accuracy: 0.7280 - val_f1_score: 0.8426 - val_loss: 0.5237 - val_precision: 0.7280 - val_recall: 1.0000\n",
      "Epoch 19/30\n",
      "\u001b[1m27/27\u001b[0m \u001b[32m━━━━━━━━━━━━━━━━━━━━\u001b[0m\u001b[37m\u001b[0m \u001b[1m0s\u001b[0m 8ms/step - auc_pr: 0.9702 - binary_accuracy: 0.7841 - f1_score: 0.8699 - loss: 0.4329 - precision: 0.7712 - recall: 0.9976 - val_auc_pr: 0.9749 - val_binary_accuracy: 0.7280 - val_f1_score: 0.8426 - val_loss: 0.5100 - val_precision: 0.7280 - val_recall: 1.0000\n",
      "Epoch 20/30\n",
      "\u001b[1m27/27\u001b[0m \u001b[32m━━━━━━━━━━━━━━━━━━━━\u001b[0m\u001b[37m\u001b[0m \u001b[1m0s\u001b[0m 7ms/step - auc_pr: 0.9709 - binary_accuracy: 0.7980 - f1_score: 0.8772 - loss: 0.4201 - precision: 0.7829 - recall: 0.9976 - val_auc_pr: 0.9758 - val_binary_accuracy: 0.7280 - val_f1_score: 0.8426 - val_loss: 0.4945 - val_precision: 0.7280 - val_recall: 1.0000\n",
      "Epoch 21/30\n",
      "\u001b[1m27/27\u001b[0m \u001b[32m━━━━━━━━━━━━━━━━━━━━\u001b[0m\u001b[37m\u001b[0m \u001b[1m0s\u001b[0m 7ms/step - auc_pr: 0.9716 - binary_accuracy: 0.8112 - f1_score: 0.8841 - loss: 0.4074 - precision: 0.7957 - recall: 0.9947 - val_auc_pr: 0.9769 - val_binary_accuracy: 0.7315 - val_f1_score: 0.8443 - val_loss: 0.4775 - val_precision: 0.7306 - val_recall: 1.0000\n",
      "Epoch 22/30\n",
      "\u001b[1m27/27\u001b[0m \u001b[32m━━━━━━━━━━━━━━━━━━━━\u001b[0m\u001b[37m\u001b[0m \u001b[1m0s\u001b[0m 7ms/step - auc_pr: 0.9723 - binary_accuracy: 0.8215 - f1_score: 0.8895 - loss: 0.3949 - precision: 0.8056 - recall: 0.9932 - val_auc_pr: 0.9773 - val_binary_accuracy: 0.7456 - val_f1_score: 0.8513 - val_loss: 0.4591 - val_precision: 0.7411 - val_recall: 1.0000\n",
      "Epoch 23/30\n",
      "\u001b[1m27/27\u001b[0m \u001b[32m━━━━━━━━━━━━━━━━━━━━\u001b[0m\u001b[37m\u001b[0m \u001b[1m0s\u001b[0m 7ms/step - auc_pr: 0.9732 - binary_accuracy: 0.8352 - f1_score: 0.8971 - loss: 0.3829 - precision: 0.8182 - recall: 0.9929 - val_auc_pr: 0.9781 - val_binary_accuracy: 0.7655 - val_f1_score: 0.8613 - val_loss: 0.4398 - val_precision: 0.7564 - val_recall: 1.0000\n",
      "Epoch 24/30\n",
      "\u001b[1m27/27\u001b[0m \u001b[32m━━━━━━━━━━━━━━━━━━━━\u001b[0m\u001b[37m\u001b[0m \u001b[1m0s\u001b[0m 7ms/step - auc_pr: 0.9735 - binary_accuracy: 0.8440 - f1_score: 0.9020 - loss: 0.3712 - precision: 0.8271 - recall: 0.9918 - val_auc_pr: 0.9788 - val_binary_accuracy: 0.7819 - val_f1_score: 0.8696 - val_loss: 0.4201 - val_precision: 0.7702 - val_recall: 0.9984\n",
      "Epoch 25/30\n",
      "\u001b[1m27/27\u001b[0m \u001b[32m━━━━━━━━━━━━━━━━━━━━\u001b[0m\u001b[37m\u001b[0m \u001b[1m0s\u001b[0m 7ms/step - auc_pr: 0.9743 - binary_accuracy: 0.8526 - f1_score: 0.9068 - loss: 0.3600 - precision: 0.8358 - recall: 0.9909 - val_auc_pr: 0.9796 - val_binary_accuracy: 0.7995 - val_f1_score: 0.8786 - val_loss: 0.4006 - val_precision: 0.7855 - val_recall: 0.9968\n",
      "Epoch 26/30\n",
      "\u001b[1m27/27\u001b[0m \u001b[32m━━━━━━━━━━━━━━━━━━━━\u001b[0m\u001b[37m\u001b[0m \u001b[1m0s\u001b[0m 7ms/step - auc_pr: 0.9744 - binary_accuracy: 0.8601 - f1_score: 0.9109 - loss: 0.3494 - precision: 0.8448 - recall: 0.9882 - val_auc_pr: 0.9801 - val_binary_accuracy: 0.8195 - val_f1_score: 0.8889 - val_loss: 0.3819 - val_precision: 0.8052 - val_recall: 0.9919\n",
      "Epoch 27/30\n",
      "\u001b[1m27/27\u001b[0m \u001b[32m━━━━━━━━━━━━━━━━━━━━\u001b[0m\u001b[37m\u001b[0m \u001b[1m0s\u001b[0m 7ms/step - auc_pr: 0.9748 - binary_accuracy: 0.8647 - f1_score: 0.9131 - loss: 0.3393 - precision: 0.8524 - recall: 0.9832 - val_auc_pr: 0.9807 - val_binary_accuracy: 0.8359 - val_f1_score: 0.8977 - val_loss: 0.3644 - val_precision: 0.8220 - val_recall: 0.9887\n",
      "Epoch 28/30\n",
      "\u001b[1m27/27\u001b[0m \u001b[32m━━━━━━━━━━━━━━━━━━━━\u001b[0m\u001b[37m\u001b[0m \u001b[1m0s\u001b[0m 7ms/step - auc_pr: 0.9753 - binary_accuracy: 0.8725 - f1_score: 0.9176 - loss: 0.3298 - precision: 0.8616 - recall: 0.9815 - val_auc_pr: 0.9812 - val_binary_accuracy: 0.8558 - val_f1_score: 0.9088 - val_loss: 0.3484 - val_precision: 0.8420 - val_recall: 0.9871\n",
      "Epoch 29/30\n",
      "\u001b[1m27/27\u001b[0m \u001b[32m━━━━━━━━━━━━━━━━━━━━\u001b[0m\u001b[37m\u001b[0m \u001b[1m0s\u001b[0m 7ms/step - auc_pr: 0.9755 - binary_accuracy: 0.8803 - f1_score: 0.9222 - loss: 0.3209 - precision: 0.8706 - recall: 0.9804 - val_auc_pr: 0.9816 - val_binary_accuracy: 0.8640 - val_f1_score: 0.9133 - val_loss: 0.3342 - val_precision: 0.8522 - val_recall: 0.9839\n",
      "Epoch 30/30\n",
      "\u001b[1m27/27\u001b[0m \u001b[32m━━━━━━━━━━━━━━━━━━━━\u001b[0m\u001b[37m\u001b[0m \u001b[1m0s\u001b[0m 7ms/step - auc_pr: 0.9757 - binary_accuracy: 0.8821 - f1_score: 0.9231 - loss: 0.3126 - precision: 0.8740 - recall: 0.9782 - val_auc_pr: 0.9820 - val_binary_accuracy: 0.8687 - val_f1_score: 0.9157 - val_loss: 0.3215 - val_precision: 0.8600 - val_recall: 0.9791\n"
     ]
    }
   ],
   "source": [
    "batch_size = 128\n",
    "EPOCHS = 30\n",
    "\n",
    "trained_simple_model = train_deep_neural_network(simple_model, \n",
    "                                                 X_train, y_train,\n",
    "                                               batch_size=batch_size, \n",
    "                                                 epochs=EPOCHS,\n",
    "                                              val_data=(X_val, y_val),\n",
    "                                              seed=SEED)"
   ]
  },
  {
   "cell_type": "code",
   "execution_count": 25,
   "metadata": {
    "colab": {
     "base_uri": "https://localhost:8080/"
    },
    "id": "coCs4fgNOc_l",
    "outputId": "550edf93-b163-48a2-92a9-bbdc31454b55"
   },
   "outputs": [
    {
     "name": "stdout",
     "output_type": "stream",
     "text": [
      "Validation Accuracy: 0.87 (baseline=0.73)\n",
      "Training Precision: 0.88\n",
      "Training Recall: 0.97\n",
      "Training F1-score: 0.92\n",
      "Training AUC-PR: 0.98\n",
      "Validation Precision: 0.92\n",
      "Validation Recall: 0.98\n",
      "Validation F1-score: 0.92\n",
      "Validation AUC-PR: 0.98\n"
     ]
    }
   ],
   "source": [
    "print('Validation Accuracy: {:.2f} (baseline={:.2f})'.format(trained_simple_model['val_score'][0], baseline))\n",
    "\n",
    "print('Training Precision: {:.2f}'.format(trained_simple_model['history'].history['precision'][-1]))\n",
    "print('Training Recall: {:.2f}'.format(trained_simple_model['history'].history['recall'][-1]))\n",
    "print('Training F1-score: {:.2f}'.format(trained_simple_model['history'].history['f1_score'][-1]))\n",
    "print('Training AUC-PR: {:.2f}'.format(trained_simple_model['history'].history['auc_pr'][-1]))\n",
    "\n",
    "print('Validation Precision: {:.2f}'.format(trained_simple_model['val_score'][4]))\n",
    "print('Validation Recall: {:.2f}'.format(trained_simple_model['val_score'][3]))\n",
    "print('Validation F1-score: {:.2f}'.format(trained_simple_model['val_score'][4]))\n",
    "print('Validation AUC-PR: {:.2f}'.format(trained_simple_model['val_score'][1]))"
   ]
  },
  {
   "cell_type": "markdown",
   "metadata": {
    "id": "XBCEa-qkrmTd"
   },
   "source": [
    "The results above show that the validation accuracy for the simple model is at approximately 87%, which is higher than the naive baseline accuracy of 73%. This indicates that the simple model is successfully learning from the data. However, accuracy is not the most reliable metric for this dataset due to its imbalanced classes. Even if the model achieves a high accuracy, it could be misleading if the model is just good at predicting the majority class and is weak at detecting the minority class.\n",
    "\n",
    "From the training precision of 0.88 and validation precision of 0.92, it can be seen that out of all instances the model predicted as pneumonia-positive, 88% and 92% were actually positive respectively. This means both training and validation sets performed relatively well and false positive diagnoses are low.\n",
    "\n",
    "From the training recall of 0.97 and validation recall of 0.98, it can be seen that out of all actual pneumonia-positive cases, the model correctly identified 97% and 98% of them respectively. This suggests that both training and validation sets performed relatively well and the model is effective at capturing most of the positive cases in the training data .\n",
    "\n",
    "From the training and validation F1-scores of 0.92, it shows that there is good overall performance on both the training and validation data and that there is consistency in the performance.\n",
    "\n",
    "From the training and validation AUC-PR scores of 0.98, it indicates a strong performance in terms of the precision-recall trade-off across different probability thresholds.\n",
    "\n",
    "Overall, the metrics indicate that the model is performing significantly better than the baseline.\n",
    "\n"
   ]
  },
  {
   "cell_type": "code",
   "execution_count": 26,
   "metadata": {
    "colab": {
     "base_uri": "https://localhost:8080/",
     "height": 455
    },
    "id": "z4uukrCshdE7",
    "outputId": "8202ee9f-d154-4965-95e3-b8cb43eb1823"
   },
   "outputs": [
    {
     "data": {
      "image/png": "[encoded data removed]",
      "text/plain": [
       "<Figure size 1500x500 with 2 Axes>"
      ]
     },
     "metadata": {},
     "output_type": "display_data"
    }
   ],
   "source": [
    "def plot_training_history(history, monitors=['loss', 'auc_pr']):\n",
    "    fig, axs = plt.subplots(1, 2, sharex='all', figsize=(15, 5))\n",
    "\n",
    "    for ax, monitor in zip(axs.flat, monitors):\n",
    "        loss, val_loss = history.history[monitor], \n",
    "        history.history['val_' + monitor]\n",
    "\n",
    "        epochs = range(1, len(loss) + 1)\n",
    "\n",
    "        ax.plot(epochs, loss, 'b.', label=monitor)\n",
    "        ax.plot(epochs, val_loss, 'r.', \n",
    "                label='Validation ' + monitor)\n",
    "        ax.set_xlim([0, len(loss)])\n",
    "        ax.title.set_text('Training and Validation ' + monitor)\n",
    "        ax.set_xlabel('Epochs')\n",
    "        ax.set_ylabel(monitor)\n",
    "        ax.legend()\n",
    "        ax.grid()\n",
    "\n",
    "    plt.show()\n",
    "\n",
    "plot_training_history(trained_simple_model['history'], \n",
    "                      monitors=['loss', 'auc_pr'])\n"
   ]
  },
  {
   "cell_type": "markdown",
   "metadata": {
    "id": "gpPFshUHUbF-"
   },
   "source": [
    "From the plot above, the training loss starts relatively high (around 0.7) and decreases consistently and smoothly over the epochs, and eventually reaches a low value by the end of training (around 0.3). The decrease is smooth with no big variation, indicating the model is effectively learning from the training data and reducing the loss function value over time. Similarly, the validation loss also starts high and decreases throughout the training process. The validation loss curve is very close to the training loss curve, and no significant divergence is observed between the training and validation loss curves. This suggests that the model is not severely overfitting to the training data.\n",
    "\n",
    "The training AUC-PR starts at a lower value, increases rapidly in the initial epochs and reaches a very high value (around 0.95) before continuing to increase slightly and plateau at around 0.98. This indicates the model's performance is improving quickly during training and rapidly reaches a high level. Similarly, the validation AUC-PR increases rapidly before plateauing. The performance of the validation AUC-PR curve is very close to the training AUC-PR curve, with no significant divergence, indicating consistent improvement and good generalisation in terms of AUC-PR."
   ]
  },
  {
   "cell_type": "markdown",
   "metadata": {
    "id": "q_KSzpb1txpe"
   },
   "source": [
    "## Developing a model that overfits\n",
    "\n",
    "The next step in the DLWP 4.5 workflow (1st Edition) is to deliberately create an overfitting model. The intended output for this section would be for the model to perform exceptionally well on training data but fail to generalise to unseen data. Carrying out overfitting helps to visualise the risks of overfitting and lead to the next step where regularisation and hypertuning will be used to mitigate it and improve the model.\n",
    "\n",
    "To induce overfitting, a deep neural network is defined with multiple hidden layers and a high number of neurons. The reLU activation is applied to the hidden layers to allow non-linear transformations and can help to create models with higher capacity which contributes to overfitting. The sigmoid activation is used in the output layer as the dataset is a binary classification. Batch normalisation is used as well to stabilise training and accelerate convergence."
   ]
  },
  {
   "cell_type": "code",
   "execution_count": 27,
   "metadata": {
    "id": "aMtzTsTNttqt"
   },
   "outputs": [],
   "source": [
    "def overfitting_neural_network(hidden_layers=3, hidden_neurons=512, \n",
    "                               activation='relu',\n",
    "                               input_dimension=256, \n",
    "                               output_dimension=1,\n",
    "                               optimizer=Adam(), \n",
    "                               loss='binary_crossentropy',\n",
    "                               metrics=[tf.keras.metrics.BinaryAccuracy(name='binary_accuracy'),\n",
    "                                        tf.keras.metrics.AUC(name='auc_pr', curve='PR'),\n",
    "                                        tf.keras.metrics.Precision(name='precision'),\n",
    "                                        tf.keras.metrics.Recall(name='recall'),\n",
    "                                        F1Score()],\n",
    "                               name='Overfitting_Model'):\n",
    "\n",
    "    model = Sequential()\n",
    "    model.add(Input(shape=(input_dimension,)))\n",
    "\n",
    "    for _ in range(hidden_layers):\n",
    "        model.add(Dense(hidden_neurons, activation=activation))\n",
    "        model.add(BatchNormalization())\n",
    "\n",
    "    model.add(Dense(output_dimension, activation='sigmoid'))\n",
    "    model.compile(optimizer=optimizer, loss=loss, metrics=metrics)\n",
    "    return model"
   ]
  },
  {
   "cell_type": "markdown",
   "metadata": {
    "id": "9ShmXjm1hTkd"
   },
   "source": [
    "The training data size is reduced, preventing the model from learning generalised patterns and allow it to memorise the data instead, encouraging overfitting."
   ]
  },
  {
   "cell_type": "code",
   "execution_count": 28,
   "metadata": {
    "id": "y5Qry_j2ugFV"
   },
   "outputs": [],
   "source": [
    "X_train_small = X_train[:500]\n",
    "y_train_small = y_train[:500]"
   ]
  },
  {
   "cell_type": "markdown",
   "metadata": {
    "id": "TsL1_ctvhnAO"
   },
   "source": [
    "The model parameters are futher defined here where the number of epochs have been increased to 50 to allow the model to fit the training data excessively and a smaller batch size of 16 is used to increase variance in weight update, making the model more sensitive to noise. A deeper architecture is used as well, with 3 hidden layers each with 128 neurons to increase model complexity."
   ]
  },
  {
   "cell_type": "code",
   "execution_count": 29,
   "metadata": {
    "id": "MTS2ydtgwNOx"
   },
   "outputs": [],
   "source": [
    "INPUT_DIMENSION = X_train.shape[1]\n",
    "OUTPUT_DIMENSION = 1\n",
    "EPOCHS = 50\n",
    "BATCH_SIZE = 16"
   ]
  },
  {
   "cell_type": "code",
   "execution_count": 30,
   "metadata": {
    "colab": {
     "base_uri": "https://localhost:8080/",
     "height": 401
    },
    "id": "ESItpCNowPvN",
    "outputId": "bd07dd73-84c3-4c6d-bbc2-dc11b06c5bfe"
   },
   "outputs": [
    {
     "data": {
      "text/html": [
       "<pre style=\"white-space:pre;overflow-x:auto;line-height:normal;font-family:Menlo,'DejaVu Sans Mono',consolas,'Courier New',monospace\"><span style=\"font-weight: bold\">Model: \"sequential_3\"</span>\n",
       "</pre>\n"
      ],
      "text/plain": [
       "\u001b[1mModel: \"sequential_3\"\u001b[0m\n"
      ]
     },
     "metadata": {},
     "output_type": "display_data"
    },
    {
     "data": {
      "text/html": [
       "<pre style=\"white-space:pre;overflow-x:auto;line-height:normal;font-family:Menlo,'DejaVu Sans Mono',consolas,'Courier New',monospace\">┏━━━━━━━━━━━━━━━━━━━━━━━━━━━━━━━━━━━━━━┳━━━━━━━━━━━━━━━━━━━━━━━━━━━━━┳━━━━━━━━━━━━━━━━━┓\n",
       "┃<span style=\"font-weight: bold\"> Layer (type)                         </span>┃<span style=\"font-weight: bold\"> Output Shape                </span>┃<span style=\"font-weight: bold\">         Param # </span>┃\n",
       "┡━━━━━━━━━━━━━━━━━━━━━━━━━━━━━━━━━━━━━━╇━━━━━━━━━━━━━━━━━━━━━━━━━━━━━╇━━━━━━━━━━━━━━━━━┩\n",
       "│ dense_5 (<span style=\"color: #0087ff; text-decoration-color: #0087ff\">Dense</span>)                      │ (<span style=\"color: #00d7ff; text-decoration-color: #00d7ff\">None</span>, <span style=\"color: #00af00; text-decoration-color: #00af00\">128</span>)                 │          <span style=\"color: #00af00; text-decoration-color: #00af00\">32,896</span> │\n",
       "├──────────────────────────────────────┼─────────────────────────────┼─────────────────┤\n",
       "│ batch_normalization_2                │ (<span style=\"color: #00d7ff; text-decoration-color: #00d7ff\">None</span>, <span style=\"color: #00af00; text-decoration-color: #00af00\">128</span>)                 │             <span style=\"color: #00af00; text-decoration-color: #00af00\">512</span> │\n",
       "│ (<span style=\"color: #0087ff; text-decoration-color: #0087ff\">BatchNormalization</span>)                 │                             │                 │\n",
       "├──────────────────────────────────────┼─────────────────────────────┼─────────────────┤\n",
       "│ dense_6 (<span style=\"color: #0087ff; text-decoration-color: #0087ff\">Dense</span>)                      │ (<span style=\"color: #00d7ff; text-decoration-color: #00d7ff\">None</span>, <span style=\"color: #00af00; text-decoration-color: #00af00\">128</span>)                 │          <span style=\"color: #00af00; text-decoration-color: #00af00\">16,512</span> │\n",
       "├──────────────────────────────────────┼─────────────────────────────┼─────────────────┤\n",
       "│ batch_normalization_3                │ (<span style=\"color: #00d7ff; text-decoration-color: #00d7ff\">None</span>, <span style=\"color: #00af00; text-decoration-color: #00af00\">128</span>)                 │             <span style=\"color: #00af00; text-decoration-color: #00af00\">512</span> │\n",
       "│ (<span style=\"color: #0087ff; text-decoration-color: #0087ff\">BatchNormalization</span>)                 │                             │                 │\n",
       "├──────────────────────────────────────┼─────────────────────────────┼─────────────────┤\n",
       "│ dense_7 (<span style=\"color: #0087ff; text-decoration-color: #0087ff\">Dense</span>)                      │ (<span style=\"color: #00d7ff; text-decoration-color: #00d7ff\">None</span>, <span style=\"color: #00af00; text-decoration-color: #00af00\">128</span>)                 │          <span style=\"color: #00af00; text-decoration-color: #00af00\">16,512</span> │\n",
       "├──────────────────────────────────────┼─────────────────────────────┼─────────────────┤\n",
       "│ batch_normalization_4                │ (<span style=\"color: #00d7ff; text-decoration-color: #00d7ff\">None</span>, <span style=\"color: #00af00; text-decoration-color: #00af00\">128</span>)                 │             <span style=\"color: #00af00; text-decoration-color: #00af00\">512</span> │\n",
       "│ (<span style=\"color: #0087ff; text-decoration-color: #0087ff\">BatchNormalization</span>)                 │                             │                 │\n",
       "├──────────────────────────────────────┼─────────────────────────────┼─────────────────┤\n",
       "│ dense_8 (<span style=\"color: #0087ff; text-decoration-color: #0087ff\">Dense</span>)                      │ (<span style=\"color: #00d7ff; text-decoration-color: #00d7ff\">None</span>, <span style=\"color: #00af00; text-decoration-color: #00af00\">1</span>)                   │             <span style=\"color: #00af00; text-decoration-color: #00af00\">129</span> │\n",
       "└──────────────────────────────────────┴─────────────────────────────┴─────────────────┘\n",
       "</pre>\n"
      ],
      "text/plain": [
       "┏━━━━━━━━━━━━━━━━━━━━━━━━━━━━━━━━━━━━━━┳━━━━━━━━━━━━━━━━━━━━━━━━━━━━━┳━━━━━━━━━━━━━━━━━┓\n",
       "┃\u001b[1m \u001b[0m\u001b[1mLayer (type)                        \u001b[0m\u001b[1m \u001b[0m┃\u001b[1m \u001b[0m\u001b[1mOutput Shape               \u001b[0m\u001b[1m \u001b[0m┃\u001b[1m \u001b[0m\u001b[1m        Param #\u001b[0m\u001b[1m \u001b[0m┃\n",
       "┡━━━━━━━━━━━━━━━━━━━━━━━━━━━━━━━━━━━━━━╇━━━━━━━━━━━━━━━━━━━━━━━━━━━━━╇━━━━━━━━━━━━━━━━━┩\n",
       "│ dense_5 (\u001b[38;5;33mDense\u001b[0m)                      │ (\u001b[38;5;45mNone\u001b[0m, \u001b[38;5;34m128\u001b[0m)                 │          \u001b[38;5;34m32,896\u001b[0m │\n",
       "├──────────────────────────────────────┼─────────────────────────────┼─────────────────┤\n",
       "│ batch_normalization_2                │ (\u001b[38;5;45mNone\u001b[0m, \u001b[38;5;34m128\u001b[0m)                 │             \u001b[38;5;34m512\u001b[0m │\n",
       "│ (\u001b[38;5;33mBatchNormalization\u001b[0m)                 │                             │                 │\n",
       "├──────────────────────────────────────┼─────────────────────────────┼─────────────────┤\n",
       "│ dense_6 (\u001b[38;5;33mDense\u001b[0m)                      │ (\u001b[38;5;45mNone\u001b[0m, \u001b[38;5;34m128\u001b[0m)                 │          \u001b[38;5;34m16,512\u001b[0m │\n",
       "├──────────────────────────────────────┼─────────────────────────────┼─────────────────┤\n",
       "│ batch_normalization_3                │ (\u001b[38;5;45mNone\u001b[0m, \u001b[38;5;34m128\u001b[0m)                 │             \u001b[38;5;34m512\u001b[0m │\n",
       "│ (\u001b[38;5;33mBatchNormalization\u001b[0m)                 │                             │                 │\n",
       "├──────────────────────────────────────┼─────────────────────────────┼─────────────────┤\n",
       "│ dense_7 (\u001b[38;5;33mDense\u001b[0m)                      │ (\u001b[38;5;45mNone\u001b[0m, \u001b[38;5;34m128\u001b[0m)                 │          \u001b[38;5;34m16,512\u001b[0m │\n",
       "├──────────────────────────────────────┼─────────────────────────────┼─────────────────┤\n",
       "│ batch_normalization_4                │ (\u001b[38;5;45mNone\u001b[0m, \u001b[38;5;34m128\u001b[0m)                 │             \u001b[38;5;34m512\u001b[0m │\n",
       "│ (\u001b[38;5;33mBatchNormalization\u001b[0m)                 │                             │                 │\n",
       "├──────────────────────────────────────┼─────────────────────────────┼─────────────────┤\n",
       "│ dense_8 (\u001b[38;5;33mDense\u001b[0m)                      │ (\u001b[38;5;45mNone\u001b[0m, \u001b[38;5;34m1\u001b[0m)                   │             \u001b[38;5;34m129\u001b[0m │\n",
       "└──────────────────────────────────────┴─────────────────────────────┴─────────────────┘\n"
      ]
     },
     "metadata": {},
     "output_type": "display_data"
    },
    {
     "data": {
      "text/html": [
       "<pre style=\"white-space:pre;overflow-x:auto;line-height:normal;font-family:Menlo,'DejaVu Sans Mono',consolas,'Courier New',monospace\"><span style=\"font-weight: bold\"> Total params: </span><span style=\"color: #00af00; text-decoration-color: #00af00\">67,585</span> (264.00 KB)\n",
       "</pre>\n"
      ],
      "text/plain": [
       "\u001b[1m Total params: \u001b[0m\u001b[38;5;34m67,585\u001b[0m (264.00 KB)\n"
      ]
     },
     "metadata": {},
     "output_type": "display_data"
    },
    {
     "data": {
      "text/html": [
       "<pre style=\"white-space:pre;overflow-x:auto;line-height:normal;font-family:Menlo,'DejaVu Sans Mono',consolas,'Courier New',monospace\"><span style=\"font-weight: bold\"> Trainable params: </span><span style=\"color: #00af00; text-decoration-color: #00af00\">66,817</span> (261.00 KB)\n",
       "</pre>\n"
      ],
      "text/plain": [
       "\u001b[1m Trainable params: \u001b[0m\u001b[38;5;34m66,817\u001b[0m (261.00 KB)\n"
      ]
     },
     "metadata": {},
     "output_type": "display_data"
    },
    {
     "data": {
      "text/html": [
       "<pre style=\"white-space:pre;overflow-x:auto;line-height:normal;font-family:Menlo,'DejaVu Sans Mono',consolas,'Courier New',monospace\"><span style=\"font-weight: bold\"> Non-trainable params: </span><span style=\"color: #00af00; text-decoration-color: #00af00\">768</span> (3.00 KB)\n",
       "</pre>\n"
      ],
      "text/plain": [
       "\u001b[1m Non-trainable params: \u001b[0m\u001b[38;5;34m768\u001b[0m (3.00 KB)\n"
      ]
     },
     "metadata": {},
     "output_type": "display_data"
    }
   ],
   "source": [
    "overfit_model = overfitting_neural_network(hidden_layers=3, \n",
    "                                           hidden_neurons=128,\n",
    "                                           activation='relu',\n",
    "                                           input_dimension=INPUT_DIMENSION,\n",
    "                                           output_dimension=OUTPUT_DIMENSION)\n",
    "\n",
    "overfit_model.summary()"
   ]
  },
  {
   "cell_type": "code",
   "execution_count": 31,
   "metadata": {
    "colab": {
     "base_uri": "https://localhost:8080/"
    },
    "id": "-uWSGb8nwRHr",
    "outputId": "5ece3898-c989-40fb-908c-150a0679fb7c"
   },
   "outputs": [
    {
     "name": "stdout",
     "output_type": "stream",
     "text": [
      "Epoch 1/50\n",
      "\u001b[1m32/32\u001b[0m \u001b[32m━━━━━━━━━━━━━━━━━━━━\u001b[0m\u001b[37m\u001b[0m \u001b[1m6s\u001b[0m 37ms/step - auc_pr: 0.9646 - binary_accuracy: 0.8049 - f1_score: 0.8480 - loss: 0.4415 - precision: 0.9466 - recall: 0.7695 - val_auc_pr: 0.7280 - val_binary_accuracy: 0.7280 - val_f1_score: 0.8426 - val_loss: 0.6231 - val_precision: 0.7280 - val_recall: 1.0000\n",
      "Epoch 2/50\n",
      "\u001b[1m32/32\u001b[0m \u001b[32m━━━━━━━━━━━━━━━━━━━━\u001b[0m\u001b[37m\u001b[0m \u001b[1m0s\u001b[0m 9ms/step - auc_pr: 0.9929 - binary_accuracy: 0.9431 - f1_score: 0.9594 - loss: 0.1740 - precision: 0.9623 - recall: 0.9567 - val_auc_pr: 0.7384 - val_binary_accuracy: 0.7280 - val_f1_score: 0.8426 - val_loss: 0.5987 - val_precision: 0.7280 - val_recall: 1.0000\n",
      "Epoch 3/50\n",
      "\u001b[1m32/32\u001b[0m \u001b[32m━━━━━━━━━━━━━━━━━━━━\u001b[0m\u001b[37m\u001b[0m \u001b[1m0s\u001b[0m 9ms/step - auc_pr: 0.9975 - binary_accuracy: 0.9645 - f1_score: 0.9750 - loss: 0.1109 - precision: 0.9774 - recall: 0.9727 - val_auc_pr: 0.9017 - val_binary_accuracy: 0.7280 - val_f1_score: 0.8426 - val_loss: 0.5860 - val_precision: 0.7280 - val_recall: 1.0000\n",
      "Epoch 4/50\n",
      "\u001b[1m32/32\u001b[0m \u001b[32m━━━━━━━━━━━━━━━━━━━━\u001b[0m\u001b[37m\u001b[0m \u001b[1m0s\u001b[0m 9ms/step - auc_pr: 0.9988 - binary_accuracy: 0.9863 - f1_score: 0.9903 - loss: 0.0731 - precision: 0.9918 - recall: 0.9889 - val_auc_pr: 0.7537 - val_binary_accuracy: 0.7280 - val_f1_score: 0.8426 - val_loss: 0.5835 - val_precision: 0.7280 - val_recall: 1.0000\n",
      "Epoch 5/50\n",
      "\u001b[1m32/32\u001b[0m \u001b[32m━━━━━━━━━━━━━━━━━━━━\u001b[0m\u001b[37m\u001b[0m \u001b[1m0s\u001b[0m 9ms/step - auc_pr: 0.9998 - binary_accuracy: 0.9937 - f1_score: 0.9955 - loss: 0.0519 - precision: 0.9955 - recall: 0.9954 - val_auc_pr: 0.8991 - val_binary_accuracy: 0.7280 - val_f1_score: 0.8426 - val_loss: 0.5871 - val_precision: 0.7280 - val_recall: 1.0000\n",
      "Epoch 6/50\n",
      "\u001b[1m32/32\u001b[0m \u001b[32m━━━━━━━━━━━━━━━━━━━━\u001b[0m\u001b[37m\u001b[0m \u001b[1m1s\u001b[0m 9ms/step - auc_pr: 1.0000 - binary_accuracy: 0.9965 - f1_score: 0.9975 - loss: 0.0358 - precision: 0.9955 - recall: 0.9995 - val_auc_pr: 0.9258 - val_binary_accuracy: 0.7280 - val_f1_score: 0.8426 - val_loss: 0.5954 - val_precision: 0.7280 - val_recall: 1.0000\n",
      "Epoch 7/50\n",
      "\u001b[1m32/32\u001b[0m \u001b[32m━━━━━━━━━━━━━━━━━━━━\u001b[0m\u001b[37m\u001b[0m \u001b[1m0s\u001b[0m 9ms/step - auc_pr: 1.0000 - binary_accuracy: 0.9965 - f1_score: 0.9975 - loss: 0.0262 - precision: 0.9955 - recall: 0.9995 - val_auc_pr: 0.9325 - val_binary_accuracy: 0.7280 - val_f1_score: 0.8426 - val_loss: 0.6081 - val_precision: 0.7280 - val_recall: 1.0000\n",
      "Epoch 8/50\n",
      "\u001b[1m32/32\u001b[0m \u001b[32m━━━━━━━━━━━━━━━━━━━━\u001b[0m\u001b[37m\u001b[0m \u001b[1m1s\u001b[0m 9ms/step - auc_pr: 1.0000 - binary_accuracy: 0.9951 - f1_score: 0.9965 - loss: 0.0205 - precision: 0.9948 - recall: 0.9981 - val_auc_pr: 0.9394 - val_binary_accuracy: 0.7280 - val_f1_score: 0.8426 - val_loss: 0.6312 - val_precision: 0.7280 - val_recall: 1.0000\n",
      "Epoch 9/50\n",
      "\u001b[1m32/32\u001b[0m \u001b[32m━━━━━━━━━━━━━━━━━━━━\u001b[0m\u001b[37m\u001b[0m \u001b[1m0s\u001b[0m 9ms/step - auc_pr: 0.9998 - binary_accuracy: 0.9902 - f1_score: 0.9930 - loss: 0.0337 - precision: 0.9924 - recall: 0.9936 - val_auc_pr: 0.9612 - val_binary_accuracy: 0.7280 - val_f1_score: 0.8426 - val_loss: 0.6215 - val_precision: 0.7280 - val_recall: 1.0000\n",
      "Epoch 10/50\n",
      "\u001b[1m32/32\u001b[0m \u001b[32m━━━━━━━━━━━━━━━━━━━━\u001b[0m\u001b[37m\u001b[0m \u001b[1m0s\u001b[0m 9ms/step - auc_pr: 0.9999 - binary_accuracy: 0.9993 - f1_score: 0.9995 - loss: 0.0314 - precision: 1.0000 - recall: 0.9990 - val_auc_pr: 0.9274 - val_binary_accuracy: 0.7280 - val_f1_score: 0.8426 - val_loss: 0.6359 - val_precision: 0.7280 - val_recall: 1.0000\n",
      "Epoch 11/50\n",
      "\u001b[1m32/32\u001b[0m \u001b[32m━━━━━━━━━━━━━━━━━━━━\u001b[0m\u001b[37m\u001b[0m \u001b[1m0s\u001b[0m 9ms/step - auc_pr: 0.9997 - binary_accuracy: 0.9842 - f1_score: 0.9888 - loss: 0.0479 - precision: 0.9849 - recall: 0.9927 - val_auc_pr: 0.9714 - val_binary_accuracy: 0.7280 - val_f1_score: 0.8426 - val_loss: 0.6102 - val_precision: 0.7280 - val_recall: 1.0000\n",
      "Epoch 12/50\n",
      "\u001b[1m32/32\u001b[0m \u001b[32m━━━━━━━━━━━━━━━━━━━━\u001b[0m\u001b[37m\u001b[0m \u001b[1m1s\u001b[0m 9ms/step - auc_pr: 0.9999 - binary_accuracy: 0.9919 - f1_score: 0.9942 - loss: 0.0327 - precision: 0.9911 - recall: 0.9973 - val_auc_pr: 0.9716 - val_binary_accuracy: 0.7280 - val_f1_score: 0.8426 - val_loss: 0.6701 - val_precision: 0.7280 - val_recall: 1.0000\n",
      "Epoch 13/50\n",
      "\u001b[1m32/32\u001b[0m \u001b[32m━━━━━━━━━━━━━━━━━━━━\u001b[0m\u001b[37m\u001b[0m \u001b[1m0s\u001b[0m 9ms/step - auc_pr: 1.0000 - binary_accuracy: 1.0000 - f1_score: 1.0000 - loss: 0.0160 - precision: 1.0000 - recall: 1.0000 - val_auc_pr: 0.9813 - val_binary_accuracy: 0.7280 - val_f1_score: 0.8426 - val_loss: 0.5707 - val_precision: 0.7280 - val_recall: 1.0000\n",
      "Epoch 14/50\n",
      "\u001b[1m32/32\u001b[0m \u001b[32m━━━━━━━━━━━━━━━━━━━━\u001b[0m\u001b[37m\u001b[0m \u001b[1m0s\u001b[0m 9ms/step - auc_pr: 1.0000 - binary_accuracy: 1.0000 - f1_score: 1.0000 - loss: 0.0093 - precision: 1.0000 - recall: 1.0000 - val_auc_pr: 0.9862 - val_binary_accuracy: 0.7292 - val_f1_score: 0.8432 - val_loss: 0.4780 - val_precision: 0.7289 - val_recall: 1.0000\n",
      "Epoch 15/50\n",
      "\u001b[1m32/32\u001b[0m \u001b[32m━━━━━━━━━━━━━━━━━━━━\u001b[0m\u001b[37m\u001b[0m \u001b[1m1s\u001b[0m 9ms/step - auc_pr: 1.0000 - binary_accuracy: 1.0000 - f1_score: 1.0000 - loss: 0.0058 - precision: 1.0000 - recall: 1.0000 - val_auc_pr: 0.9868 - val_binary_accuracy: 0.7749 - val_f1_score: 0.8661 - val_loss: 0.3858 - val_precision: 0.7638 - val_recall: 1.0000\n",
      "Epoch 16/50\n",
      "\u001b[1m32/32\u001b[0m \u001b[32m━━━━━━━━━━━━━━━━━━━━\u001b[0m\u001b[37m\u001b[0m \u001b[1m0s\u001b[0m 9ms/step - auc_pr: 1.0000 - binary_accuracy: 1.0000 - f1_score: 1.0000 - loss: 0.0042 - precision: 1.0000 - recall: 1.0000 - val_auc_pr: 0.9870 - val_binary_accuracy: 0.7737 - val_f1_score: 0.8655 - val_loss: 0.3900 - val_precision: 0.7629 - val_recall: 1.0000\n",
      "Epoch 17/50\n",
      "\u001b[1m32/32\u001b[0m \u001b[32m━━━━━━━━━━━━━━━━━━━━\u001b[0m\u001b[37m\u001b[0m \u001b[1m1s\u001b[0m 10ms/step - auc_pr: 1.0000 - binary_accuracy: 1.0000 - f1_score: 1.0000 - loss: 0.0033 - precision: 1.0000 - recall: 1.0000 - val_auc_pr: 0.9874 - val_binary_accuracy: 0.8499 - val_f1_score: 0.9064 - val_loss: 0.3085 - val_precision: 0.8300 - val_recall: 0.9984\n",
      "Epoch 18/50\n",
      "\u001b[1m32/32\u001b[0m \u001b[32m━━━━━━━━━━━━━━━━━━━━\u001b[0m\u001b[37m\u001b[0m \u001b[1m0s\u001b[0m 9ms/step - auc_pr: 1.0000 - binary_accuracy: 1.0000 - f1_score: 1.0000 - loss: 0.0028 - precision: 1.0000 - recall: 1.0000 - val_auc_pr: 0.9867 - val_binary_accuracy: 0.9168 - val_f1_score: 0.9450 - val_loss: 0.2218 - val_precision: 0.9104 - val_recall: 0.9823\n",
      "Epoch 19/50\n",
      "\u001b[1m32/32\u001b[0m \u001b[32m━━━━━━━━━━━━━━━━━━━━\u001b[0m\u001b[37m\u001b[0m \u001b[1m0s\u001b[0m 9ms/step - auc_pr: 1.0000 - binary_accuracy: 1.0000 - f1_score: 1.0000 - loss: 0.0024 - precision: 1.0000 - recall: 1.0000 - val_auc_pr: 0.9860 - val_binary_accuracy: 0.9226 - val_f1_score: 0.9486 - val_loss: 0.2024 - val_precision: 0.9186 - val_recall: 0.9807\n",
      "Epoch 20/50\n",
      "\u001b[1m32/32\u001b[0m \u001b[32m━━━━━━━━━━━━━━━━━━━━\u001b[0m\u001b[37m\u001b[0m \u001b[1m1s\u001b[0m 18ms/step - auc_pr: 1.0000 - binary_accuracy: 1.0000 - f1_score: 1.0000 - loss: 0.0021 - precision: 1.0000 - recall: 1.0000 - val_auc_pr: 0.9857 - val_binary_accuracy: 0.9273 - val_f1_score: 0.9513 - val_loss: 0.1994 - val_precision: 0.9280 - val_recall: 0.9758\n",
      "Epoch 21/50\n",
      "\u001b[1m32/32\u001b[0m \u001b[32m━━━━━━━━━━━━━━━━━━━━\u001b[0m\u001b[37m\u001b[0m \u001b[1m1s\u001b[0m 18ms/step - auc_pr: 1.0000 - binary_accuracy: 1.0000 - f1_score: 1.0000 - loss: 0.0019 - precision: 1.0000 - recall: 1.0000 - val_auc_pr: 0.9852 - val_binary_accuracy: 0.9308 - val_f1_score: 0.9534 - val_loss: 0.2029 - val_precision: 0.9350 - val_recall: 0.9726\n",
      "Epoch 22/50\n",
      "\u001b[1m32/32\u001b[0m \u001b[32m━━━━━━━━━━━━━━━━━━━━\u001b[0m\u001b[37m\u001b[0m \u001b[1m0s\u001b[0m 14ms/step - auc_pr: 1.0000 - binary_accuracy: 1.0000 - f1_score: 1.0000 - loss: 0.0017 - precision: 1.0000 - recall: 1.0000 - val_auc_pr: 0.9820 - val_binary_accuracy: 0.9367 - val_f1_score: 0.9572 - val_loss: 0.2140 - val_precision: 0.9423 - val_recall: 0.9726\n",
      "Epoch 23/50\n",
      "\u001b[1m32/32\u001b[0m \u001b[32m━━━━━━━━━━━━━━━━━━━━\u001b[0m\u001b[37m\u001b[0m \u001b[1m0s\u001b[0m 12ms/step - auc_pr: 1.0000 - binary_accuracy: 1.0000 - f1_score: 1.0000 - loss: 0.0016 - precision: 1.0000 - recall: 1.0000 - val_auc_pr: 0.9805 - val_binary_accuracy: 0.9308 - val_f1_score: 0.9529 - val_loss: 0.2247 - val_precision: 0.9446 - val_recall: 0.9614\n",
      "Epoch 24/50\n",
      "\u001b[1m32/32\u001b[0m \u001b[32m━━━━━━━━━━━━━━━━━━━━\u001b[0m\u001b[37m\u001b[0m \u001b[1m1s\u001b[0m 10ms/step - auc_pr: 1.0000 - binary_accuracy: 1.0000 - f1_score: 1.0000 - loss: 0.0015 - precision: 1.0000 - recall: 1.0000 - val_auc_pr: 0.9812 - val_binary_accuracy: 0.9250 - val_f1_score: 0.9484 - val_loss: 0.2499 - val_precision: 0.9499 - val_recall: 0.9469\n",
      "Epoch 25/50\n",
      "\u001b[1m32/32\u001b[0m \u001b[32m━━━━━━━━━━━━━━━━━━━━\u001b[0m\u001b[37m\u001b[0m \u001b[1m1s\u001b[0m 9ms/step - auc_pr: 1.0000 - binary_accuracy: 1.0000 - f1_score: 1.0000 - loss: 0.0015 - precision: 1.0000 - recall: 1.0000 - val_auc_pr: 0.9803 - val_binary_accuracy: 0.9215 - val_f1_score: 0.9458 - val_loss: 0.2692 - val_precision: 0.9497 - val_recall: 0.9420\n",
      "Epoch 26/50\n",
      "\u001b[1m32/32\u001b[0m \u001b[32m━━━━━━━━━━━━━━━━━━━━\u001b[0m\u001b[37m\u001b[0m \u001b[1m0s\u001b[0m 9ms/step - auc_pr: 1.0000 - binary_accuracy: 1.0000 - f1_score: 1.0000 - loss: 0.0013 - precision: 1.0000 - recall: 1.0000 - val_auc_pr: 0.9812 - val_binary_accuracy: 0.9156 - val_f1_score: 0.9408 - val_loss: 0.3247 - val_precision: 0.9613 - val_recall: 0.9211\n",
      "Epoch 27/50\n",
      "\u001b[1m32/32\u001b[0m \u001b[32m━━━━━━━━━━━━━━━━━━━━\u001b[0m\u001b[37m\u001b[0m \u001b[1m0s\u001b[0m 10ms/step - auc_pr: 1.0000 - binary_accuracy: 1.0000 - f1_score: 1.0000 - loss: 0.0012 - precision: 1.0000 - recall: 1.0000 - val_auc_pr: 0.9783 - val_binary_accuracy: 0.9191 - val_f1_score: 0.9437 - val_loss: 0.3118 - val_precision: 0.9570 - val_recall: 0.9308\n",
      "Epoch 28/50\n",
      "\u001b[1m32/32\u001b[0m \u001b[32m━━━━━━━━━━━━━━━━━━━━\u001b[0m\u001b[37m\u001b[0m \u001b[1m1s\u001b[0m 9ms/step - auc_pr: 1.0000 - binary_accuracy: 1.0000 - f1_score: 1.0000 - loss: 0.0011 - precision: 1.0000 - recall: 1.0000 - val_auc_pr: 0.9788 - val_binary_accuracy: 0.9308 - val_f1_score: 0.9523 - val_loss: 0.3118 - val_precision: 0.9562 - val_recall: 0.9485\n",
      "Epoch 29/50\n",
      "\u001b[1m32/32\u001b[0m \u001b[32m━━━━━━━━━━━━━━━━━━━━\u001b[0m\u001b[37m\u001b[0m \u001b[1m0s\u001b[0m 9ms/step - auc_pr: 1.0000 - binary_accuracy: 1.0000 - f1_score: 1.0000 - loss: 0.0010 - precision: 1.0000 - recall: 1.0000 - val_auc_pr: 0.9774 - val_binary_accuracy: 0.9308 - val_f1_score: 0.9524 - val_loss: 0.2951 - val_precision: 0.9547 - val_recall: 0.9501\n",
      "Epoch 30/50\n",
      "\u001b[1m32/32\u001b[0m \u001b[32m━━━━━━━━━━━━━━━━━━━━\u001b[0m\u001b[37m\u001b[0m \u001b[1m0s\u001b[0m 9ms/step - auc_pr: 1.0000 - binary_accuracy: 1.0000 - f1_score: 1.0000 - loss: 9.0192e-04 - precision: 1.0000 - recall: 1.0000 - val_auc_pr: 0.9773 - val_binary_accuracy: 0.9343 - val_f1_score: 0.9548 - val_loss: 0.3133 - val_precision: 0.9579 - val_recall: 0.9517\n",
      "Epoch 31/50\n",
      "\u001b[1m32/32\u001b[0m \u001b[32m━━━━━━━━━━━━━━━━━━━━\u001b[0m\u001b[37m\u001b[0m \u001b[1m0s\u001b[0m 9ms/step - auc_pr: 1.0000 - binary_accuracy: 1.0000 - f1_score: 1.0000 - loss: 8.5197e-04 - precision: 1.0000 - recall: 1.0000 - val_auc_pr: 0.9755 - val_binary_accuracy: 0.9320 - val_f1_score: 0.9531 - val_loss: 0.3197 - val_precision: 0.9577 - val_recall: 0.9485\n",
      "Epoch 32/50\n",
      "\u001b[1m32/32\u001b[0m \u001b[32m━━━━━━━━━━━━━━━━━━━━\u001b[0m\u001b[37m\u001b[0m \u001b[1m1s\u001b[0m 9ms/step - auc_pr: 1.0000 - binary_accuracy: 1.0000 - f1_score: 1.0000 - loss: 7.7812e-04 - precision: 1.0000 - recall: 1.0000 - val_auc_pr: 0.9734 - val_binary_accuracy: 0.9343 - val_f1_score: 0.9548 - val_loss: 0.3285 - val_precision: 0.9564 - val_recall: 0.9533\n",
      "Epoch 33/50\n",
      "\u001b[1m32/32\u001b[0m \u001b[32m━━━━━━━━━━━━━━━━━━━━\u001b[0m\u001b[37m\u001b[0m \u001b[1m0s\u001b[0m 9ms/step - auc_pr: 1.0000 - binary_accuracy: 1.0000 - f1_score: 1.0000 - loss: 7.3467e-04 - precision: 1.0000 - recall: 1.0000 - val_auc_pr: 0.9758 - val_binary_accuracy: 0.9343 - val_f1_score: 0.9548 - val_loss: 0.3397 - val_precision: 0.9579 - val_recall: 0.9517\n",
      "Epoch 34/50\n",
      "\u001b[1m32/32\u001b[0m \u001b[32m━━━━━━━━━━━━━━━━━━━━\u001b[0m\u001b[37m\u001b[0m \u001b[1m0s\u001b[0m 9ms/step - auc_pr: 1.0000 - binary_accuracy: 1.0000 - f1_score: 1.0000 - loss: 6.8112e-04 - precision: 1.0000 - recall: 1.0000 - val_auc_pr: 0.9742 - val_binary_accuracy: 0.9343 - val_f1_score: 0.9547 - val_loss: 0.3487 - val_precision: 0.9593 - val_recall: 0.9501\n",
      "Epoch 35/50\n",
      "\u001b[1m32/32\u001b[0m \u001b[32m━━━━━━━━━━━━━━━━━━━━\u001b[0m\u001b[37m\u001b[0m \u001b[1m1s\u001b[0m 10ms/step - auc_pr: 1.0000 - binary_accuracy: 1.0000 - f1_score: 1.0000 - loss: 6.4348e-04 - precision: 1.0000 - recall: 1.0000 - val_auc_pr: 0.9752 - val_binary_accuracy: 0.9285 - val_f1_score: 0.9503 - val_loss: 0.3687 - val_precision: 0.9620 - val_recall: 0.9388\n",
      "Epoch 36/50\n",
      "\u001b[1m32/32\u001b[0m \u001b[32m━━━━━━━━━━━━━━━━━━━━\u001b[0m\u001b[37m\u001b[0m \u001b[1m0s\u001b[0m 9ms/step - auc_pr: 1.0000 - binary_accuracy: 1.0000 - f1_score: 1.0000 - loss: 6.0204e-04 - precision: 1.0000 - recall: 1.0000 - val_auc_pr: 0.9741 - val_binary_accuracy: 0.9320 - val_f1_score: 0.9530 - val_loss: 0.3579 - val_precision: 0.9592 - val_recall: 0.9469\n",
      "Epoch 37/50\n",
      "\u001b[1m32/32\u001b[0m \u001b[32m━━━━━━━━━━━━━━━━━━━━\u001b[0m\u001b[37m\u001b[0m \u001b[1m1s\u001b[0m 10ms/step - auc_pr: 1.0000 - binary_accuracy: 1.0000 - f1_score: 1.0000 - loss: 5.6935e-04 - precision: 1.0000 - recall: 1.0000 - val_auc_pr: 0.9757 - val_binary_accuracy: 0.9308 - val_f1_score: 0.9522 - val_loss: 0.3620 - val_precision: 0.9577 - val_recall: 0.9469\n",
      "Epoch 38/50\n",
      "\u001b[1m32/32\u001b[0m \u001b[32m━━━━━━━━━━━━━━━━━━━━\u001b[0m\u001b[37m\u001b[0m \u001b[1m1s\u001b[0m 9ms/step - auc_pr: 1.0000 - binary_accuracy: 1.0000 - f1_score: 1.0000 - loss: 5.3602e-04 - precision: 1.0000 - recall: 1.0000 - val_auc_pr: 0.9744 - val_binary_accuracy: 0.9320 - val_f1_score: 0.9532 - val_loss: 0.3629 - val_precision: 0.9562 - val_recall: 0.9501\n",
      "Epoch 39/50\n",
      "\u001b[1m32/32\u001b[0m \u001b[32m━━━━━━━━━━━━━━━━━━━━\u001b[0m\u001b[37m\u001b[0m \u001b[1m0s\u001b[0m 9ms/step - auc_pr: 1.0000 - binary_accuracy: 1.0000 - f1_score: 1.0000 - loss: 5.0791e-04 - precision: 1.0000 - recall: 1.0000 - val_auc_pr: 0.9745 - val_binary_accuracy: 0.9320 - val_f1_score: 0.9532 - val_loss: 0.3619 - val_precision: 0.9562 - val_recall: 0.9501\n",
      "Epoch 40/50\n",
      "\u001b[1m32/32\u001b[0m \u001b[32m━━━━━━━━━━━━━━━━━━━━\u001b[0m\u001b[37m\u001b[0m \u001b[1m1s\u001b[0m 9ms/step - auc_pr: 1.0000 - binary_accuracy: 1.0000 - f1_score: 1.0000 - loss: 4.7937e-04 - precision: 1.0000 - recall: 1.0000 - val_auc_pr: 0.9732 - val_binary_accuracy: 0.9332 - val_f1_score: 0.9540 - val_loss: 0.3590 - val_precision: 0.9563 - val_recall: 0.9517\n",
      "Epoch 41/50\n",
      "\u001b[1m32/32\u001b[0m \u001b[32m━━━━━━━━━━━━━━━━━━━━\u001b[0m\u001b[37m\u001b[0m \u001b[1m0s\u001b[0m 9ms/step - auc_pr: 1.0000 - binary_accuracy: 1.0000 - f1_score: 1.0000 - loss: 4.5690e-04 - precision: 1.0000 - recall: 1.0000 - val_auc_pr: 0.9746 - val_binary_accuracy: 0.9320 - val_f1_score: 0.9532 - val_loss: 0.3613 - val_precision: 0.9562 - val_recall: 0.9501\n",
      "Epoch 42/50\n",
      "\u001b[1m32/32\u001b[0m \u001b[32m━━━━━━━━━━━━━━━━━━━━\u001b[0m\u001b[37m\u001b[0m \u001b[1m1s\u001b[0m 9ms/step - auc_pr: 1.0000 - binary_accuracy: 1.0000 - f1_score: 1.0000 - loss: 4.3240e-04 - precision: 1.0000 - recall: 1.0000 - val_auc_pr: 0.9702 - val_binary_accuracy: 0.9332 - val_f1_score: 0.9539 - val_loss: 0.3626 - val_precision: 0.9578 - val_recall: 0.9501\n",
      "Epoch 43/50\n",
      "\u001b[1m32/32\u001b[0m \u001b[32m━━━━━━━━━━━━━━━━━━━━\u001b[0m\u001b[37m\u001b[0m \u001b[1m0s\u001b[0m 9ms/step - auc_pr: 1.0000 - binary_accuracy: 1.0000 - f1_score: 1.0000 - loss: 4.1353e-04 - precision: 1.0000 - recall: 1.0000 - val_auc_pr: 0.9718 - val_binary_accuracy: 0.9308 - val_f1_score: 0.9525 - val_loss: 0.3669 - val_precision: 0.9532 - val_recall: 0.9517\n",
      "Epoch 44/50\n",
      "\u001b[1m32/32\u001b[0m \u001b[32m━━━━━━━━━━━━━━━━━━━━\u001b[0m\u001b[37m\u001b[0m \u001b[1m1s\u001b[0m 9ms/step - auc_pr: 1.0000 - binary_accuracy: 1.0000 - f1_score: 1.0000 - loss: 3.9125e-04 - precision: 1.0000 - recall: 1.0000 - val_auc_pr: 0.9707 - val_binary_accuracy: 0.9332 - val_f1_score: 0.9541 - val_loss: 0.3681 - val_precision: 0.9534 - val_recall: 0.9549\n",
      "Epoch 45/50\n",
      "\u001b[1m32/32\u001b[0m \u001b[32m━━━━━━━━━━━━━━━━━━━━\u001b[0m\u001b[37m\u001b[0m \u001b[1m0s\u001b[0m 14ms/step - auc_pr: 1.0000 - binary_accuracy: 1.0000 - f1_score: 1.0000 - loss: 3.7626e-04 - precision: 1.0000 - recall: 1.0000 - val_auc_pr: 0.9708 - val_binary_accuracy: 0.9343 - val_f1_score: 0.9552 - val_loss: 0.3685 - val_precision: 0.9491 - val_recall: 0.9614\n",
      "Epoch 46/50\n",
      "\u001b[1m32/32\u001b[0m \u001b[32m━━━━━━━━━━━━━━━━━━━━\u001b[0m\u001b[37m\u001b[0m \u001b[1m1s\u001b[0m 17ms/step - auc_pr: 1.0000 - binary_accuracy: 1.0000 - f1_score: 1.0000 - loss: 3.5708e-04 - precision: 1.0000 - recall: 1.0000 - val_auc_pr: 0.9692 - val_binary_accuracy: 0.9367 - val_f1_score: 0.9567 - val_loss: 0.3655 - val_precision: 0.9536 - val_recall: 0.9597\n",
      "Epoch 47/50\n",
      "\u001b[1m32/32\u001b[0m \u001b[32m━━━━━━━━━━━━━━━━━━━━\u001b[0m\u001b[37m\u001b[0m \u001b[1m1s\u001b[0m 17ms/step - auc_pr: 1.0000 - binary_accuracy: 1.0000 - f1_score: 1.0000 - loss: 3.4595e-04 - precision: 1.0000 - recall: 1.0000 - val_auc_pr: 0.9679 - val_binary_accuracy: 0.9332 - val_f1_score: 0.9544 - val_loss: 0.3713 - val_precision: 0.9490 - val_recall: 0.9597\n",
      "Epoch 48/50\n",
      "\u001b[1m32/32\u001b[0m \u001b[32m━━━━━━━━━━━━━━━━━━━━\u001b[0m\u001b[37m\u001b[0m \u001b[1m1s\u001b[0m 17ms/step - auc_pr: 1.0000 - binary_accuracy: 1.0000 - f1_score: 1.0000 - loss: 3.2994e-04 - precision: 1.0000 - recall: 1.0000 - val_auc_pr: 0.9717 - val_binary_accuracy: 0.9355 - val_f1_score: 0.9555 - val_loss: 0.3831 - val_precision: 0.9594 - val_recall: 0.9517\n",
      "Epoch 49/50\n",
      "\u001b[1m32/32\u001b[0m \u001b[32m━━━━━━━━━━━━━━━━━━━━\u001b[0m\u001b[37m\u001b[0m \u001b[1m0s\u001b[0m 9ms/step - auc_pr: 1.0000 - binary_accuracy: 1.0000 - f1_score: 1.0000 - loss: 3.2164e-04 - precision: 1.0000 - recall: 1.0000 - val_auc_pr: 0.9728 - val_binary_accuracy: 0.9332 - val_f1_score: 0.9538 - val_loss: 0.4056 - val_precision: 0.9608 - val_recall: 0.9469\n",
      "Epoch 50/50\n",
      "\u001b[1m32/32\u001b[0m \u001b[32m━━━━━━━━━━━━━━━━━━━━\u001b[0m\u001b[37m\u001b[0m \u001b[1m0s\u001b[0m 9ms/step - auc_pr: 1.0000 - binary_accuracy: 1.0000 - f1_score: 1.0000 - loss: 3.0340e-04 - precision: 1.0000 - recall: 1.0000 - val_auc_pr: 0.9727 - val_binary_accuracy: 0.9297 - val_f1_score: 0.9511 - val_loss: 0.4143 - val_precision: 0.9621 - val_recall: 0.9404\n"
     ]
    }
   ],
   "source": [
    "trained_overfit_model = train_deep_neural_network(overfit_model, \n",
    "                                            X_train_small, \n",
    "                                            y_train_small,\n",
    "                                            batch_size=BATCH_SIZE, \n",
    "                                            epochs=EPOCHS,\n",
    "                                            val_data=(X_val, y_val),\n",
    "                                            callbacks=[], seed=SEED)"
   ]
  },
  {
   "cell_type": "code",
   "execution_count": 34,
   "metadata": {
    "colab": {
     "base_uri": "https://localhost:8080/"
    },
    "id": "O2jyWxIubLCF",
    "outputId": "b31d3634-e72d-4205-e913-792456f83cb6"
   },
   "outputs": [
    {
     "name": "stdout",
     "output_type": "stream",
     "text": [
      "Validation Accuracy: 0.93 (baseline=0.73)\n",
      "Training Precision: 1.00\n",
      "Training Recall: 1.00\n",
      "Training F1-score: 1.00\n",
      "Training AUC-PR: 1.00\n",
      "Validation Precision: 0.95\n",
      "Validation Recall: 0.94\n",
      "Validation F1-score: 0.95\n",
      "Validation AUC-PR: 0.97\n"
     ]
    }
   ],
   "source": [
    "print('Validation Accuracy: {:.2f} (baseline={:.2f})'.format(trained_overfit_model['val_score'][0], baseline))\n",
    "\n",
    "print('Training Precision: {:.2f}'.format(trained_overfit_model['history'].history['precision'][-1]))\n",
    "print('Training Recall: {:.2f}'.format(trained_overfit_model['history'].history['recall'][-1]))\n",
    "print('Training F1-score: {:.2f}'.format(trained_overfit_model['history'].history['f1_score'][-1]))\n",
    "print('Training AUC-PR: {:.2f}'.format(trained_overfit_model['history'].history['auc_pr'][-1]))\n",
    "\n",
    "print('Validation Precision: {:.2f}'.format(trained_overfit_model['val_score'][4]))\n",
    "print('Validation Recall: {:.2f}'.format(trained_overfit_model['val_score'][3]))\n",
    "print('Validation F1-score: {:.2f}'.format(trained_overfit_model['val_score'][4]))\n",
    "print('Validation AUC-PR: {:.2f}'.format(trained_overfit_model['val_score'][1]))"
   ]
  },
  {
   "cell_type": "markdown",
   "metadata": {
    "id": "fU_J0Q0hifw-"
   },
   "source": [
    "From the results, it can be seen that all the training metrics are at 1.00, which indicates that perfect scores of 100% have been achieved on the training set across all the metrics.\n",
    "This suggests that the model has memorised the training data and has learned to perfectly classify every single example in the small training set, meaning that the model is overfitting as intended.\n",
    "\n",
    "The validation metrics are all lower than the training metrics, which is a sign of overfitting where the model performs exceptionally well on the data it was trained on (training set) but the performance is slightly reduced when it encounters new, unseen data in the validation set. This shows that the model has a loss of generalisation ability as it is relying mostly on memorising.\n",
    "\n",
    "Overall, the model is overfitting as intended.\n",
    "\n",
    "\n",
    "\n",
    "\n",
    "\n",
    "\n",
    "\n",
    "\n",
    "\n",
    ".\n",
    "\n",
    "\n",
    "."
   ]
  },
  {
   "cell_type": "code",
   "execution_count": 36,
   "metadata": {
    "colab": {
     "base_uri": "https://localhost:8080/",
     "height": 455
    },
    "id": "WhYiriyvdceg",
    "outputId": "b1864638-6df4-409c-db0b-47bdefb12b8d"
   },
   "outputs": [
    {
     "data": {
      "image/png": "[encoded data removed]",
      "text/plain": [
       "<Figure size 1500x500 with 2 Axes>"
      ]
     },
     "metadata": {},
     "output_type": "display_data"
    }
   ],
   "source": [
    "def plot_training_history(history, monitors=['loss', 'auc_pr']):\n",
    "    fig, axs = plt.subplots(1, 2, sharex='all', figsize=(15, 5))\n",
    "\n",
    "    for ax, monitor in zip(axs.flat, monitors):\n",
    "        loss, val_loss = history.history[monitor], \n",
    "        history.history['val_' + monitor]\n",
    "\n",
    "        epochs = range(1, len(loss) + 1)\n",
    "\n",
    "        ax.plot(epochs, loss, 'b.', label=monitor)\n",
    "        ax.plot(epochs, val_loss, 'r.', \n",
    "                label='Validation ' + monitor)\n",
    "        ax.set_xlim([0, len(loss)])\n",
    "        ax.title.set_text('Training and Validation ' + monitor)\n",
    "        ax.set_xlabel('Epochs')\n",
    "        ax.set_ylabel(monitor)\n",
    "        ax.legend()\n",
    "        ax.grid()\n",
    "\n",
    "    plt.show()\n",
    "\n",
    "plot_training_history(trained_overfit_model['history'], \n",
    "                      monitors=['loss', 'auc_pr'])"
   ]
  },
  {
   "cell_type": "markdown",
   "metadata": {
    "id": "Apn3FzVzqu84"
   },
   "source": [
    "From the plot, it can be seen that the training loss starts at a relatively low value and drops rapidly to near zero within the first 10 epochs, and remains consistently very low for the rest of the training. The almost complete minimisation of training loss indicates that the model is fitting itself to the training data, hence it is overfitting. The validation loss initially decreases for the first few epochs, which could be due to the model learning some generalisable features.\n",
    "However, after reaching a minimum point around epoch 8, the validation loss starts to increase and fluctuate upwards for the rest of the training, which could be due to the model no longer learning generalisable patterns and adapting to noise and specific details of the training set instead.\n",
    "\n",
    "The training AUC-PR increases very rapidly and reaches near 1.0 within the first 10 epochs and then stays consistently very close to 1.0 for the remainder of the training. This is consistent with the numeric metrics obtained above. The validation AUC-PR increases initially and reaches a peak around epoch 10-15 before plateauing and fluctuating slightly downwards for the later epochs. The decrease in validation AUC-PR after an initial increase, while training AUC-PR remains perfect, shows that the model's ability to discriminate between classes in unseen data is declining, which indicates overfitting.\n",
    "\n",
    "\n",
    "\n",
    "\n",
    ".\n",
    "\n",
    "\n",
    "\n",
    "\n",
    "."
   ]
  },
  {
   "cell_type": "markdown",
   "metadata": {
    "id": "_PNYHLfsC5qj"
   },
   "source": [
    "## Regularisation and hyperparameter tuning\n",
    "\n",
    "The last step in the DLWP 4.5 workflow (1st Edition) would be to improve the generalisation performance of the deep neural network by carrying out regularisation and hyperparameter tuning.\n",
    "\n",
    "In terms of regularisation, L2 regularisation (weight decay) has been carried out where a l2_value of 0.005 is added to the loss function to reduce the magnitude of weights, preventing excessive complexity in the model and overall preventing overfitting. A dropout value of 0.2 has been added as well to allow for random deactivation of a fraction of neurons during training to encourage robustness. Early stopping is also introduced here as patience (5) to monitor validation loss and halt training when no improvement is detected over a defined number of epochs.\n"
   ]
  },
  {
   "cell_type": "code",
   "execution_count": 50,
   "metadata": {
    "id": "SxgXn7ffyV7b"
   },
   "outputs": [],
   "source": [
    "def deep_neural_network(hidden_layers=2, hidden_neurons=128, \n",
    "                        activation='relu', dropout=0.2,\n",
    "                        l2_value=0.005, input_dimension=256, \n",
    "                        output_dimension=1,\n",
    "                        optimizer='adam', loss='binary_crossentropy',\n",
    "                        metrics=[tf.keras.metrics.BinaryAccuracy(name='binary_accuracy'),\n",
    "                                 tf.keras.metrics.AUC(name='auc_pr', curve='PR'),\n",
    "                                 tf.keras.metrics.Precision(name='precision'),\n",
    "                                 tf.keras.metrics.Recall(name='recall'),\n",
    "                                 F1Score()],\n",
    "                        name=None):\n",
    "    model = Sequential()\n",
    "\n",
    "    model.add(Dense(hidden_neurons, activation=activation,\n",
    "                    kernel_regularizer=\n",
    "                    tf.keras.regularizers.l2(l2_value),\n",
    "                    input_shape=(input_dimension,)))\n",
    "\n",
    "    for _ in range(hidden_layers - 1):\n",
    "        model.add(Dense(hidden_neurons, activation=activation,\n",
    "                        kernel_regularizer=\n",
    "                        tf.keras.regularizers.l2(l2_value)))\n",
    "        model.add(Dropout(dropout))\n",
    "\n",
    "    model.add(Dense(output_dimension, activation='sigmoid'))\n",
    "    model.compile(optimizer=optimizer, loss=loss, metrics=metrics)\n",
    "    return model"
   ]
  },
  {
   "cell_type": "markdown",
   "metadata": {
    "id": "qvJmuy2c2mqm"
   },
   "source": [
    "Stratified K-fold cross validation is used here as it ensures that the proportion of classes in each fold is maintained as it is in the original dataset. This is beneficial for the Pneumonia_MNIST dataset as it has inbalanced data, and using stratified K-fold cross validation will ensure that each fold will have roughly the same ratio of pneumonia-negative to penumonia-positive images, preventing one class from being over-represented or under-represented. The stratified K-fold cross validation works by splitting the training data into 5 subsets, where it performs training on four and validation on the remaining one. The model also iterates over all folds, ensuring performance is measured across different data distributions.\n",
    "\n",
    "\n",
    "\n",
    "\n",
    "\n",
    "\n",
    "\n",
    "\n",
    "\n",
    ".\n"
   ]
  },
  {
   "cell_type": "code",
   "execution_count": 51,
   "metadata": {
    "id": "3bkHxcspyczO"
   },
   "outputs": [],
   "source": [
    "def train_deep_neural_network_cv(model, X, y, batch_size=128, \n",
    "                                 epochs=50, callbacks=[], \n",
    "                                 seed=0, n_splits=5):\n",
    "    skf = StratifiedKFold(n_splits=n_splits, shuffle=True, \n",
    "                          random_state=seed)\n",
    "    val_accuracies = []\n",
    "    val_aucs_pr = []\n",
    "    histories = []\n",
    "\n",
    "    for fold, (train_index, val_index) in enumerate(skf.split(X, y)):\n",
    "        print(f\"Fold {fold+1}/{n_splits}\")\n",
    "        X_train_fold, X_val_fold = X[train_index], X[val_index]\n",
    "        y_train_fold, y_val_fold = y[train_index], y[val_index]\n",
    "\n",
    "        history = model.fit(X_train_fold, y_train_fold,\n",
    "                            batch_size=batch_size, epochs=epochs,\n",
    "                            validation_data=(X_val_fold, y_val_fold),\n",
    "                            callbacks=callbacks,\n",
    "                            verbose=0)\n",
    "\n",
    "        val_score = model.evaluate(X_val_fold, y_val_fold, \n",
    "                                   verbose=0)[1:]\n",
    "        val_accuracies.append(val_score[0])\n",
    "        val_aucs_pr.append(val_score[1])\n",
    "        histories.append(history)\n",
    "\n",
    "    avg_val_accuracy = np.mean(val_accuracies)\n",
    "    avg_val_auc_pr = np.mean(val_aucs_pr)\n",
    "\n",
    "    return {'model': model,\n",
    "            'val_accuracy_folds': val_accuracies,\n",
    "            'val_auc_pr_folds': val_aucs_pr,\n",
    "            'avg_val_accuracy': avg_val_accuracy,\n",
    "            'avg_val_auc_pr': avg_val_auc_pr,\n",
    "            'histories': histories}"
   ]
  },
  {
   "cell_type": "markdown",
   "metadata": {
    "id": "AJEYXe9-zEpJ"
   },
   "source": [
    "In terms of hyperparameter tuning, a parameter grid has been used to explore different variations of the parameters of the model to find the best combination of parameters that could produce the model that performs the best. Each configuration of parameters is evaluated using all 5 folds of the stratified cross-validation."
   ]
  },
  {
   "cell_type": "code",
   "execution_count": 52,
   "metadata": {
    "id": "erg221EoyiK0"
   },
   "outputs": [],
   "source": [
    "param_grid = [\n",
    "    {'hidden_layers': 1, 'hidden_neurons': 128, 'dropout': 0.1, \n",
    "     'l2_value': 0.0001, 'batch_size': 128, 'learning_rate': 0.0001},\n",
    "    {'hidden_layers': 1, 'hidden_neurons': 256, 'dropout': 0.2, \n",
    "     'l2_value': 0.0005, 'batch_size': 128, 'learning_rate': 0.0005},\n",
    "    {'hidden_layers': 2, 'hidden_neurons': 128, 'dropout': 0.2, \n",
    "     'l2_value': 0.0001, 'batch_size': 128, 'learning_rate': 0.0001},\n",
    "    {'hidden_layers': 2, 'hidden_neurons': 256, 'dropout': 0.2, \n",
    "     'l2_value': 0.0005, 'batch_size': 128, 'learning_rate': 0.0001},\n",
    "    {'hidden_layers': 2, 'hidden_neurons': 256, 'dropout': 0.3, \n",
    "     'l2_value': 0.0005, 'batch_size': 128, 'learning_rate': 0.0005},\n",
    "    {'hidden_layers': 3, 'hidden_neurons': 128, 'dropout': 0.3, \n",
    "     'l2_value': 0.0001, 'batch_size': 128, 'learning_rate': 0.0005},\n",
    "    {'hidden_layers': 3, 'hidden_neurons': 256, 'dropout': 0.4, \n",
    "     'l2_value': 0.0001, 'batch_size': 128, 'learning_rate': 0.0005},\n",
    "    {'hidden_layers': 3, 'hidden_neurons': 256, 'dropout': 0.4, \n",
    "     'l2_value': 0.0005, 'batch_size': 128, 'learning_rate': 0.0005},\n",
    "]"
   ]
  },
  {
   "cell_type": "markdown",
   "metadata": {
    "id": "yUZb6TLk5x-8"
   },
   "source": [
    "Varibles to store the architecture of the best model, the highest average validation accuracy achieved across all the hyperparameter configurations and the number of folds are initialised first. Then a loop is used to iterate through the different variations of architectures in the param_grid to build a new model is with each set of hyperparameters in the grid, before the models are trained and K-fold cross validation is carried out. The results are stored in an array for printing of results and the best model is detected using average validation accuracy.\n",
    "\n",
    "\n",
    "\n",
    "\n",
    "\n",
    "\n",
    "\n",
    "\n",
    "\n",
    "\n",
    "."
   ]
  },
  {
   "cell_type": "code",
   "execution_count": 53,
   "metadata": {
    "colab": {
     "base_uri": "https://localhost:8080/"
    },
    "id": "ZwzK5ajkyzKL",
    "outputId": "c2eea76c-69d0-477f-f9be-75f9cc1a4071"
   },
   "outputs": [
    {
     "name": "stderr",
     "output_type": "stream",
     "text": [
      "/usr/local/lib/python3.11/dist-packages/keras/src/layers/core/dense.py:87: UserWarning: Do not pass an `input_shape`/`input_dim` argument to a layer. When using Sequential models, prefer using an `Input(shape)` object as the first layer in the model instead.\n",
      "  super().__init__(activity_regularizer=activity_regularizer, **kwargs)\n"
     ]
    },
    {
     "name": "stdout",
     "output_type": "stream",
     "text": [
      "Fold 1/5\n",
      "Fold 2/5\n",
      "Fold 3/5\n",
      "Fold 4/5\n",
      "Fold 5/5\n"
     ]
    },
    {
     "name": "stderr",
     "output_type": "stream",
     "text": [
      "/usr/local/lib/python3.11/dist-packages/keras/src/layers/core/dense.py:87: UserWarning: Do not pass an `input_shape`/`input_dim` argument to a layer. When using Sequential models, prefer using an `Input(shape)` object as the first layer in the model instead.\n",
      "  super().__init__(activity_regularizer=activity_regularizer, **kwargs)\n"
     ]
    },
    {
     "name": "stdout",
     "output_type": "stream",
     "text": [
      "Fold 1/5\n",
      "Fold 2/5\n",
      "Fold 3/5\n",
      "Fold 4/5\n",
      "Fold 5/5\n"
     ]
    },
    {
     "name": "stderr",
     "output_type": "stream",
     "text": [
      "/usr/local/lib/python3.11/dist-packages/keras/src/layers/core/dense.py:87: UserWarning: Do not pass an `input_shape`/`input_dim` argument to a layer. When using Sequential models, prefer using an `Input(shape)` object as the first layer in the model instead.\n",
      "  super().__init__(activity_regularizer=activity_regularizer, **kwargs)\n"
     ]
    },
    {
     "name": "stdout",
     "output_type": "stream",
     "text": [
      "Fold 1/5\n",
      "Fold 2/5\n",
      "Fold 3/5\n",
      "Fold 4/5\n",
      "Fold 5/5\n"
     ]
    },
    {
     "name": "stderr",
     "output_type": "stream",
     "text": [
      "/usr/local/lib/python3.11/dist-packages/keras/src/layers/core/dense.py:87: UserWarning: Do not pass an `input_shape`/`input_dim` argument to a layer. When using Sequential models, prefer using an `Input(shape)` object as the first layer in the model instead.\n",
      "  super().__init__(activity_regularizer=activity_regularizer, **kwargs)\n"
     ]
    },
    {
     "name": "stdout",
     "output_type": "stream",
     "text": [
      "Fold 1/5\n",
      "Fold 2/5\n",
      "Fold 3/5\n",
      "Fold 4/5\n",
      "Fold 5/5\n"
     ]
    },
    {
     "name": "stderr",
     "output_type": "stream",
     "text": [
      "/usr/local/lib/python3.11/dist-packages/keras/src/layers/core/dense.py:87: UserWarning: Do not pass an `input_shape`/`input_dim` argument to a layer. When using Sequential models, prefer using an `Input(shape)` object as the first layer in the model instead.\n",
      "  super().__init__(activity_regularizer=activity_regularizer, **kwargs)\n"
     ]
    },
    {
     "name": "stdout",
     "output_type": "stream",
     "text": [
      "Fold 1/5\n",
      "Fold 2/5\n",
      "Fold 3/5\n",
      "Fold 4/5\n",
      "Fold 5/5\n"
     ]
    },
    {
     "name": "stderr",
     "output_type": "stream",
     "text": [
      "/usr/local/lib/python3.11/dist-packages/keras/src/layers/core/dense.py:87: UserWarning: Do not pass an `input_shape`/`input_dim` argument to a layer. When using Sequential models, prefer using an `Input(shape)` object as the first layer in the model instead.\n",
      "  super().__init__(activity_regularizer=activity_regularizer, **kwargs)\n"
     ]
    },
    {
     "name": "stdout",
     "output_type": "stream",
     "text": [
      "Fold 1/5\n",
      "Fold 2/5\n",
      "Fold 3/5\n",
      "Fold 4/5\n",
      "Fold 5/5\n"
     ]
    },
    {
     "name": "stderr",
     "output_type": "stream",
     "text": [
      "/usr/local/lib/python3.11/dist-packages/keras/src/layers/core/dense.py:87: UserWarning: Do not pass an `input_shape`/`input_dim` argument to a layer. When using Sequential models, prefer using an `Input(shape)` object as the first layer in the model instead.\n",
      "  super().__init__(activity_regularizer=activity_regularizer, **kwargs)\n"
     ]
    },
    {
     "name": "stdout",
     "output_type": "stream",
     "text": [
      "Fold 1/5\n",
      "Fold 2/5\n",
      "Fold 3/5\n",
      "Fold 4/5\n",
      "Fold 5/5\n"
     ]
    },
    {
     "name": "stderr",
     "output_type": "stream",
     "text": [
      "/usr/local/lib/python3.11/dist-packages/keras/src/layers/core/dense.py:87: UserWarning: Do not pass an `input_shape`/`input_dim` argument to a layer. When using Sequential models, prefer using an `Input(shape)` object as the first layer in the model instead.\n",
      "  super().__init__(activity_regularizer=activity_regularizer, **kwargs)\n"
     ]
    },
    {
     "name": "stdout",
     "output_type": "stream",
     "text": [
      "Fold 1/5\n",
      "Fold 2/5\n",
      "Fold 3/5\n",
      "Fold 4/5\n",
      "Fold 5/5\n"
     ]
    }
   ],
   "source": [
    "best_model_cv = None\n",
    "best_avg_val_acc_cv = 0\n",
    "best_params_cv = None\n",
    "results_cv = []\n",
    "n_splits = 5\n",
    "\n",
    "for params in param_grid:\n",
    "    optimizer = tf.keras.optimizers.Adam(learning_rate=\n",
    "                                         params['learning_rate'])\n",
    "    model_cv = deep_neural_network(hidden_layers=\n",
    "                                   params['hidden_layers'],\n",
    "                                hidden_neurons=params['hidden_neurons'],\n",
    "                                dropout=params['dropout'],\n",
    "                                l2_value=params['l2_value'],\n",
    "                                input_dimension=X_train.shape[1],\n",
    "                                output_dimension=1,\n",
    "                                optimizer=optimizer,\n",
    "                                loss='binary_crossentropy',\n",
    "                                metrics=[tf.keras.metrics.BinaryAccuracy(name='binary_accuracy'),\n",
    "                                         tf.keras.metrics.AUC(name='auc_pr', curve='PR'),\n",
    "                                         tf.keras.metrics.Precision(name='precision'),\n",
    "                                         tf.keras.metrics.Recall(name='recall'),\n",
    "                                         F1Score()])\n",
    "\n",
    "    trained_model_cv = \n",
    "    train_deep_neural_network_cv(model_cv, X_train, y_train,\n",
    "                                batch_size=params['batch_size'],\n",
    "                                epochs=50,\n",
    "                                callbacks=[EarlyStopping\n",
    "                                           (monitor='val_loss', \n",
    "                                            patience=5, \n",
    "                                            restore_best_weights=True)],\n",
    "                                seed=SEED,\n",
    "                                n_splits=n_splits)\n",
    "\n",
    "    avg_val_acc_cv = trained_model_cv['avg_val_accuracy']\n",
    "    results_cv.append({\n",
    "        'Hidden Layers': params['hidden_layers'],\n",
    "        'Hidden Neurons': params['hidden_neurons'],\n",
    "        'Dropout': params['dropout'],\n",
    "        'L2 Value': params['l2_value'],\n",
    "        'Batch Size': params['batch_size'],\n",
    "        'Learning Rate': params['learning_rate'],\n",
    "        'Average Validation Accuracy (CV)': avg_val_acc_cv,\n",
    "        'Validation Accuracy Folds (CV)': trained_model_cv['val_accuracy_folds'],\n",
    "        'Validation AUC-PR Folds (CV)': trained_model_cv['val_auc_pr_folds'],\n",
    "    })\n",
    "\n",
    "    if avg_val_acc_cv > best_avg_val_acc_cv:\n",
    "        best_avg_val_acc_cv = avg_val_acc_cv\n",
    "        best_model_cv = model_cv\n",
    "        best_params_cv = params"
   ]
  },
  {
   "cell_type": "markdown",
   "metadata": {
    "id": "dG5v9_5ggEHT"
   },
   "source": [
    "Lastly, the results from the training above are printed to show how well each variation in the parameter grid performed and which is the best performing model. Holdout validation is carried out here to provide a final check on the best model chosen using K-fold cross-validation by training on the entire X_train, y_train dataset and evaluating on X_val, y_val dataset to ensure that it performs well on a held-out set. The holdout validation set is then used to generate the confusion matrix and classification report specifically for the best performing model.  \n",
    "\n"
   ]
  },
  {
   "cell_type": "code",
   "execution_count": 59,
   "metadata": {
    "colab": {
     "base_uri": "https://localhost:8080/"
    },
    "id": "XvBNuuZCzK4h",
    "outputId": "b671d426-1f8d-440d-8dfa-181b0053a6e5"
   },
   "outputs": [
    {
     "name": "stdout",
     "output_type": "stream",
     "text": [
      "\n",
      "--- Cross-Validation Results ---\n",
      " Hidden Layers  Hidden Neurons  Dropout  L2 Value  Batch Size  Learning Rate  Average Validation Accuracy (CV)                                                                       Validation Accuracy Folds (CV)                                                                         Validation AUC-PR Folds (CV)\n",
      "             3             256      0.4    0.0001         128         0.0005                          0.936108 [0.9311859607696533, 0.9399707317352295, 0.9413489699363708, 0.9222874045372009, 0.9457477927207947] [0.9925781488418579, 0.9877878427505493, 0.9876512289047241, 0.9792830944061279, 0.9905833601951599]\n",
      "             3             128      0.3    0.0001         128         0.0005                          0.933472  [0.9224011898040771, 0.9385066032409668, 0.936950147151947, 0.9252199530601501, 0.9442815184593201]  [0.991642951965332, 0.9874069690704346, 0.9886382818222046, 0.9795012474060059, 0.9904739260673523]\n",
      "             3             256      0.4    0.0005         128         0.0005                          0.926150  [0.8945827484130859, 0.9355783462524414, 0.936950147151947, 0.9222874045372009, 0.9413489699363708]  [0.9919953942298889, 0.9890897274017334, 0.988359272480011, 0.9781438112258911, 0.9906888008117676]\n",
      "             2             256      0.3    0.0005         128         0.0005                          0.878406  [0.7291361689567566, 0.9048316478729248, 0.9164223074913025, 0.9046920537948608, 0.936950147151947]  [0.9656908512115479, 0.985758900642395, 0.9859308004379272, 0.9714257121086121, 0.9887588024139404]\n",
      "             2             128      0.2    0.0001         128         0.0001                          0.829778 [0.7291361689567566, 0.7291361689567566, 0.8753665685653687, 0.8914955854415894, 0.9237536787986755]    [0.94544517993927, 0.971934974193573, 0.9745529890060425, 0.9659039974212646, 0.9871790409088135]\n",
      "             2             256      0.2    0.0005         128         0.0001                          0.767021 [0.7291361689567566, 0.7276720404624939, 0.7287390232086182, 0.7771260738372803, 0.8724340200424194]  [0.936569333076477, 0.9449352025985718, 0.9593936204910278, 0.9567946195602417, 0.9842956066131592]\n",
      "             1             128      0.1    0.0001         128         0.0001                          0.728605 [0.7291361689567566, 0.7276720404624939, 0.7287390232086182, 0.7287390232086182, 0.7287390232086182] [0.8847272396087646, 0.9344902038574219, 0.9487265348434448, 0.9543684720993042, 0.9710524082183838]\n",
      "             1             256      0.2    0.0005         128         0.0005                          0.728605 [0.7291361689567566, 0.7276720404624939, 0.7287390232086182, 0.7287390232086182, 0.7287390232086182] [0.9526203870773315, 0.9610841274261475, 0.9570634365081787, 0.9567873477935791, 0.9762132167816162]\n",
      "\n",
      "Best Model Parameters (Cross-Validation): {'hidden_layers': 3, 'hidden_neurons': 256, 'dropout': 0.4, 'l2_value': 0.0001, 'batch_size': 128, 'learning_rate': 0.0005}\n",
      "Best Average Validation Accuracy (Cross-Validation): 0.9361\n",
      "\n",
      "--- Evaluation of Best Model on Hold-out Validation Set ---\n",
      "Best Model Validation Loss: 0.2152\n",
      "Best Model Validation Accuracy: 0.9297\n",
      "Best Model Validation AUC-PR: 0.9911\n",
      "Best Model Validation Precision: 0.9335\n",
      "Best Model Validation Recall: 0.9726\n",
      "Best Model Validation F1-Score: 0.9527\n",
      "\n",
      "--- Confusion Matrix and Classification Report for Best Model ---\n",
      "\u001b[1m27/27\u001b[0m \u001b[32m━━━━━━━━━━━━━━━━━━━━\u001b[0m\u001b[37m\u001b[0m \u001b[1m0s\u001b[0m 6ms/step\n",
      "\n",
      "Confusion Matrix (Best Model - Validation Set):\n",
      "[[189  43]\n",
      " [ 17 604]]\n",
      "\n",
      "Classification Report (Best Model - Validation Set):\n",
      "              precision    recall  f1-score   support\n",
      "\n",
      "           0       0.92      0.81      0.86       232\n",
      "           1       0.93      0.97      0.95       621\n",
      "\n",
      "    accuracy                           0.93       853\n",
      "   macro avg       0.93      0.89      0.91       853\n",
      "weighted avg       0.93      0.93      0.93       853\n",
      "\n"
     ]
    }
   ],
   "source": [
    "df_results_cv = pd.DataFrame(results_cv)\n",
    "\n",
    "df_results_cv = df_results_cv.sort_values\n",
    "(by='Average Validation Accuracy (CV)', ascending=False)\n",
    "\n",
    "print(\"\\n--- Cross-Validation Results ---\")\n",
    "print(df_results_cv.to_string(index=False))\n",
    "\n",
    "print(f\"\\nBest Model Parameters (Cross-Validation): {best_params_cv}\")\n",
    "print(f\"Best Average Validation Accuracy (Cross-Validation): {best_avg_val_acc_cv:.4f}\")\n",
    "\n",
    "print(\"\\n--- Evaluation of Best Model on Hold-out Validation Set ---\")\n",
    "if best_model_cv is not None:\n",
    "    best_model_val_score = best_model_cv.evaluate(X_val, y_val, verbose=0)\n",
    "    print(f\"Best Model Validation Loss: {best_model_val_score[0]:.4f}\")\n",
    "    print(f\"Best Model Validation Accuracy: {best_model_val_score[1]:.4f}\")\n",
    "    print(f\"Best Model Validation AUC-PR: {best_model_val_score[2]:.4f}\")\n",
    "    print(f\"Best Model Validation Precision: {best_model_val_score[3]:.4f}\")\n",
    "    print(f\"Best Model Validation Recall: {best_model_val_score[4]:.4f}\")\n",
    "    print(f\"Best Model Validation F1-Score: {best_model_val_score[5]:.4f}\")\n",
    "\n",
    "    print(\"\\n--- Confusion Matrix and Classification Report for Best Model ---\")\n",
    "    y_pred_proba_val_best = best_model_cv.predict(X_val)\n",
    "    y_pred_binary_val_best = (y_pred_proba_val_best > 0.5).astype(int)\n",
    "\n",
    "    conf_matrix_best = confusion_matrix(y_val, y_pred_binary_val_best)\n",
    "    print(\"\\nConfusion Matrix (Best Model - Validation Set):\")\n",
    "    print(conf_matrix_best)\n",
    "\n",
    "    class_report_best = classification_report(y_val, y_pred_binary_val_best)\n",
    "    print(\"\\nClassification Report (Best Model - Validation Set):\")\n",
    "    print(class_report_best)\n",
    "else:\n",
    "    print(\"No best model found during cross-validation.\")"
   ]
  },
  {
   "cell_type": "markdown",
   "metadata": {
    "id": "BpSop-x7pgmh"
   },
   "source": [
    "From the results, it can be seen that the top performing configuration of parameters would be the one with 3 hidden layers, 256 hidden neurons, 0.4 dropout, a batch size of 128, an L2 value of 0.0001 and a learning rate of 0.0005 with the highest average validation accuracy of 0.9361 in cross-validation.\n",
    "\n",
    "The validation accuracy and AUC-PR values were relatively consistent across the 5 folds, ranging from approximately 0.922 to 0.946. This suggests that the performance estimate from cross-validation is robust and not highly dependent on a specific data split.\n",
    "\n",
    "The hold-out validation carried out on the best model also achieved high results where the validation accuracy is 0.9297, validation AUC-PR is 0.9911, validation precision is 0.9335, validation recall is 0.9726, and\n",
    "validation F1-score is 0.9527, suggesteing that the model is performing accurately.\n",
    "The validation accuracy of 0.9297 on the hold-out set is very close to the average validation accuracy from cross-validation 0.9361, showing that cross-validation estimate is high robust.\n",
    "\n",
    "From the confusion matrix, it can be seen that the true negatives is 189, indicating that the model correctly predicted 189 cases as pneumonia-negative and the true positives is 604, indicating that the model model correctly predicted 604 cases as pneumonia-positive. The number of false negatives is 17 and the number of false positives is 43. The number of false negatives is low, indicating that the model is good at identifying actual pneumonia cases, and this is  also reflected in the high recall score of 0.9726. The number of false positives is higher than false negatives, suggesting that the model is more prone to incorrectly diagnosing pneumonia-positive when it is not actually present.\n",
    "\n",
    "In the classification report, it is shown for class 1 (pneumonia-postive) that the model predicts pneumonia-postive correctly 93% of the time, which is a good precision for the positive class. The model correctly  identifies 97% out of all the pneumonia-postive cases, which shows that the model is excellent at detecting pneumonia-positive cases and minimising false negatives. The F1-score of 95% is also high, indicating a strong balance between precision and recall for the pneumonia-postive class. For class 0 (pneumonia-negative), it is seen that the model predicts pneumonia-negative correctly 92% of the time, which is a good precision for the negative class. The model correctly identifies 81% out of all the pneumonia-negative cases, which is lower than class 1, meaning the model misses a larger proportion of pneumonia-negative cases, resulting in False Positives for Pneumonia class. The F1-score of 86% indicates a relatively high balance between precision and recall, but lower than class 1.\n",
    "The model has an overall accuracy of 93%, which is consistent with the validation accuracy reported earlier.\n",
    "\n",
    "\n",
    "Overall, the best model identified through cross-validation performed well on the hold-out validation set as well, achieving a high accuracy of around 93% and very high AUC-PR of 0.9911, strong precision and recall, and a good F1-score. The model displays a strong overall classification performance, with high sensitivity and effectiveness at detecting pneumonia cases while minimising false negatives, which is crucial in a medical context. The high precision and reacll shows a reasonable balance and not an excessive number of false positives. The model is also able to generalise well.\n",
    "A potential weakness detected in the model is that there are more false positives than false negatives. In a actual medical diagnosis context,although minimising false negatives is often prioritised, reducing false positives is also important to avoid unnecessary interventions and anxiety.\n",
    "Nevertheless, the chosen model remains the best choice based on the cross-validation and hold-out validation results, including the detailed classification report as it provides a strong balance of performance, especially in terms of accurately detecting pneumonia-positive cases.\n",
    "\n"
   ]
  }
 ],
 "metadata": {
  "colab": {
   "provenance": []
  },
  "kernelspec": {
   "display_name": "Python 3 (ipykernel)",
   "language": "python",
   "name": "python3"
  },
  "language_info": {
   "codemirror_mode": {
    "name": "ipython",
    "version": 3
   },
   "file_extension": ".py",
   "mimetype": "text/x-python",
   "name": "python",
   "nbconvert_exporter": "python",
   "pygments_lexer": "ipython3",
   "version": "3.11.5"
  },
  "widgets": {
   "application/vnd.jupyter.widget-state+json": {
    "007e31d7bcb745098ccd67d3cd41bf4f": {
     "model_module": "@jupyter-widgets/controls",
     "model_module_version": "1.5.0",
     "model_name": "HTMLModel",
     "state": {
      "_dom_classes": [],
      "_model_module": "@jupyter-widgets/controls",
      "_model_module_version": "1.5.0",
      "_model_name": "HTMLModel",
      "_view_count": null,
      "_view_module": "@jupyter-widgets/controls",
      "_view_module_version": "1.5.0",
      "_view_name": "HTMLView",
      "description": "",
      "description_tooltip": null,
      "layout": "IPY_MODEL_5a64c12043674c9fafb07776b61d3692",
      "placeholder": "​",
      "style": "IPY_MODEL_a1ca4aedbf494671999cd6b6acbac8c1",
      "value": " 0/? [00:00&lt;?, ? examples/s]"
     }
    },
    "02828f3a416c42adba50396af21b61b9": {
     "model_module": "@jupyter-widgets/controls",
     "model_module_version": "1.5.0",
     "model_name": "DescriptionStyleModel",
     "state": {
      "_model_module": "@jupyter-widgets/controls",
      "_model_module_version": "1.5.0",
      "_model_name": "DescriptionStyleModel",
      "_view_count": null,
      "_view_module": "@jupyter-widgets/base",
      "_view_module_version": "1.2.0",
      "_view_name": "StyleView",
      "description_width": ""
     }
    },
    "0ab6114945204376a35dc0009ef24bc9": {
     "model_module": "@jupyter-widgets/base",
     "model_module_version": "1.2.0",
     "model_name": "LayoutModel",
     "state": {
      "_model_module": "@jupyter-widgets/base",
      "_model_module_version": "1.2.0",
      "_model_name": "LayoutModel",
      "_view_count": null,
      "_view_module": "@jupyter-widgets/base",
      "_view_module_version": "1.2.0",
      "_view_name": "LayoutView",
      "align_content": null,
      "align_items": null,
      "align_self": null,
      "border": null,
      "bottom": null,
      "display": null,
      "flex": null,
      "flex_flow": null,
      "grid_area": null,
      "grid_auto_columns": null,
      "grid_auto_flow": null,
      "grid_auto_rows": null,
      "grid_column": null,
      "grid_gap": null,
      "grid_row": null,
      "grid_template_areas": null,
      "grid_template_columns": null,
      "grid_template_rows": null,
      "height": null,
      "justify_content": null,
      "justify_items": null,
      "left": null,
      "margin": null,
      "max_height": null,
      "max_width": null,
      "min_height": null,
      "min_width": null,
      "object_fit": null,
      "object_position": null,
      "order": null,
      "overflow": null,
      "overflow_x": null,
      "overflow_y": null,
      "padding": null,
      "right": null,
      "top": null,
      "visibility": "hidden",
      "width": null
     }
    },
    "0be812a9d32c4ac2be60ffccad51330e": {
     "model_module": "@jupyter-widgets/base",
     "model_module_version": "1.2.0",
     "model_name": "LayoutModel",
     "state": {
      "_model_module": "@jupyter-widgets/base",
      "_model_module_version": "1.2.0",
      "_model_name": "LayoutModel",
      "_view_count": null,
      "_view_module": "@jupyter-widgets/base",
      "_view_module_version": "1.2.0",
      "_view_name": "LayoutView",
      "align_content": null,
      "align_items": null,
      "align_self": null,
      "border": null,
      "bottom": null,
      "display": null,
      "flex": null,
      "flex_flow": null,
      "grid_area": null,
      "grid_auto_columns": null,
      "grid_auto_flow": null,
      "grid_auto_rows": null,
      "grid_column": null,
      "grid_gap": null,
      "grid_row": null,
      "grid_template_areas": null,
      "grid_template_columns": null,
      "grid_template_rows": null,
      "height": null,
      "justify_content": null,
      "justify_items": null,
      "left": null,
      "margin": null,
      "max_height": null,
      "max_width": null,
      "min_height": null,
      "min_width": null,
      "object_fit": null,
      "object_position": null,
      "order": null,
      "overflow": null,
      "overflow_x": null,
      "overflow_y": null,
      "padding": null,
      "right": null,
      "top": null,
      "visibility": null,
      "width": null
     }
    },
    "100e8809162c4f838f9153b495eb0a0b": {
     "model_module": "@jupyter-widgets/base",
     "model_module_version": "1.2.0",
     "model_name": "LayoutModel",
     "state": {
      "_model_module": "@jupyter-widgets/base",
      "_model_module_version": "1.2.0",
      "_model_name": "LayoutModel",
      "_view_count": null,
      "_view_module": "@jupyter-widgets/base",
      "_view_module_version": "1.2.0",
      "_view_name": "LayoutView",
      "align_content": null,
      "align_items": null,
      "align_self": null,
      "border": null,
      "bottom": null,
      "display": null,
      "flex": null,
      "flex_flow": null,
      "grid_area": null,
      "grid_auto_columns": null,
      "grid_auto_flow": null,
      "grid_auto_rows": null,
      "grid_column": null,
      "grid_gap": null,
      "grid_row": null,
      "grid_template_areas": null,
      "grid_template_columns": null,
      "grid_template_rows": null,
      "height": null,
      "justify_content": null,
      "justify_items": null,
      "left": null,
      "margin": null,
      "max_height": null,
      "max_width": null,
      "min_height": null,
      "min_width": null,
      "object_fit": null,
      "object_position": null,
      "order": null,
      "overflow": null,
      "overflow_x": null,
      "overflow_y": null,
      "padding": null,
      "right": null,
      "top": null,
      "visibility": null,
      "width": null
     }
    },
    "11241366811546f18b30a4c5f034c959": {
     "model_module": "@jupyter-widgets/controls",
     "model_module_version": "1.5.0",
     "model_name": "HBoxModel",
     "state": {
      "_dom_classes": [],
      "_model_module": "@jupyter-widgets/controls",
      "_model_module_version": "1.5.0",
      "_model_name": "HBoxModel",
      "_view_count": null,
      "_view_module": "@jupyter-widgets/controls",
      "_view_module_version": "1.5.0",
      "_view_name": "HBoxView",
      "box_style": "",
      "children": [
       "IPY_MODEL_5b4b7f22dbfe4fb587c5394efd289221",
       "IPY_MODEL_44e69c59b7d9429f9d138ea6abc43f94",
       "IPY_MODEL_4272f2f0e1154d7694358e00340a47e7"
      ],
      "layout": "IPY_MODEL_f54abddfb36b47788b24741361f2abee"
     }
    },
    "153f41c5956e4d7f9cdf7459d0c3df3f": {
     "model_module": "@jupyter-widgets/controls",
     "model_module_version": "1.5.0",
     "model_name": "FloatProgressModel",
     "state": {
      "_dom_classes": [],
      "_model_module": "@jupyter-widgets/controls",
      "_model_module_version": "1.5.0",
      "_model_name": "FloatProgressModel",
      "_view_count": null,
      "_view_module": "@jupyter-widgets/controls",
      "_view_module_version": "1.5.0",
      "_view_name": "ProgressView",
      "bar_style": "info",
      "description": "",
      "description_tooltip": null,
      "layout": "IPY_MODEL_4ac5214404414d9380b382dcab5c7248",
      "max": 1,
      "min": 0,
      "orientation": "horizontal",
      "style": "IPY_MODEL_229c42c633b04e6298d67037a1654350",
      "value": 1
     }
    },
    "19eb3bfd7efd41b68a667d79018094a4": {
     "model_module": "@jupyter-widgets/controls",
     "model_module_version": "1.5.0",
     "model_name": "HBoxModel",
     "state": {
      "_dom_classes": [],
      "_model_module": "@jupyter-widgets/controls",
      "_model_module_version": "1.5.0",
      "_model_name": "HBoxModel",
      "_view_count": null,
      "_view_module": "@jupyter-widgets/controls",
      "_view_module_version": "1.5.0",
      "_view_name": "HBoxView",
      "box_style": "",
      "children": [
       "IPY_MODEL_e0539402d19b45abaa3a055dc6903f53",
       "IPY_MODEL_ab97e3fb34044f548f7e7b3c1087087b",
       "IPY_MODEL_36edae111bc04517bc40bd8555e26c32"
      ],
      "layout": "IPY_MODEL_0ab6114945204376a35dc0009ef24bc9"
     }
    },
    "1a2e427f064d480fa01af3d97c29d92b": {
     "model_module": "@jupyter-widgets/controls",
     "model_module_version": "1.5.0",
     "model_name": "FloatProgressModel",
     "state": {
      "_dom_classes": [],
      "_model_module": "@jupyter-widgets/controls",
      "_model_module_version": "1.5.0",
      "_model_name": "FloatProgressModel",
      "_view_count": null,
      "_view_module": "@jupyter-widgets/controls",
      "_view_module_version": "1.5.0",
      "_view_name": "ProgressView",
      "bar_style": "info",
      "description": "",
      "description_tooltip": null,
      "layout": "IPY_MODEL_51549734b8e0443b97af08ed085bfead",
      "max": 1,
      "min": 0,
      "orientation": "horizontal",
      "style": "IPY_MODEL_42abd3030abd4130a9844627adfbb23f",
      "value": 1
     }
    },
    "1a3bcc40cb6b4887b7d213e03696b73f": {
     "model_module": "@jupyter-widgets/controls",
     "model_module_version": "1.5.0",
     "model_name": "ProgressStyleModel",
     "state": {
      "_model_module": "@jupyter-widgets/controls",
      "_model_module_version": "1.5.0",
      "_model_name": "ProgressStyleModel",
      "_view_count": null,
      "_view_module": "@jupyter-widgets/base",
      "_view_module_version": "1.2.0",
      "_view_name": "StyleView",
      "bar_color": null,
      "description_width": ""
     }
    },
    "1b2bb0517a0843bca8b24c06b4d3bfab": {
     "model_module": "@jupyter-widgets/controls",
     "model_module_version": "1.5.0",
     "model_name": "DescriptionStyleModel",
     "state": {
      "_model_module": "@jupyter-widgets/controls",
      "_model_module_version": "1.5.0",
      "_model_name": "DescriptionStyleModel",
      "_view_count": null,
      "_view_module": "@jupyter-widgets/base",
      "_view_module_version": "1.2.0",
      "_view_name": "StyleView",
      "description_width": ""
     }
    },
    "1de1adb840fd4e0085d75ee569198024": {
     "model_module": "@jupyter-widgets/base",
     "model_module_version": "1.2.0",
     "model_name": "LayoutModel",
     "state": {
      "_model_module": "@jupyter-widgets/base",
      "_model_module_version": "1.2.0",
      "_model_name": "LayoutModel",
      "_view_count": null,
      "_view_module": "@jupyter-widgets/base",
      "_view_module_version": "1.2.0",
      "_view_name": "LayoutView",
      "align_content": null,
      "align_items": null,
      "align_self": null,
      "border": null,
      "bottom": null,
      "display": null,
      "flex": null,
      "flex_flow": null,
      "grid_area": null,
      "grid_auto_columns": null,
      "grid_auto_flow": null,
      "grid_auto_rows": null,
      "grid_column": null,
      "grid_gap": null,
      "grid_row": null,
      "grid_template_areas": null,
      "grid_template_columns": null,
      "grid_template_rows": null,
      "height": null,
      "justify_content": null,
      "justify_items": null,
      "left": null,
      "margin": null,
      "max_height": null,
      "max_width": null,
      "min_height": null,
      "min_width": null,
      "object_fit": null,
      "object_position": null,
      "order": null,
      "overflow": null,
      "overflow_x": null,
      "overflow_y": null,
      "padding": null,
      "right": null,
      "top": null,
      "visibility": null,
      "width": null
     }
    },
    "1faa47c18dcd4f6eb3669b03dbacf2a5": {
     "model_module": "@jupyter-widgets/controls",
     "model_module_version": "1.5.0",
     "model_name": "HBoxModel",
     "state": {
      "_dom_classes": [],
      "_model_module": "@jupyter-widgets/controls",
      "_model_module_version": "1.5.0",
      "_model_name": "HBoxModel",
      "_view_count": null,
      "_view_module": "@jupyter-widgets/controls",
      "_view_module_version": "1.5.0",
      "_view_name": "HBoxView",
      "box_style": "",
      "children": [
       "IPY_MODEL_b10b2f39b9294a9aac894830d9e6190f",
       "IPY_MODEL_1a2e427f064d480fa01af3d97c29d92b",
       "IPY_MODEL_b4dec34ccd3b47b2b280219d496703e1"
      ],
      "layout": "IPY_MODEL_fc160c6d5469432790557a4cdc539169"
     }
    },
    "229c42c633b04e6298d67037a1654350": {
     "model_module": "@jupyter-widgets/controls",
     "model_module_version": "1.5.0",
     "model_name": "ProgressStyleModel",
     "state": {
      "_model_module": "@jupyter-widgets/controls",
      "_model_module_version": "1.5.0",
      "_model_name": "ProgressStyleModel",
      "_view_count": null,
      "_view_module": "@jupyter-widgets/base",
      "_view_module_version": "1.2.0",
      "_view_name": "StyleView",
      "bar_color": null,
      "description_width": ""
     }
    },
    "2f005c0b677c4d7ba19f70bb440792c2": {
     "model_module": "@jupyter-widgets/controls",
     "model_module_version": "1.5.0",
     "model_name": "DescriptionStyleModel",
     "state": {
      "_model_module": "@jupyter-widgets/controls",
      "_model_module_version": "1.5.0",
      "_model_name": "DescriptionStyleModel",
      "_view_count": null,
      "_view_module": "@jupyter-widgets/base",
      "_view_module_version": "1.2.0",
      "_view_name": "StyleView",
      "description_width": ""
     }
    },
    "2f09362a68fa49b59b6c8b967ba0ad7c": {
     "model_module": "@jupyter-widgets/controls",
     "model_module_version": "1.5.0",
     "model_name": "DescriptionStyleModel",
     "state": {
      "_model_module": "@jupyter-widgets/controls",
      "_model_module_version": "1.5.0",
      "_model_name": "DescriptionStyleModel",
      "_view_count": null,
      "_view_module": "@jupyter-widgets/base",
      "_view_module_version": "1.2.0",
      "_view_name": "StyleView",
      "description_width": ""
     }
    },
    "31be2072c3ef4c9c9d654d7fb09bab73": {
     "model_module": "@jupyter-widgets/controls",
     "model_module_version": "1.5.0",
     "model_name": "ProgressStyleModel",
     "state": {
      "_model_module": "@jupyter-widgets/controls",
      "_model_module_version": "1.5.0",
      "_model_name": "ProgressStyleModel",
      "_view_count": null,
      "_view_module": "@jupyter-widgets/base",
      "_view_module_version": "1.2.0",
      "_view_name": "StyleView",
      "bar_color": null,
      "description_width": ""
     }
    },
    "34e8ee2d716749948208e9e4000e4fe6": {
     "model_module": "@jupyter-widgets/controls",
     "model_module_version": "1.5.0",
     "model_name": "DescriptionStyleModel",
     "state": {
      "_model_module": "@jupyter-widgets/controls",
      "_model_module_version": "1.5.0",
      "_model_name": "DescriptionStyleModel",
      "_view_count": null,
      "_view_module": "@jupyter-widgets/base",
      "_view_module_version": "1.2.0",
      "_view_name": "StyleView",
      "description_width": ""
     }
    },
    "36edae111bc04517bc40bd8555e26c32": {
     "model_module": "@jupyter-widgets/controls",
     "model_module_version": "1.5.0",
     "model_name": "HTMLModel",
     "state": {
      "_dom_classes": [],
      "_model_module": "@jupyter-widgets/controls",
      "_model_module_version": "1.5.0",
      "_model_name": "HTMLModel",
      "_view_count": null,
      "_view_module": "@jupyter-widgets/controls",
      "_view_module_version": "1.5.0",
      "_view_name": "HTMLView",
      "description": "",
      "description_tooltip": null,
      "layout": "IPY_MODEL_70ca1db6598f4a4487ba6e28b9ac898f",
      "placeholder": "​",
      "style": "IPY_MODEL_d9a2e30fbefa49e6a07de3f9fad0dfe8",
      "value": " 0/624 [00:00&lt;?, ? examples/s]"
     }
    },
    "374dc4acbdbd41f58d95b9c930da3e58": {
     "model_module": "@jupyter-widgets/controls",
     "model_module_version": "1.5.0",
     "model_name": "HTMLModel",
     "state": {
      "_dom_classes": [],
      "_model_module": "@jupyter-widgets/controls",
      "_model_module_version": "1.5.0",
      "_model_name": "HTMLModel",
      "_view_count": null,
      "_view_module": "@jupyter-widgets/controls",
      "_view_module_version": "1.5.0",
      "_view_name": "HTMLView",
      "description": "",
      "description_tooltip": null,
      "layout": "IPY_MODEL_d4505cd8890c43138eda8dd24e6cc07a",
      "placeholder": "​",
      "style": "IPY_MODEL_708c3d8676b74958887bc9e1dd70ed6a",
      "value": "Generating train examples...: "
     }
    },
    "37a44f8098c24d988daf59820a6b8556": {
     "model_module": "@jupyter-widgets/base",
     "model_module_version": "1.2.0",
     "model_name": "LayoutModel",
     "state": {
      "_model_module": "@jupyter-widgets/base",
      "_model_module_version": "1.2.0",
      "_model_name": "LayoutModel",
      "_view_count": null,
      "_view_module": "@jupyter-widgets/base",
      "_view_module_version": "1.2.0",
      "_view_name": "LayoutView",
      "align_content": null,
      "align_items": null,
      "align_self": null,
      "border": null,
      "bottom": null,
      "display": null,
      "flex": null,
      "flex_flow": null,
      "grid_area": null,
      "grid_auto_columns": null,
      "grid_auto_flow": null,
      "grid_auto_rows": null,
      "grid_column": null,
      "grid_gap": null,
      "grid_row": null,
      "grid_template_areas": null,
      "grid_template_columns": null,
      "grid_template_rows": null,
      "height": null,
      "justify_content": null,
      "justify_items": null,
      "left": null,
      "margin": null,
      "max_height": null,
      "max_width": null,
      "min_height": null,
      "min_width": null,
      "object_fit": null,
      "object_position": null,
      "order": null,
      "overflow": null,
      "overflow_x": null,
      "overflow_y": null,
      "padding": null,
      "right": null,
      "top": null,
      "visibility": null,
      "width": null
     }
    },
    "39dcef18009d41ea84ffd4977937de46": {
     "model_module": "@jupyter-widgets/controls",
     "model_module_version": "1.5.0",
     "model_name": "HTMLModel",
     "state": {
      "_dom_classes": [],
      "_model_module": "@jupyter-widgets/controls",
      "_model_module_version": "1.5.0",
      "_model_name": "HTMLModel",
      "_view_count": null,
      "_view_module": "@jupyter-widgets/controls",
      "_view_module_version": "1.5.0",
      "_view_name": "HTMLView",
      "description": "",
      "description_tooltip": null,
      "layout": "IPY_MODEL_4cbe0061b47d46afb7a867af6623d8e9",
      "placeholder": "​",
      "style": "IPY_MODEL_be2059b4882f45019141c3e2b69e53de",
      "value": " 3/3 [00:04&lt;00:00,  1.15s/ MiB]"
     }
    },
    "3b46f8e762f7426f9bcf822d98100616": {
     "model_module": "@jupyter-widgets/controls",
     "model_module_version": "1.5.0",
     "model_name": "HTMLModel",
     "state": {
      "_dom_classes": [],
      "_model_module": "@jupyter-widgets/controls",
      "_model_module_version": "1.5.0",
      "_model_name": "HTMLModel",
      "_view_count": null,
      "_view_module": "@jupyter-widgets/controls",
      "_view_module_version": "1.5.0",
      "_view_name": "HTMLView",
      "description": "",
      "description_tooltip": null,
      "layout": "IPY_MODEL_a4e1128594be47448395d693dca55b35",
      "placeholder": "​",
      "style": "IPY_MODEL_1b2bb0517a0843bca8b24c06b4d3bfab",
      "value": "Shuffling /root/tensorflow_datasets/pneumonia_mnist/incomplete.T74UQ8_1.0.0/pneumonia_mnist-train.tfrecord*...:   0%"
     }
    },
    "3c59d7b666f341bf82dd8d29e0934b47": {
     "model_module": "@jupyter-widgets/controls",
     "model_module_version": "1.5.0",
     "model_name": "ProgressStyleModel",
     "state": {
      "_model_module": "@jupyter-widgets/controls",
      "_model_module_version": "1.5.0",
      "_model_name": "ProgressStyleModel",
      "_view_count": null,
      "_view_module": "@jupyter-widgets/base",
      "_view_module_version": "1.2.0",
      "_view_name": "StyleView",
      "bar_color": null,
      "description_width": ""
     }
    },
    "3d6f12a2187c43f8b0244edaae16ee33": {
     "model_module": "@jupyter-widgets/controls",
     "model_module_version": "1.5.0",
     "model_name": "HTMLModel",
     "state": {
      "_dom_classes": [],
      "_model_module": "@jupyter-widgets/controls",
      "_model_module_version": "1.5.0",
      "_model_name": "HTMLModel",
      "_view_count": null,
      "_view_module": "@jupyter-widgets/controls",
      "_view_module_version": "1.5.0",
      "_view_name": "HTMLView",
      "description": "",
      "description_tooltip": null,
      "layout": "IPY_MODEL_59c76577bfc6443f89d3fe91f7d1a79a",
      "placeholder": "​",
      "style": "IPY_MODEL_02828f3a416c42adba50396af21b61b9",
      "value": " 0/4708 [00:00&lt;?, ? examples/s]"
     }
    },
    "4272f2f0e1154d7694358e00340a47e7": {
     "model_module": "@jupyter-widgets/controls",
     "model_module_version": "1.5.0",
     "model_name": "HTMLModel",
     "state": {
      "_dom_classes": [],
      "_model_module": "@jupyter-widgets/controls",
      "_model_module_version": "1.5.0",
      "_model_name": "HTMLModel",
      "_view_count": null,
      "_view_module": "@jupyter-widgets/controls",
      "_view_module_version": "1.5.0",
      "_view_name": "HTMLView",
      "description": "",
      "description_tooltip": null,
      "layout": "IPY_MODEL_0be812a9d32c4ac2be60ffccad51330e",
      "placeholder": "​",
      "style": "IPY_MODEL_54147b7132784b56a763d0b30cc57d67",
      "value": " 0/524 [00:00&lt;?, ? examples/s]"
     }
    },
    "42abd3030abd4130a9844627adfbb23f": {
     "model_module": "@jupyter-widgets/controls",
     "model_module_version": "1.5.0",
     "model_name": "ProgressStyleModel",
     "state": {
      "_model_module": "@jupyter-widgets/controls",
      "_model_module_version": "1.5.0",
      "_model_name": "ProgressStyleModel",
      "_view_count": null,
      "_view_module": "@jupyter-widgets/base",
      "_view_module_version": "1.2.0",
      "_view_name": "StyleView",
      "bar_color": null,
      "description_width": ""
     }
    },
    "44e69c59b7d9429f9d138ea6abc43f94": {
     "model_module": "@jupyter-widgets/controls",
     "model_module_version": "1.5.0",
     "model_name": "FloatProgressModel",
     "state": {
      "_dom_classes": [],
      "_model_module": "@jupyter-widgets/controls",
      "_model_module_version": "1.5.0",
      "_model_name": "FloatProgressModel",
      "_view_count": null,
      "_view_module": "@jupyter-widgets/controls",
      "_view_module_version": "1.5.0",
      "_view_name": "ProgressView",
      "bar_style": "",
      "description": "",
      "description_tooltip": null,
      "layout": "IPY_MODEL_37a44f8098c24d988daf59820a6b8556",
      "max": 524,
      "min": 0,
      "orientation": "horizontal",
      "style": "IPY_MODEL_1a3bcc40cb6b4887b7d213e03696b73f",
      "value": 524
     }
    },
    "44f54c29e560449db7b9bae883417b37": {
     "model_module": "@jupyter-widgets/controls",
     "model_module_version": "1.5.0",
     "model_name": "ProgressStyleModel",
     "state": {
      "_model_module": "@jupyter-widgets/controls",
      "_model_module_version": "1.5.0",
      "_model_name": "ProgressStyleModel",
      "_view_count": null,
      "_view_module": "@jupyter-widgets/base",
      "_view_module_version": "1.2.0",
      "_view_name": "StyleView",
      "bar_color": null,
      "description_width": ""
     }
    },
    "49038ff321584f4b9e02ac80f99c4f0b": {
     "model_module": "@jupyter-widgets/controls",
     "model_module_version": "1.5.0",
     "model_name": "ProgressStyleModel",
     "state": {
      "_model_module": "@jupyter-widgets/controls",
      "_model_module_version": "1.5.0",
      "_model_name": "ProgressStyleModel",
      "_view_count": null,
      "_view_module": "@jupyter-widgets/base",
      "_view_module_version": "1.2.0",
      "_view_name": "StyleView",
      "bar_color": null,
      "description_width": ""
     }
    },
    "4ac5214404414d9380b382dcab5c7248": {
     "model_module": "@jupyter-widgets/base",
     "model_module_version": "1.2.0",
     "model_name": "LayoutModel",
     "state": {
      "_model_module": "@jupyter-widgets/base",
      "_model_module_version": "1.2.0",
      "_model_name": "LayoutModel",
      "_view_count": null,
      "_view_module": "@jupyter-widgets/base",
      "_view_module_version": "1.2.0",
      "_view_name": "LayoutView",
      "align_content": null,
      "align_items": null,
      "align_self": null,
      "border": null,
      "bottom": null,
      "display": null,
      "flex": null,
      "flex_flow": null,
      "grid_area": null,
      "grid_auto_columns": null,
      "grid_auto_flow": null,
      "grid_auto_rows": null,
      "grid_column": null,
      "grid_gap": null,
      "grid_row": null,
      "grid_template_areas": null,
      "grid_template_columns": null,
      "grid_template_rows": null,
      "height": null,
      "justify_content": null,
      "justify_items": null,
      "left": null,
      "margin": null,
      "max_height": null,
      "max_width": null,
      "min_height": null,
      "min_width": null,
      "object_fit": null,
      "object_position": null,
      "order": null,
      "overflow": null,
      "overflow_x": null,
      "overflow_y": null,
      "padding": null,
      "right": null,
      "top": null,
      "visibility": null,
      "width": "20px"
     }
    },
    "4c437f92f1b64c45850d86ab25629adb": {
     "model_module": "@jupyter-widgets/controls",
     "model_module_version": "1.5.0",
     "model_name": "FloatProgressModel",
     "state": {
      "_dom_classes": [],
      "_model_module": "@jupyter-widgets/controls",
      "_model_module_version": "1.5.0",
      "_model_name": "FloatProgressModel",
      "_view_count": null,
      "_view_module": "@jupyter-widgets/controls",
      "_view_module_version": "1.5.0",
      "_view_name": "ProgressView",
      "bar_style": "success",
      "description": "",
      "description_tooltip": null,
      "layout": "IPY_MODEL_a4b9119ebe024b4da6f9ad17e40789c9",
      "max": 1,
      "min": 0,
      "orientation": "horizontal",
      "style": "IPY_MODEL_6284661b6e9f404cac3e3b45e60369b8",
      "value": 1
     }
    },
    "4cbe0061b47d46afb7a867af6623d8e9": {
     "model_module": "@jupyter-widgets/base",
     "model_module_version": "1.2.0",
     "model_name": "LayoutModel",
     "state": {
      "_model_module": "@jupyter-widgets/base",
      "_model_module_version": "1.2.0",
      "_model_name": "LayoutModel",
      "_view_count": null,
      "_view_module": "@jupyter-widgets/base",
      "_view_module_version": "1.2.0",
      "_view_name": "LayoutView",
      "align_content": null,
      "align_items": null,
      "align_self": null,
      "border": null,
      "bottom": null,
      "display": null,
      "flex": null,
      "flex_flow": null,
      "grid_area": null,
      "grid_auto_columns": null,
      "grid_auto_flow": null,
      "grid_auto_rows": null,
      "grid_column": null,
      "grid_gap": null,
      "grid_row": null,
      "grid_template_areas": null,
      "grid_template_columns": null,
      "grid_template_rows": null,
      "height": null,
      "justify_content": null,
      "justify_items": null,
      "left": null,
      "margin": null,
      "max_height": null,
      "max_width": null,
      "min_height": null,
      "min_width": null,
      "object_fit": null,
      "object_position": null,
      "order": null,
      "overflow": null,
      "overflow_x": null,
      "overflow_y": null,
      "padding": null,
      "right": null,
      "top": null,
      "visibility": null,
      "width": null
     }
    },
    "4d47b971462c40c79afb154253316214": {
     "model_module": "@jupyter-widgets/controls",
     "model_module_version": "1.5.0",
     "model_name": "DescriptionStyleModel",
     "state": {
      "_model_module": "@jupyter-widgets/controls",
      "_model_module_version": "1.5.0",
      "_model_name": "DescriptionStyleModel",
      "_view_count": null,
      "_view_module": "@jupyter-widgets/base",
      "_view_module_version": "1.2.0",
      "_view_name": "StyleView",
      "description_width": ""
     }
    },
    "4f439bcf61e649799578b583fb950f78": {
     "model_module": "@jupyter-widgets/controls",
     "model_module_version": "1.5.0",
     "model_name": "HBoxModel",
     "state": {
      "_dom_classes": [],
      "_model_module": "@jupyter-widgets/controls",
      "_model_module_version": "1.5.0",
      "_model_name": "HBoxModel",
      "_view_count": null,
      "_view_module": "@jupyter-widgets/controls",
      "_view_module_version": "1.5.0",
      "_view_name": "HBoxView",
      "box_style": "",
      "children": [
       "IPY_MODEL_867b6090e19244ed9678b5324583c5db",
       "IPY_MODEL_dc203713a2e348bfb2a4cab220d159aa",
       "IPY_MODEL_cd95cad3ed9248d1b78cd732d5e83d28"
      ],
      "layout": "IPY_MODEL_4f4573c82a8841f19998195cd95335d9"
     }
    },
    "4f4573c82a8841f19998195cd95335d9": {
     "model_module": "@jupyter-widgets/base",
     "model_module_version": "1.2.0",
     "model_name": "LayoutModel",
     "state": {
      "_model_module": "@jupyter-widgets/base",
      "_model_module_version": "1.2.0",
      "_model_name": "LayoutModel",
      "_view_count": null,
      "_view_module": "@jupyter-widgets/base",
      "_view_module_version": "1.2.0",
      "_view_name": "LayoutView",
      "align_content": null,
      "align_items": null,
      "align_self": null,
      "border": null,
      "bottom": null,
      "display": null,
      "flex": null,
      "flex_flow": null,
      "grid_area": null,
      "grid_auto_columns": null,
      "grid_auto_flow": null,
      "grid_auto_rows": null,
      "grid_column": null,
      "grid_gap": null,
      "grid_row": null,
      "grid_template_areas": null,
      "grid_template_columns": null,
      "grid_template_rows": null,
      "height": null,
      "justify_content": null,
      "justify_items": null,
      "left": null,
      "margin": null,
      "max_height": null,
      "max_width": null,
      "min_height": null,
      "min_width": null,
      "object_fit": null,
      "object_position": null,
      "order": null,
      "overflow": null,
      "overflow_x": null,
      "overflow_y": null,
      "padding": null,
      "right": null,
      "top": null,
      "visibility": "hidden",
      "width": null
     }
    },
    "4fed55f1c78e493a9b39c6bbe079bd76": {
     "model_module": "@jupyter-widgets/controls",
     "model_module_version": "1.5.0",
     "model_name": "DescriptionStyleModel",
     "state": {
      "_model_module": "@jupyter-widgets/controls",
      "_model_module_version": "1.5.0",
      "_model_name": "DescriptionStyleModel",
      "_view_count": null,
      "_view_module": "@jupyter-widgets/base",
      "_view_module_version": "1.2.0",
      "_view_name": "StyleView",
      "description_width": ""
     }
    },
    "51549734b8e0443b97af08ed085bfead": {
     "model_module": "@jupyter-widgets/base",
     "model_module_version": "1.2.0",
     "model_name": "LayoutModel",
     "state": {
      "_model_module": "@jupyter-widgets/base",
      "_model_module_version": "1.2.0",
      "_model_name": "LayoutModel",
      "_view_count": null,
      "_view_module": "@jupyter-widgets/base",
      "_view_module_version": "1.2.0",
      "_view_name": "LayoutView",
      "align_content": null,
      "align_items": null,
      "align_self": null,
      "border": null,
      "bottom": null,
      "display": null,
      "flex": null,
      "flex_flow": null,
      "grid_area": null,
      "grid_auto_columns": null,
      "grid_auto_flow": null,
      "grid_auto_rows": null,
      "grid_column": null,
      "grid_gap": null,
      "grid_row": null,
      "grid_template_areas": null,
      "grid_template_columns": null,
      "grid_template_rows": null,
      "height": null,
      "justify_content": null,
      "justify_items": null,
      "left": null,
      "margin": null,
      "max_height": null,
      "max_width": null,
      "min_height": null,
      "min_width": null,
      "object_fit": null,
      "object_position": null,
      "order": null,
      "overflow": null,
      "overflow_x": null,
      "overflow_y": null,
      "padding": null,
      "right": null,
      "top": null,
      "visibility": null,
      "width": "20px"
     }
    },
    "54147b7132784b56a763d0b30cc57d67": {
     "model_module": "@jupyter-widgets/controls",
     "model_module_version": "1.5.0",
     "model_name": "DescriptionStyleModel",
     "state": {
      "_model_module": "@jupyter-widgets/controls",
      "_model_module_version": "1.5.0",
      "_model_name": "DescriptionStyleModel",
      "_view_count": null,
      "_view_module": "@jupyter-widgets/base",
      "_view_module_version": "1.2.0",
      "_view_name": "StyleView",
      "description_width": ""
     }
    },
    "56c503776dca4d149ad5d19969d5fcb5": {
     "model_module": "@jupyter-widgets/controls",
     "model_module_version": "1.5.0",
     "model_name": "HTMLModel",
     "state": {
      "_dom_classes": [],
      "_model_module": "@jupyter-widgets/controls",
      "_model_module_version": "1.5.0",
      "_model_name": "HTMLModel",
      "_view_count": null,
      "_view_module": "@jupyter-widgets/controls",
      "_view_module_version": "1.5.0",
      "_view_name": "HTMLView",
      "description": "",
      "description_tooltip": null,
      "layout": "IPY_MODEL_ff48c624a325458692b5bb146ebabb64",
      "placeholder": "​",
      "style": "IPY_MODEL_8d2c361f90da4dd980dec0392d830802",
      "value": "Dl Size...: 100%"
     }
    },
    "57c6b8eb3e7c4fed992a47d005c2707b": {
     "model_module": "@jupyter-widgets/base",
     "model_module_version": "1.2.0",
     "model_name": "LayoutModel",
     "state": {
      "_model_module": "@jupyter-widgets/base",
      "_model_module_version": "1.2.0",
      "_model_name": "LayoutModel",
      "_view_count": null,
      "_view_module": "@jupyter-widgets/base",
      "_view_module_version": "1.2.0",
      "_view_name": "LayoutView",
      "align_content": null,
      "align_items": null,
      "align_self": null,
      "border": null,
      "bottom": null,
      "display": null,
      "flex": null,
      "flex_flow": null,
      "grid_area": null,
      "grid_auto_columns": null,
      "grid_auto_flow": null,
      "grid_auto_rows": null,
      "grid_column": null,
      "grid_gap": null,
      "grid_row": null,
      "grid_template_areas": null,
      "grid_template_columns": null,
      "grid_template_rows": null,
      "height": null,
      "justify_content": null,
      "justify_items": null,
      "left": null,
      "margin": null,
      "max_height": null,
      "max_width": null,
      "min_height": null,
      "min_width": null,
      "object_fit": null,
      "object_position": null,
      "order": null,
      "overflow": null,
      "overflow_x": null,
      "overflow_y": null,
      "padding": null,
      "right": null,
      "top": null,
      "visibility": null,
      "width": "20px"
     }
    },
    "59c76577bfc6443f89d3fe91f7d1a79a": {
     "model_module": "@jupyter-widgets/base",
     "model_module_version": "1.2.0",
     "model_name": "LayoutModel",
     "state": {
      "_model_module": "@jupyter-widgets/base",
      "_model_module_version": "1.2.0",
      "_model_name": "LayoutModel",
      "_view_count": null,
      "_view_module": "@jupyter-widgets/base",
      "_view_module_version": "1.2.0",
      "_view_name": "LayoutView",
      "align_content": null,
      "align_items": null,
      "align_self": null,
      "border": null,
      "bottom": null,
      "display": null,
      "flex": null,
      "flex_flow": null,
      "grid_area": null,
      "grid_auto_columns": null,
      "grid_auto_flow": null,
      "grid_auto_rows": null,
      "grid_column": null,
      "grid_gap": null,
      "grid_row": null,
      "grid_template_areas": null,
      "grid_template_columns": null,
      "grid_template_rows": null,
      "height": null,
      "justify_content": null,
      "justify_items": null,
      "left": null,
      "margin": null,
      "max_height": null,
      "max_width": null,
      "min_height": null,
      "min_width": null,
      "object_fit": null,
      "object_position": null,
      "order": null,
      "overflow": null,
      "overflow_x": null,
      "overflow_y": null,
      "padding": null,
      "right": null,
      "top": null,
      "visibility": null,
      "width": null
     }
    },
    "5a64c12043674c9fafb07776b61d3692": {
     "model_module": "@jupyter-widgets/base",
     "model_module_version": "1.2.0",
     "model_name": "LayoutModel",
     "state": {
      "_model_module": "@jupyter-widgets/base",
      "_model_module_version": "1.2.0",
      "_model_name": "LayoutModel",
      "_view_count": null,
      "_view_module": "@jupyter-widgets/base",
      "_view_module_version": "1.2.0",
      "_view_name": "LayoutView",
      "align_content": null,
      "align_items": null,
      "align_self": null,
      "border": null,
      "bottom": null,
      "display": null,
      "flex": null,
      "flex_flow": null,
      "grid_area": null,
      "grid_auto_columns": null,
      "grid_auto_flow": null,
      "grid_auto_rows": null,
      "grid_column": null,
      "grid_gap": null,
      "grid_row": null,
      "grid_template_areas": null,
      "grid_template_columns": null,
      "grid_template_rows": null,
      "height": null,
      "justify_content": null,
      "justify_items": null,
      "left": null,
      "margin": null,
      "max_height": null,
      "max_width": null,
      "min_height": null,
      "min_width": null,
      "object_fit": null,
      "object_position": null,
      "order": null,
      "overflow": null,
      "overflow_x": null,
      "overflow_y": null,
      "padding": null,
      "right": null,
      "top": null,
      "visibility": null,
      "width": null
     }
    },
    "5b4b7f22dbfe4fb587c5394efd289221": {
     "model_module": "@jupyter-widgets/controls",
     "model_module_version": "1.5.0",
     "model_name": "HTMLModel",
     "state": {
      "_dom_classes": [],
      "_model_module": "@jupyter-widgets/controls",
      "_model_module_version": "1.5.0",
      "_model_name": "HTMLModel",
      "_view_count": null,
      "_view_module": "@jupyter-widgets/controls",
      "_view_module_version": "1.5.0",
      "_view_name": "HTMLView",
      "description": "",
      "description_tooltip": null,
      "layout": "IPY_MODEL_7cc47da8bc7c450fa83a66e2f580d1e1",
      "placeholder": "​",
      "style": "IPY_MODEL_ba1685000fab4d9f81f85793c24b9125",
      "value": "Shuffling /root/tensorflow_datasets/pneumonia_mnist/incomplete.T74UQ8_1.0.0/pneumonia_mnist-val.tfrecord*...:   0%"
     }
    },
    "6284661b6e9f404cac3e3b45e60369b8": {
     "model_module": "@jupyter-widgets/controls",
     "model_module_version": "1.5.0",
     "model_name": "ProgressStyleModel",
     "state": {
      "_model_module": "@jupyter-widgets/controls",
      "_model_module_version": "1.5.0",
      "_model_name": "ProgressStyleModel",
      "_view_count": null,
      "_view_module": "@jupyter-widgets/base",
      "_view_module_version": "1.2.0",
      "_view_name": "StyleView",
      "bar_color": null,
      "description_width": ""
     }
    },
    "6c6299b9df9c4e978d17e349fe8b7ed1": {
     "model_module": "@jupyter-widgets/base",
     "model_module_version": "1.2.0",
     "model_name": "LayoutModel",
     "state": {
      "_model_module": "@jupyter-widgets/base",
      "_model_module_version": "1.2.0",
      "_model_name": "LayoutModel",
      "_view_count": null,
      "_view_module": "@jupyter-widgets/base",
      "_view_module_version": "1.2.0",
      "_view_name": "LayoutView",
      "align_content": null,
      "align_items": null,
      "align_self": null,
      "border": null,
      "bottom": null,
      "display": null,
      "flex": null,
      "flex_flow": null,
      "grid_area": null,
      "grid_auto_columns": null,
      "grid_auto_flow": null,
      "grid_auto_rows": null,
      "grid_column": null,
      "grid_gap": null,
      "grid_row": null,
      "grid_template_areas": null,
      "grid_template_columns": null,
      "grid_template_rows": null,
      "height": null,
      "justify_content": null,
      "justify_items": null,
      "left": null,
      "margin": null,
      "max_height": null,
      "max_width": null,
      "min_height": null,
      "min_width": null,
      "object_fit": null,
      "object_position": null,
      "order": null,
      "overflow": null,
      "overflow_x": null,
      "overflow_y": null,
      "padding": null,
      "right": null,
      "top": null,
      "visibility": null,
      "width": null
     }
    },
    "708c3d8676b74958887bc9e1dd70ed6a": {
     "model_module": "@jupyter-widgets/controls",
     "model_module_version": "1.5.0",
     "model_name": "DescriptionStyleModel",
     "state": {
      "_model_module": "@jupyter-widgets/controls",
      "_model_module_version": "1.5.0",
      "_model_name": "DescriptionStyleModel",
      "_view_count": null,
      "_view_module": "@jupyter-widgets/base",
      "_view_module_version": "1.2.0",
      "_view_name": "StyleView",
      "description_width": ""
     }
    },
    "70ca1db6598f4a4487ba6e28b9ac898f": {
     "model_module": "@jupyter-widgets/base",
     "model_module_version": "1.2.0",
     "model_name": "LayoutModel",
     "state": {
      "_model_module": "@jupyter-widgets/base",
      "_model_module_version": "1.2.0",
      "_model_name": "LayoutModel",
      "_view_count": null,
      "_view_module": "@jupyter-widgets/base",
      "_view_module_version": "1.2.0",
      "_view_name": "LayoutView",
      "align_content": null,
      "align_items": null,
      "align_self": null,
      "border": null,
      "bottom": null,
      "display": null,
      "flex": null,
      "flex_flow": null,
      "grid_area": null,
      "grid_auto_columns": null,
      "grid_auto_flow": null,
      "grid_auto_rows": null,
      "grid_column": null,
      "grid_gap": null,
      "grid_row": null,
      "grid_template_areas": null,
      "grid_template_columns": null,
      "grid_template_rows": null,
      "height": null,
      "justify_content": null,
      "justify_items": null,
      "left": null,
      "margin": null,
      "max_height": null,
      "max_width": null,
      "min_height": null,
      "min_width": null,
      "object_fit": null,
      "object_position": null,
      "order": null,
      "overflow": null,
      "overflow_x": null,
      "overflow_y": null,
      "padding": null,
      "right": null,
      "top": null,
      "visibility": null,
      "width": null
     }
    },
    "7cc47da8bc7c450fa83a66e2f580d1e1": {
     "model_module": "@jupyter-widgets/base",
     "model_module_version": "1.2.0",
     "model_name": "LayoutModel",
     "state": {
      "_model_module": "@jupyter-widgets/base",
      "_model_module_version": "1.2.0",
      "_model_name": "LayoutModel",
      "_view_count": null,
      "_view_module": "@jupyter-widgets/base",
      "_view_module_version": "1.2.0",
      "_view_name": "LayoutView",
      "align_content": null,
      "align_items": null,
      "align_self": null,
      "border": null,
      "bottom": null,
      "display": null,
      "flex": null,
      "flex_flow": null,
      "grid_area": null,
      "grid_auto_columns": null,
      "grid_auto_flow": null,
      "grid_auto_rows": null,
      "grid_column": null,
      "grid_gap": null,
      "grid_row": null,
      "grid_template_areas": null,
      "grid_template_columns": null,
      "grid_template_rows": null,
      "height": null,
      "justify_content": null,
      "justify_items": null,
      "left": null,
      "margin": null,
      "max_height": null,
      "max_width": null,
      "min_height": null,
      "min_width": null,
      "object_fit": null,
      "object_position": null,
      "order": null,
      "overflow": null,
      "overflow_x": null,
      "overflow_y": null,
      "padding": null,
      "right": null,
      "top": null,
      "visibility": null,
      "width": null
     }
    },
    "7d9b95588ad44776824e884ec86752fd": {
     "model_module": "@jupyter-widgets/controls",
     "model_module_version": "1.5.0",
     "model_name": "FloatProgressModel",
     "state": {
      "_dom_classes": [],
      "_model_module": "@jupyter-widgets/controls",
      "_model_module_version": "1.5.0",
      "_model_name": "FloatProgressModel",
      "_view_count": null,
      "_view_module": "@jupyter-widgets/controls",
      "_view_module_version": "1.5.0",
      "_view_name": "ProgressView",
      "bar_style": "",
      "description": "",
      "description_tooltip": null,
      "layout": "IPY_MODEL_9a89349b287b47eb8d91803945c4e20b",
      "max": 4708,
      "min": 0,
      "orientation": "horizontal",
      "style": "IPY_MODEL_49038ff321584f4b9e02ac80f99c4f0b",
      "value": 4708
     }
    },
    "8029032d6e404aca9dd1471b499ec821": {
     "model_module": "@jupyter-widgets/base",
     "model_module_version": "1.2.0",
     "model_name": "LayoutModel",
     "state": {
      "_model_module": "@jupyter-widgets/base",
      "_model_module_version": "1.2.0",
      "_model_name": "LayoutModel",
      "_view_count": null,
      "_view_module": "@jupyter-widgets/base",
      "_view_module_version": "1.2.0",
      "_view_name": "LayoutView",
      "align_content": null,
      "align_items": null,
      "align_self": null,
      "border": null,
      "bottom": null,
      "display": null,
      "flex": null,
      "flex_flow": null,
      "grid_area": null,
      "grid_auto_columns": null,
      "grid_auto_flow": null,
      "grid_auto_rows": null,
      "grid_column": null,
      "grid_gap": null,
      "grid_row": null,
      "grid_template_areas": null,
      "grid_template_columns": null,
      "grid_template_rows": null,
      "height": null,
      "justify_content": null,
      "justify_items": null,
      "left": null,
      "margin": null,
      "max_height": null,
      "max_width": null,
      "min_height": null,
      "min_width": null,
      "object_fit": null,
      "object_position": null,
      "order": null,
      "overflow": null,
      "overflow_x": null,
      "overflow_y": null,
      "padding": null,
      "right": null,
      "top": null,
      "visibility": "hidden",
      "width": null
     }
    },
    "80d5de8e83f74244ac76ab6ee995f9de": {
     "model_module": "@jupyter-widgets/base",
     "model_module_version": "1.2.0",
     "model_name": "LayoutModel",
     "state": {
      "_model_module": "@jupyter-widgets/base",
      "_model_module_version": "1.2.0",
      "_model_name": "LayoutModel",
      "_view_count": null,
      "_view_module": "@jupyter-widgets/base",
      "_view_module_version": "1.2.0",
      "_view_name": "LayoutView",
      "align_content": null,
      "align_items": null,
      "align_self": null,
      "border": null,
      "bottom": null,
      "display": null,
      "flex": null,
      "flex_flow": null,
      "grid_area": null,
      "grid_auto_columns": null,
      "grid_auto_flow": null,
      "grid_auto_rows": null,
      "grid_column": null,
      "grid_gap": null,
      "grid_row": null,
      "grid_template_areas": null,
      "grid_template_columns": null,
      "grid_template_rows": null,
      "height": null,
      "justify_content": null,
      "justify_items": null,
      "left": null,
      "margin": null,
      "max_height": null,
      "max_width": null,
      "min_height": null,
      "min_width": null,
      "object_fit": null,
      "object_position": null,
      "order": null,
      "overflow": null,
      "overflow_x": null,
      "overflow_y": null,
      "padding": null,
      "right": null,
      "top": null,
      "visibility": null,
      "width": null
     }
    },
    "80de1ea83aae4b1da81b791f97d0942a": {
     "model_module": "@jupyter-widgets/controls",
     "model_module_version": "1.5.0",
     "model_name": "DescriptionStyleModel",
     "state": {
      "_model_module": "@jupyter-widgets/controls",
      "_model_module_version": "1.5.0",
      "_model_name": "DescriptionStyleModel",
      "_view_count": null,
      "_view_module": "@jupyter-widgets/base",
      "_view_module_version": "1.2.0",
      "_view_name": "StyleView",
      "description_width": ""
     }
    },
    "84ef733289a24d48bb2e3c2b259268e7": {
     "model_module": "@jupyter-widgets/base",
     "model_module_version": "1.2.0",
     "model_name": "LayoutModel",
     "state": {
      "_model_module": "@jupyter-widgets/base",
      "_model_module_version": "1.2.0",
      "_model_name": "LayoutModel",
      "_view_count": null,
      "_view_module": "@jupyter-widgets/base",
      "_view_module_version": "1.2.0",
      "_view_name": "LayoutView",
      "align_content": null,
      "align_items": null,
      "align_self": null,
      "border": null,
      "bottom": null,
      "display": null,
      "flex": null,
      "flex_flow": null,
      "grid_area": null,
      "grid_auto_columns": null,
      "grid_auto_flow": null,
      "grid_auto_rows": null,
      "grid_column": null,
      "grid_gap": null,
      "grid_row": null,
      "grid_template_areas": null,
      "grid_template_columns": null,
      "grid_template_rows": null,
      "height": null,
      "justify_content": null,
      "justify_items": null,
      "left": null,
      "margin": null,
      "max_height": null,
      "max_width": null,
      "min_height": null,
      "min_width": null,
      "object_fit": null,
      "object_position": null,
      "order": null,
      "overflow": null,
      "overflow_x": null,
      "overflow_y": null,
      "padding": null,
      "right": null,
      "top": null,
      "visibility": null,
      "width": null
     }
    },
    "8610f2b8c4e34cf5a5cb86d9793470d1": {
     "model_module": "@jupyter-widgets/base",
     "model_module_version": "1.2.0",
     "model_name": "LayoutModel",
     "state": {
      "_model_module": "@jupyter-widgets/base",
      "_model_module_version": "1.2.0",
      "_model_name": "LayoutModel",
      "_view_count": null,
      "_view_module": "@jupyter-widgets/base",
      "_view_module_version": "1.2.0",
      "_view_name": "LayoutView",
      "align_content": null,
      "align_items": null,
      "align_self": null,
      "border": null,
      "bottom": null,
      "display": null,
      "flex": null,
      "flex_flow": null,
      "grid_area": null,
      "grid_auto_columns": null,
      "grid_auto_flow": null,
      "grid_auto_rows": null,
      "grid_column": null,
      "grid_gap": null,
      "grid_row": null,
      "grid_template_areas": null,
      "grid_template_columns": null,
      "grid_template_rows": null,
      "height": null,
      "justify_content": null,
      "justify_items": null,
      "left": null,
      "margin": null,
      "max_height": null,
      "max_width": null,
      "min_height": null,
      "min_width": null,
      "object_fit": null,
      "object_position": null,
      "order": null,
      "overflow": null,
      "overflow_x": null,
      "overflow_y": null,
      "padding": null,
      "right": null,
      "top": null,
      "visibility": null,
      "width": null
     }
    },
    "867b6090e19244ed9678b5324583c5db": {
     "model_module": "@jupyter-widgets/controls",
     "model_module_version": "1.5.0",
     "model_name": "HTMLModel",
     "state": {
      "_dom_classes": [],
      "_model_module": "@jupyter-widgets/controls",
      "_model_module_version": "1.5.0",
      "_model_name": "HTMLModel",
      "_view_count": null,
      "_view_module": "@jupyter-widgets/controls",
      "_view_module_version": "1.5.0",
      "_view_name": "HTMLView",
      "description": "",
      "description_tooltip": null,
      "layout": "IPY_MODEL_1de1adb840fd4e0085d75ee569198024",
      "placeholder": "​",
      "style": "IPY_MODEL_80de1ea83aae4b1da81b791f97d0942a",
      "value": "Generating splits...: 100%"
     }
    },
    "8b54ba02063441c491f4a55ce64e210f": {
     "model_module": "@jupyter-widgets/controls",
     "model_module_version": "1.5.0",
     "model_name": "HBoxModel",
     "state": {
      "_dom_classes": [],
      "_model_module": "@jupyter-widgets/controls",
      "_model_module_version": "1.5.0",
      "_model_name": "HBoxModel",
      "_view_count": null,
      "_view_module": "@jupyter-widgets/controls",
      "_view_module_version": "1.5.0",
      "_view_name": "HBoxView",
      "box_style": "",
      "children": [
       "IPY_MODEL_8ee340533f4e4c5c9bbaf033997b895d",
       "IPY_MODEL_4c437f92f1b64c45850d86ab25629adb",
       "IPY_MODEL_c45b995f94394a69ba0082ded560d262"
      ],
      "layout": "IPY_MODEL_84ef733289a24d48bb2e3c2b259268e7"
     }
    },
    "8d2c361f90da4dd980dec0392d830802": {
     "model_module": "@jupyter-widgets/controls",
     "model_module_version": "1.5.0",
     "model_name": "DescriptionStyleModel",
     "state": {
      "_model_module": "@jupyter-widgets/controls",
      "_model_module_version": "1.5.0",
      "_model_name": "DescriptionStyleModel",
      "_view_count": null,
      "_view_module": "@jupyter-widgets/base",
      "_view_module_version": "1.2.0",
      "_view_name": "StyleView",
      "description_width": ""
     }
    },
    "8ee340533f4e4c5c9bbaf033997b895d": {
     "model_module": "@jupyter-widgets/controls",
     "model_module_version": "1.5.0",
     "model_name": "HTMLModel",
     "state": {
      "_dom_classes": [],
      "_model_module": "@jupyter-widgets/controls",
      "_model_module_version": "1.5.0",
      "_model_name": "HTMLModel",
      "_view_count": null,
      "_view_module": "@jupyter-widgets/controls",
      "_view_module_version": "1.5.0",
      "_view_name": "HTMLView",
      "description": "",
      "description_tooltip": null,
      "layout": "IPY_MODEL_d45d32026081453b92119b931246bb49",
      "placeholder": "​",
      "style": "IPY_MODEL_2f09362a68fa49b59b6c8b967ba0ad7c",
      "value": "Dl Completed...: 100%"
     }
    },
    "94f9217d699742098403da81003838f5": {
     "model_module": "@jupyter-widgets/controls",
     "model_module_version": "1.5.0",
     "model_name": "FloatProgressModel",
     "state": {
      "_dom_classes": [],
      "_model_module": "@jupyter-widgets/controls",
      "_model_module_version": "1.5.0",
      "_model_name": "FloatProgressModel",
      "_view_count": null,
      "_view_module": "@jupyter-widgets/controls",
      "_view_module_version": "1.5.0",
      "_view_name": "ProgressView",
      "bar_style": "info",
      "description": "",
      "description_tooltip": null,
      "layout": "IPY_MODEL_57c6b8eb3e7c4fed992a47d005c2707b",
      "max": 1,
      "min": 0,
      "orientation": "horizontal",
      "style": "IPY_MODEL_44f54c29e560449db7b9bae883417b37",
      "value": 1
     }
    },
    "95ae339757e946dabb91476c9f8d30c2": {
     "model_module": "@jupyter-widgets/controls",
     "model_module_version": "1.5.0",
     "model_name": "ProgressStyleModel",
     "state": {
      "_model_module": "@jupyter-widgets/controls",
      "_model_module_version": "1.5.0",
      "_model_name": "ProgressStyleModel",
      "_view_count": null,
      "_view_module": "@jupyter-widgets/base",
      "_view_module_version": "1.2.0",
      "_view_name": "StyleView",
      "bar_color": null,
      "description_width": ""
     }
    },
    "9a89349b287b47eb8d91803945c4e20b": {
     "model_module": "@jupyter-widgets/base",
     "model_module_version": "1.2.0",
     "model_name": "LayoutModel",
     "state": {
      "_model_module": "@jupyter-widgets/base",
      "_model_module_version": "1.2.0",
      "_model_name": "LayoutModel",
      "_view_count": null,
      "_view_module": "@jupyter-widgets/base",
      "_view_module_version": "1.2.0",
      "_view_name": "LayoutView",
      "align_content": null,
      "align_items": null,
      "align_self": null,
      "border": null,
      "bottom": null,
      "display": null,
      "flex": null,
      "flex_flow": null,
      "grid_area": null,
      "grid_auto_columns": null,
      "grid_auto_flow": null,
      "grid_auto_rows": null,
      "grid_column": null,
      "grid_gap": null,
      "grid_row": null,
      "grid_template_areas": null,
      "grid_template_columns": null,
      "grid_template_rows": null,
      "height": null,
      "justify_content": null,
      "justify_items": null,
      "left": null,
      "margin": null,
      "max_height": null,
      "max_width": null,
      "min_height": null,
      "min_width": null,
      "object_fit": null,
      "object_position": null,
      "order": null,
      "overflow": null,
      "overflow_x": null,
      "overflow_y": null,
      "padding": null,
      "right": null,
      "top": null,
      "visibility": null,
      "width": null
     }
    },
    "9e68688ab40e4e4da9dd8263335e89b0": {
     "model_module": "@jupyter-widgets/base",
     "model_module_version": "1.2.0",
     "model_name": "LayoutModel",
     "state": {
      "_model_module": "@jupyter-widgets/base",
      "_model_module_version": "1.2.0",
      "_model_name": "LayoutModel",
      "_view_count": null,
      "_view_module": "@jupyter-widgets/base",
      "_view_module_version": "1.2.0",
      "_view_name": "LayoutView",
      "align_content": null,
      "align_items": null,
      "align_self": null,
      "border": null,
      "bottom": null,
      "display": null,
      "flex": null,
      "flex_flow": null,
      "grid_area": null,
      "grid_auto_columns": null,
      "grid_auto_flow": null,
      "grid_auto_rows": null,
      "grid_column": null,
      "grid_gap": null,
      "grid_row": null,
      "grid_template_areas": null,
      "grid_template_columns": null,
      "grid_template_rows": null,
      "height": null,
      "justify_content": null,
      "justify_items": null,
      "left": null,
      "margin": null,
      "max_height": null,
      "max_width": null,
      "min_height": null,
      "min_width": null,
      "object_fit": null,
      "object_position": null,
      "order": null,
      "overflow": null,
      "overflow_x": null,
      "overflow_y": null,
      "padding": null,
      "right": null,
      "top": null,
      "visibility": null,
      "width": null
     }
    },
    "a1ca4aedbf494671999cd6b6acbac8c1": {
     "model_module": "@jupyter-widgets/controls",
     "model_module_version": "1.5.0",
     "model_name": "DescriptionStyleModel",
     "state": {
      "_model_module": "@jupyter-widgets/controls",
      "_model_module_version": "1.5.0",
      "_model_name": "DescriptionStyleModel",
      "_view_count": null,
      "_view_module": "@jupyter-widgets/base",
      "_view_module_version": "1.2.0",
      "_view_name": "StyleView",
      "description_width": ""
     }
    },
    "a4b9119ebe024b4da6f9ad17e40789c9": {
     "model_module": "@jupyter-widgets/base",
     "model_module_version": "1.2.0",
     "model_name": "LayoutModel",
     "state": {
      "_model_module": "@jupyter-widgets/base",
      "_model_module_version": "1.2.0",
      "_model_name": "LayoutModel",
      "_view_count": null,
      "_view_module": "@jupyter-widgets/base",
      "_view_module_version": "1.2.0",
      "_view_name": "LayoutView",
      "align_content": null,
      "align_items": null,
      "align_self": null,
      "border": null,
      "bottom": null,
      "display": null,
      "flex": null,
      "flex_flow": null,
      "grid_area": null,
      "grid_auto_columns": null,
      "grid_auto_flow": null,
      "grid_auto_rows": null,
      "grid_column": null,
      "grid_gap": null,
      "grid_row": null,
      "grid_template_areas": null,
      "grid_template_columns": null,
      "grid_template_rows": null,
      "height": null,
      "justify_content": null,
      "justify_items": null,
      "left": null,
      "margin": null,
      "max_height": null,
      "max_width": null,
      "min_height": null,
      "min_width": null,
      "object_fit": null,
      "object_position": null,
      "order": null,
      "overflow": null,
      "overflow_x": null,
      "overflow_y": null,
      "padding": null,
      "right": null,
      "top": null,
      "visibility": null,
      "width": "20px"
     }
    },
    "a4e1128594be47448395d693dca55b35": {
     "model_module": "@jupyter-widgets/base",
     "model_module_version": "1.2.0",
     "model_name": "LayoutModel",
     "state": {
      "_model_module": "@jupyter-widgets/base",
      "_model_module_version": "1.2.0",
      "_model_name": "LayoutModel",
      "_view_count": null,
      "_view_module": "@jupyter-widgets/base",
      "_view_module_version": "1.2.0",
      "_view_name": "LayoutView",
      "align_content": null,
      "align_items": null,
      "align_self": null,
      "border": null,
      "bottom": null,
      "display": null,
      "flex": null,
      "flex_flow": null,
      "grid_area": null,
      "grid_auto_columns": null,
      "grid_auto_flow": null,
      "grid_auto_rows": null,
      "grid_column": null,
      "grid_gap": null,
      "grid_row": null,
      "grid_template_areas": null,
      "grid_template_columns": null,
      "grid_template_rows": null,
      "height": null,
      "justify_content": null,
      "justify_items": null,
      "left": null,
      "margin": null,
      "max_height": null,
      "max_width": null,
      "min_height": null,
      "min_width": null,
      "object_fit": null,
      "object_position": null,
      "order": null,
      "overflow": null,
      "overflow_x": null,
      "overflow_y": null,
      "padding": null,
      "right": null,
      "top": null,
      "visibility": null,
      "width": null
     }
    },
    "a588ccc1854c429db094e95b393c6b2f": {
     "model_module": "@jupyter-widgets/base",
     "model_module_version": "1.2.0",
     "model_name": "LayoutModel",
     "state": {
      "_model_module": "@jupyter-widgets/base",
      "_model_module_version": "1.2.0",
      "_model_name": "LayoutModel",
      "_view_count": null,
      "_view_module": "@jupyter-widgets/base",
      "_view_module_version": "1.2.0",
      "_view_name": "LayoutView",
      "align_content": null,
      "align_items": null,
      "align_self": null,
      "border": null,
      "bottom": null,
      "display": null,
      "flex": null,
      "flex_flow": null,
      "grid_area": null,
      "grid_auto_columns": null,
      "grid_auto_flow": null,
      "grid_auto_rows": null,
      "grid_column": null,
      "grid_gap": null,
      "grid_row": null,
      "grid_template_areas": null,
      "grid_template_columns": null,
      "grid_template_rows": null,
      "height": null,
      "justify_content": null,
      "justify_items": null,
      "left": null,
      "margin": null,
      "max_height": null,
      "max_width": null,
      "min_height": null,
      "min_width": null,
      "object_fit": null,
      "object_position": null,
      "order": null,
      "overflow": null,
      "overflow_x": null,
      "overflow_y": null,
      "padding": null,
      "right": null,
      "top": null,
      "visibility": null,
      "width": null
     }
    },
    "a71f0cd96c0240b0a7d1037541be61f5": {
     "model_module": "@jupyter-widgets/controls",
     "model_module_version": "1.5.0",
     "model_name": "FloatProgressModel",
     "state": {
      "_dom_classes": [],
      "_model_module": "@jupyter-widgets/controls",
      "_model_module_version": "1.5.0",
      "_model_name": "FloatProgressModel",
      "_view_count": null,
      "_view_module": "@jupyter-widgets/controls",
      "_view_module_version": "1.5.0",
      "_view_name": "ProgressView",
      "bar_style": "success",
      "description": "",
      "description_tooltip": null,
      "layout": "IPY_MODEL_cd445ffaa58144079f74221ce41ffbc1",
      "max": 1,
      "min": 0,
      "orientation": "horizontal",
      "style": "IPY_MODEL_3c59d7b666f341bf82dd8d29e0934b47",
      "value": 1
     }
    },
    "a7be693be1a54a9bbaf938bf6bc191f8": {
     "model_module": "@jupyter-widgets/base",
     "model_module_version": "1.2.0",
     "model_name": "LayoutModel",
     "state": {
      "_model_module": "@jupyter-widgets/base",
      "_model_module_version": "1.2.0",
      "_model_name": "LayoutModel",
      "_view_count": null,
      "_view_module": "@jupyter-widgets/base",
      "_view_module_version": "1.2.0",
      "_view_name": "LayoutView",
      "align_content": null,
      "align_items": null,
      "align_self": null,
      "border": null,
      "bottom": null,
      "display": null,
      "flex": null,
      "flex_flow": null,
      "grid_area": null,
      "grid_auto_columns": null,
      "grid_auto_flow": null,
      "grid_auto_rows": null,
      "grid_column": null,
      "grid_gap": null,
      "grid_row": null,
      "grid_template_areas": null,
      "grid_template_columns": null,
      "grid_template_rows": null,
      "height": null,
      "justify_content": null,
      "justify_items": null,
      "left": null,
      "margin": null,
      "max_height": null,
      "max_width": null,
      "min_height": null,
      "min_width": null,
      "object_fit": null,
      "object_position": null,
      "order": null,
      "overflow": null,
      "overflow_x": null,
      "overflow_y": null,
      "padding": null,
      "right": null,
      "top": null,
      "visibility": null,
      "width": null
     }
    },
    "a97d9d9dd13c404eae93e0c812a3fc64": {
     "model_module": "@jupyter-widgets/controls",
     "model_module_version": "1.5.0",
     "model_name": "HTMLModel",
     "state": {
      "_dom_classes": [],
      "_model_module": "@jupyter-widgets/controls",
      "_model_module_version": "1.5.0",
      "_model_name": "HTMLModel",
      "_view_count": null,
      "_view_module": "@jupyter-widgets/controls",
      "_view_module_version": "1.5.0",
      "_view_name": "HTMLView",
      "description": "",
      "description_tooltip": null,
      "layout": "IPY_MODEL_e7be776c008848d886ce039fc50c6a99",
      "placeholder": "​",
      "style": "IPY_MODEL_4fed55f1c78e493a9b39c6bbe079bd76",
      "value": "Generating test examples...: "
     }
    },
    "ab97e3fb34044f548f7e7b3c1087087b": {
     "model_module": "@jupyter-widgets/controls",
     "model_module_version": "1.5.0",
     "model_name": "FloatProgressModel",
     "state": {
      "_dom_classes": [],
      "_model_module": "@jupyter-widgets/controls",
      "_model_module_version": "1.5.0",
      "_model_name": "FloatProgressModel",
      "_view_count": null,
      "_view_module": "@jupyter-widgets/controls",
      "_view_module_version": "1.5.0",
      "_view_name": "ProgressView",
      "bar_style": "",
      "description": "",
      "description_tooltip": null,
      "layout": "IPY_MODEL_80d5de8e83f74244ac76ab6ee995f9de",
      "max": 624,
      "min": 0,
      "orientation": "horizontal",
      "style": "IPY_MODEL_95ae339757e946dabb91476c9f8d30c2",
      "value": 624
     }
    },
    "ac84e1e81618403fa47b85d305db99ae": {
     "model_module": "@jupyter-widgets/controls",
     "model_module_version": "1.5.0",
     "model_name": "HTMLModel",
     "state": {
      "_dom_classes": [],
      "_model_module": "@jupyter-widgets/controls",
      "_model_module_version": "1.5.0",
      "_model_name": "HTMLModel",
      "_view_count": null,
      "_view_module": "@jupyter-widgets/controls",
      "_view_module_version": "1.5.0",
      "_view_name": "HTMLView",
      "description": "",
      "description_tooltip": null,
      "layout": "IPY_MODEL_6c6299b9df9c4e978d17e349fe8b7ed1",
      "placeholder": "​",
      "style": "IPY_MODEL_f837149a103d493b9f898dcdcea31916",
      "value": " 4499/? [00:03&lt;00:00, 1499.43 examples/s]"
     }
    },
    "ad8449b2233d4805bd6435b1d5858d66": {
     "model_module": "@jupyter-widgets/base",
     "model_module_version": "1.2.0",
     "model_name": "LayoutModel",
     "state": {
      "_model_module": "@jupyter-widgets/base",
      "_model_module_version": "1.2.0",
      "_model_name": "LayoutModel",
      "_view_count": null,
      "_view_module": "@jupyter-widgets/base",
      "_view_module_version": "1.2.0",
      "_view_name": "LayoutView",
      "align_content": null,
      "align_items": null,
      "align_self": null,
      "border": null,
      "bottom": null,
      "display": null,
      "flex": null,
      "flex_flow": null,
      "grid_area": null,
      "grid_auto_columns": null,
      "grid_auto_flow": null,
      "grid_auto_rows": null,
      "grid_column": null,
      "grid_gap": null,
      "grid_row": null,
      "grid_template_areas": null,
      "grid_template_columns": null,
      "grid_template_rows": null,
      "height": null,
      "justify_content": null,
      "justify_items": null,
      "left": null,
      "margin": null,
      "max_height": null,
      "max_width": null,
      "min_height": null,
      "min_width": null,
      "object_fit": null,
      "object_position": null,
      "order": null,
      "overflow": null,
      "overflow_x": null,
      "overflow_y": null,
      "padding": null,
      "right": null,
      "top": null,
      "visibility": null,
      "width": null
     }
    },
    "b10b2f39b9294a9aac894830d9e6190f": {
     "model_module": "@jupyter-widgets/controls",
     "model_module_version": "1.5.0",
     "model_name": "HTMLModel",
     "state": {
      "_dom_classes": [],
      "_model_module": "@jupyter-widgets/controls",
      "_model_module_version": "1.5.0",
      "_model_name": "HTMLModel",
      "_view_count": null,
      "_view_module": "@jupyter-widgets/controls",
      "_view_module_version": "1.5.0",
      "_view_name": "HTMLView",
      "description": "",
      "description_tooltip": null,
      "layout": "IPY_MODEL_a588ccc1854c429db094e95b393c6b2f",
      "placeholder": "​",
      "style": "IPY_MODEL_34e8ee2d716749948208e9e4000e4fe6",
      "value": "Generating val examples...: "
     }
    },
    "b4dec34ccd3b47b2b280219d496703e1": {
     "model_module": "@jupyter-widgets/controls",
     "model_module_version": "1.5.0",
     "model_name": "HTMLModel",
     "state": {
      "_dom_classes": [],
      "_model_module": "@jupyter-widgets/controls",
      "_model_module_version": "1.5.0",
      "_model_name": "HTMLModel",
      "_view_count": null,
      "_view_module": "@jupyter-widgets/controls",
      "_view_module_version": "1.5.0",
      "_view_name": "HTMLView",
      "description": "",
      "description_tooltip": null,
      "layout": "IPY_MODEL_100e8809162c4f838f9153b495eb0a0b",
      "placeholder": "​",
      "style": "IPY_MODEL_2f005c0b677c4d7ba19f70bb440792c2",
      "value": " 0/? [00:00&lt;?, ? examples/s]"
     }
    },
    "ba1685000fab4d9f81f85793c24b9125": {
     "model_module": "@jupyter-widgets/controls",
     "model_module_version": "1.5.0",
     "model_name": "DescriptionStyleModel",
     "state": {
      "_model_module": "@jupyter-widgets/controls",
      "_model_module_version": "1.5.0",
      "_model_name": "DescriptionStyleModel",
      "_view_count": null,
      "_view_module": "@jupyter-widgets/base",
      "_view_module_version": "1.2.0",
      "_view_name": "StyleView",
      "description_width": ""
     }
    },
    "bbaf9400614749fe83d4d7ae0ccb912a": {
     "model_module": "@jupyter-widgets/base",
     "model_module_version": "1.2.0",
     "model_name": "LayoutModel",
     "state": {
      "_model_module": "@jupyter-widgets/base",
      "_model_module_version": "1.2.0",
      "_model_name": "LayoutModel",
      "_view_count": null,
      "_view_module": "@jupyter-widgets/base",
      "_view_module_version": "1.2.0",
      "_view_name": "LayoutView",
      "align_content": null,
      "align_items": null,
      "align_self": null,
      "border": null,
      "bottom": null,
      "display": null,
      "flex": null,
      "flex_flow": null,
      "grid_area": null,
      "grid_auto_columns": null,
      "grid_auto_flow": null,
      "grid_auto_rows": null,
      "grid_column": null,
      "grid_gap": null,
      "grid_row": null,
      "grid_template_areas": null,
      "grid_template_columns": null,
      "grid_template_rows": null,
      "height": null,
      "justify_content": null,
      "justify_items": null,
      "left": null,
      "margin": null,
      "max_height": null,
      "max_width": null,
      "min_height": null,
      "min_width": null,
      "object_fit": null,
      "object_position": null,
      "order": null,
      "overflow": null,
      "overflow_x": null,
      "overflow_y": null,
      "padding": null,
      "right": null,
      "top": null,
      "visibility": "hidden",
      "width": null
     }
    },
    "be2059b4882f45019141c3e2b69e53de": {
     "model_module": "@jupyter-widgets/controls",
     "model_module_version": "1.5.0",
     "model_name": "DescriptionStyleModel",
     "state": {
      "_model_module": "@jupyter-widgets/controls",
      "_model_module_version": "1.5.0",
      "_model_name": "DescriptionStyleModel",
      "_view_count": null,
      "_view_module": "@jupyter-widgets/base",
      "_view_module_version": "1.2.0",
      "_view_name": "StyleView",
      "description_width": ""
     }
    },
    "bf445e16018e4986802d7f4b0ec77523": {
     "model_module": "@jupyter-widgets/controls",
     "model_module_version": "1.5.0",
     "model_name": "HBoxModel",
     "state": {
      "_dom_classes": [],
      "_model_module": "@jupyter-widgets/controls",
      "_model_module_version": "1.5.0",
      "_model_name": "HBoxModel",
      "_view_count": null,
      "_view_module": "@jupyter-widgets/controls",
      "_view_module_version": "1.5.0",
      "_view_name": "HBoxView",
      "box_style": "",
      "children": [
       "IPY_MODEL_374dc4acbdbd41f58d95b9c930da3e58",
       "IPY_MODEL_153f41c5956e4d7f9cdf7459d0c3df3f",
       "IPY_MODEL_ac84e1e81618403fa47b85d305db99ae"
      ],
      "layout": "IPY_MODEL_cd1814fa12e2422fa6653df1085981e3"
     }
    },
    "c411e4c6b089427d9a361444bd94b436": {
     "model_module": "@jupyter-widgets/controls",
     "model_module_version": "1.5.0",
     "model_name": "DescriptionStyleModel",
     "state": {
      "_model_module": "@jupyter-widgets/controls",
      "_model_module_version": "1.5.0",
      "_model_name": "DescriptionStyleModel",
      "_view_count": null,
      "_view_module": "@jupyter-widgets/base",
      "_view_module_version": "1.2.0",
      "_view_name": "StyleView",
      "description_width": ""
     }
    },
    "c45b995f94394a69ba0082ded560d262": {
     "model_module": "@jupyter-widgets/controls",
     "model_module_version": "1.5.0",
     "model_name": "HTMLModel",
     "state": {
      "_dom_classes": [],
      "_model_module": "@jupyter-widgets/controls",
      "_model_module_version": "1.5.0",
      "_model_name": "HTMLModel",
      "_view_count": null,
      "_view_module": "@jupyter-widgets/controls",
      "_view_module_version": "1.5.0",
      "_view_name": "HTMLView",
      "description": "",
      "description_tooltip": null,
      "layout": "IPY_MODEL_ad8449b2233d4805bd6435b1d5858d66",
      "placeholder": "​",
      "style": "IPY_MODEL_e733fbc3bfc04c4d8db09cfb63f59683",
      "value": " 1/1 [00:04&lt;00:00,  4.52s/ url]"
     }
    },
    "ca935ccf77824d4bac06e35092a3c848": {
     "model_module": "@jupyter-widgets/base",
     "model_module_version": "1.2.0",
     "model_name": "LayoutModel",
     "state": {
      "_model_module": "@jupyter-widgets/base",
      "_model_module_version": "1.2.0",
      "_model_name": "LayoutModel",
      "_view_count": null,
      "_view_module": "@jupyter-widgets/base",
      "_view_module_version": "1.2.0",
      "_view_name": "LayoutView",
      "align_content": null,
      "align_items": null,
      "align_self": null,
      "border": null,
      "bottom": null,
      "display": null,
      "flex": null,
      "flex_flow": null,
      "grid_area": null,
      "grid_auto_columns": null,
      "grid_auto_flow": null,
      "grid_auto_rows": null,
      "grid_column": null,
      "grid_gap": null,
      "grid_row": null,
      "grid_template_areas": null,
      "grid_template_columns": null,
      "grid_template_rows": null,
      "height": null,
      "justify_content": null,
      "justify_items": null,
      "left": null,
      "margin": null,
      "max_height": null,
      "max_width": null,
      "min_height": null,
      "min_width": null,
      "object_fit": null,
      "object_position": null,
      "order": null,
      "overflow": null,
      "overflow_x": null,
      "overflow_y": null,
      "padding": null,
      "right": null,
      "top": null,
      "visibility": null,
      "width": null
     }
    },
    "cd1814fa12e2422fa6653df1085981e3": {
     "model_module": "@jupyter-widgets/base",
     "model_module_version": "1.2.0",
     "model_name": "LayoutModel",
     "state": {
      "_model_module": "@jupyter-widgets/base",
      "_model_module_version": "1.2.0",
      "_model_name": "LayoutModel",
      "_view_count": null,
      "_view_module": "@jupyter-widgets/base",
      "_view_module_version": "1.2.0",
      "_view_name": "LayoutView",
      "align_content": null,
      "align_items": null,
      "align_self": null,
      "border": null,
      "bottom": null,
      "display": null,
      "flex": null,
      "flex_flow": null,
      "grid_area": null,
      "grid_auto_columns": null,
      "grid_auto_flow": null,
      "grid_auto_rows": null,
      "grid_column": null,
      "grid_gap": null,
      "grid_row": null,
      "grid_template_areas": null,
      "grid_template_columns": null,
      "grid_template_rows": null,
      "height": null,
      "justify_content": null,
      "justify_items": null,
      "left": null,
      "margin": null,
      "max_height": null,
      "max_width": null,
      "min_height": null,
      "min_width": null,
      "object_fit": null,
      "object_position": null,
      "order": null,
      "overflow": null,
      "overflow_x": null,
      "overflow_y": null,
      "padding": null,
      "right": null,
      "top": null,
      "visibility": "hidden",
      "width": null
     }
    },
    "cd445ffaa58144079f74221ce41ffbc1": {
     "model_module": "@jupyter-widgets/base",
     "model_module_version": "1.2.0",
     "model_name": "LayoutModel",
     "state": {
      "_model_module": "@jupyter-widgets/base",
      "_model_module_version": "1.2.0",
      "_model_name": "LayoutModel",
      "_view_count": null,
      "_view_module": "@jupyter-widgets/base",
      "_view_module_version": "1.2.0",
      "_view_name": "LayoutView",
      "align_content": null,
      "align_items": null,
      "align_self": null,
      "border": null,
      "bottom": null,
      "display": null,
      "flex": null,
      "flex_flow": null,
      "grid_area": null,
      "grid_auto_columns": null,
      "grid_auto_flow": null,
      "grid_auto_rows": null,
      "grid_column": null,
      "grid_gap": null,
      "grid_row": null,
      "grid_template_areas": null,
      "grid_template_columns": null,
      "grid_template_rows": null,
      "height": null,
      "justify_content": null,
      "justify_items": null,
      "left": null,
      "margin": null,
      "max_height": null,
      "max_width": null,
      "min_height": null,
      "min_width": null,
      "object_fit": null,
      "object_position": null,
      "order": null,
      "overflow": null,
      "overflow_x": null,
      "overflow_y": null,
      "padding": null,
      "right": null,
      "top": null,
      "visibility": null,
      "width": "20px"
     }
    },
    "cd95cad3ed9248d1b78cd732d5e83d28": {
     "model_module": "@jupyter-widgets/controls",
     "model_module_version": "1.5.0",
     "model_name": "HTMLModel",
     "state": {
      "_dom_classes": [],
      "_model_module": "@jupyter-widgets/controls",
      "_model_module_version": "1.5.0",
      "_model_name": "HTMLModel",
      "_view_count": null,
      "_view_module": "@jupyter-widgets/controls",
      "_view_module_version": "1.5.0",
      "_view_name": "HTMLView",
      "description": "",
      "description_tooltip": null,
      "layout": "IPY_MODEL_8610f2b8c4e34cf5a5cb86d9793470d1",
      "placeholder": "​",
      "style": "IPY_MODEL_4d47b971462c40c79afb154253316214",
      "value": " 3/3 [00:04&lt;00:00,  1.21s/ splits]"
     }
    },
    "d4505cd8890c43138eda8dd24e6cc07a": {
     "model_module": "@jupyter-widgets/base",
     "model_module_version": "1.2.0",
     "model_name": "LayoutModel",
     "state": {
      "_model_module": "@jupyter-widgets/base",
      "_model_module_version": "1.2.0",
      "_model_name": "LayoutModel",
      "_view_count": null,
      "_view_module": "@jupyter-widgets/base",
      "_view_module_version": "1.2.0",
      "_view_name": "LayoutView",
      "align_content": null,
      "align_items": null,
      "align_self": null,
      "border": null,
      "bottom": null,
      "display": null,
      "flex": null,
      "flex_flow": null,
      "grid_area": null,
      "grid_auto_columns": null,
      "grid_auto_flow": null,
      "grid_auto_rows": null,
      "grid_column": null,
      "grid_gap": null,
      "grid_row": null,
      "grid_template_areas": null,
      "grid_template_columns": null,
      "grid_template_rows": null,
      "height": null,
      "justify_content": null,
      "justify_items": null,
      "left": null,
      "margin": null,
      "max_height": null,
      "max_width": null,
      "min_height": null,
      "min_width": null,
      "object_fit": null,
      "object_position": null,
      "order": null,
      "overflow": null,
      "overflow_x": null,
      "overflow_y": null,
      "padding": null,
      "right": null,
      "top": null,
      "visibility": null,
      "width": null
     }
    },
    "d45d32026081453b92119b931246bb49": {
     "model_module": "@jupyter-widgets/base",
     "model_module_version": "1.2.0",
     "model_name": "LayoutModel",
     "state": {
      "_model_module": "@jupyter-widgets/base",
      "_model_module_version": "1.2.0",
      "_model_name": "LayoutModel",
      "_view_count": null,
      "_view_module": "@jupyter-widgets/base",
      "_view_module_version": "1.2.0",
      "_view_name": "LayoutView",
      "align_content": null,
      "align_items": null,
      "align_self": null,
      "border": null,
      "bottom": null,
      "display": null,
      "flex": null,
      "flex_flow": null,
      "grid_area": null,
      "grid_auto_columns": null,
      "grid_auto_flow": null,
      "grid_auto_rows": null,
      "grid_column": null,
      "grid_gap": null,
      "grid_row": null,
      "grid_template_areas": null,
      "grid_template_columns": null,
      "grid_template_rows": null,
      "height": null,
      "justify_content": null,
      "justify_items": null,
      "left": null,
      "margin": null,
      "max_height": null,
      "max_width": null,
      "min_height": null,
      "min_width": null,
      "object_fit": null,
      "object_position": null,
      "order": null,
      "overflow": null,
      "overflow_x": null,
      "overflow_y": null,
      "padding": null,
      "right": null,
      "top": null,
      "visibility": null,
      "width": null
     }
    },
    "d9a2e30fbefa49e6a07de3f9fad0dfe8": {
     "model_module": "@jupyter-widgets/controls",
     "model_module_version": "1.5.0",
     "model_name": "DescriptionStyleModel",
     "state": {
      "_model_module": "@jupyter-widgets/controls",
      "_model_module_version": "1.5.0",
      "_model_name": "DescriptionStyleModel",
      "_view_count": null,
      "_view_module": "@jupyter-widgets/base",
      "_view_module_version": "1.2.0",
      "_view_name": "StyleView",
      "description_width": ""
     }
    },
    "dc203713a2e348bfb2a4cab220d159aa": {
     "model_module": "@jupyter-widgets/controls",
     "model_module_version": "1.5.0",
     "model_name": "FloatProgressModel",
     "state": {
      "_dom_classes": [],
      "_model_module": "@jupyter-widgets/controls",
      "_model_module_version": "1.5.0",
      "_model_name": "FloatProgressModel",
      "_view_count": null,
      "_view_module": "@jupyter-widgets/controls",
      "_view_module_version": "1.5.0",
      "_view_name": "ProgressView",
      "bar_style": "",
      "description": "",
      "description_tooltip": null,
      "layout": "IPY_MODEL_a7be693be1a54a9bbaf938bf6bc191f8",
      "max": 3,
      "min": 0,
      "orientation": "horizontal",
      "style": "IPY_MODEL_31be2072c3ef4c9c9d654d7fb09bab73",
      "value": 3
     }
    },
    "e0539402d19b45abaa3a055dc6903f53": {
     "model_module": "@jupyter-widgets/controls",
     "model_module_version": "1.5.0",
     "model_name": "HTMLModel",
     "state": {
      "_dom_classes": [],
      "_model_module": "@jupyter-widgets/controls",
      "_model_module_version": "1.5.0",
      "_model_name": "HTMLModel",
      "_view_count": null,
      "_view_module": "@jupyter-widgets/controls",
      "_view_module_version": "1.5.0",
      "_view_name": "HTMLView",
      "description": "",
      "description_tooltip": null,
      "layout": "IPY_MODEL_ca935ccf77824d4bac06e35092a3c848",
      "placeholder": "​",
      "style": "IPY_MODEL_c411e4c6b089427d9a361444bd94b436",
      "value": "Shuffling /root/tensorflow_datasets/pneumonia_mnist/incomplete.T74UQ8_1.0.0/pneumonia_mnist-test.tfrecord*...:   0%"
     }
    },
    "e733fbc3bfc04c4d8db09cfb63f59683": {
     "model_module": "@jupyter-widgets/controls",
     "model_module_version": "1.5.0",
     "model_name": "DescriptionStyleModel",
     "state": {
      "_model_module": "@jupyter-widgets/controls",
      "_model_module_version": "1.5.0",
      "_model_name": "DescriptionStyleModel",
      "_view_count": null,
      "_view_module": "@jupyter-widgets/base",
      "_view_module_version": "1.2.0",
      "_view_name": "StyleView",
      "description_width": ""
     }
    },
    "e7be776c008848d886ce039fc50c6a99": {
     "model_module": "@jupyter-widgets/base",
     "model_module_version": "1.2.0",
     "model_name": "LayoutModel",
     "state": {
      "_model_module": "@jupyter-widgets/base",
      "_model_module_version": "1.2.0",
      "_model_name": "LayoutModel",
      "_view_count": null,
      "_view_module": "@jupyter-widgets/base",
      "_view_module_version": "1.2.0",
      "_view_name": "LayoutView",
      "align_content": null,
      "align_items": null,
      "align_self": null,
      "border": null,
      "bottom": null,
      "display": null,
      "flex": null,
      "flex_flow": null,
      "grid_area": null,
      "grid_auto_columns": null,
      "grid_auto_flow": null,
      "grid_auto_rows": null,
      "grid_column": null,
      "grid_gap": null,
      "grid_row": null,
      "grid_template_areas": null,
      "grid_template_columns": null,
      "grid_template_rows": null,
      "height": null,
      "justify_content": null,
      "justify_items": null,
      "left": null,
      "margin": null,
      "max_height": null,
      "max_width": null,
      "min_height": null,
      "min_width": null,
      "object_fit": null,
      "object_position": null,
      "order": null,
      "overflow": null,
      "overflow_x": null,
      "overflow_y": null,
      "padding": null,
      "right": null,
      "top": null,
      "visibility": null,
      "width": null
     }
    },
    "f43927175b604a39801c246c44e6278d": {
     "model_module": "@jupyter-widgets/controls",
     "model_module_version": "1.5.0",
     "model_name": "HBoxModel",
     "state": {
      "_dom_classes": [],
      "_model_module": "@jupyter-widgets/controls",
      "_model_module_version": "1.5.0",
      "_model_name": "HBoxModel",
      "_view_count": null,
      "_view_module": "@jupyter-widgets/controls",
      "_view_module_version": "1.5.0",
      "_view_name": "HBoxView",
      "box_style": "",
      "children": [
       "IPY_MODEL_56c503776dca4d149ad5d19969d5fcb5",
       "IPY_MODEL_a71f0cd96c0240b0a7d1037541be61f5",
       "IPY_MODEL_39dcef18009d41ea84ffd4977937de46"
      ],
      "layout": "IPY_MODEL_9e68688ab40e4e4da9dd8263335e89b0"
     }
    },
    "f54abddfb36b47788b24741361f2abee": {
     "model_module": "@jupyter-widgets/base",
     "model_module_version": "1.2.0",
     "model_name": "LayoutModel",
     "state": {
      "_model_module": "@jupyter-widgets/base",
      "_model_module_version": "1.2.0",
      "_model_name": "LayoutModel",
      "_view_count": null,
      "_view_module": "@jupyter-widgets/base",
      "_view_module_version": "1.2.0",
      "_view_name": "LayoutView",
      "align_content": null,
      "align_items": null,
      "align_self": null,
      "border": null,
      "bottom": null,
      "display": null,
      "flex": null,
      "flex_flow": null,
      "grid_area": null,
      "grid_auto_columns": null,
      "grid_auto_flow": null,
      "grid_auto_rows": null,
      "grid_column": null,
      "grid_gap": null,
      "grid_row": null,
      "grid_template_areas": null,
      "grid_template_columns": null,
      "grid_template_rows": null,
      "height": null,
      "justify_content": null,
      "justify_items": null,
      "left": null,
      "margin": null,
      "max_height": null,
      "max_width": null,
      "min_height": null,
      "min_width": null,
      "object_fit": null,
      "object_position": null,
      "order": null,
      "overflow": null,
      "overflow_x": null,
      "overflow_y": null,
      "padding": null,
      "right": null,
      "top": null,
      "visibility": "hidden",
      "width": null
     }
    },
    "f7b77592033b49659b93433f84420fe4": {
     "model_module": "@jupyter-widgets/controls",
     "model_module_version": "1.5.0",
     "model_name": "HBoxModel",
     "state": {
      "_dom_classes": [],
      "_model_module": "@jupyter-widgets/controls",
      "_model_module_version": "1.5.0",
      "_model_name": "HBoxModel",
      "_view_count": null,
      "_view_module": "@jupyter-widgets/controls",
      "_view_module_version": "1.5.0",
      "_view_name": "HBoxView",
      "box_style": "",
      "children": [
       "IPY_MODEL_a97d9d9dd13c404eae93e0c812a3fc64",
       "IPY_MODEL_94f9217d699742098403da81003838f5",
       "IPY_MODEL_007e31d7bcb745098ccd67d3cd41bf4f"
      ],
      "layout": "IPY_MODEL_bbaf9400614749fe83d4d7ae0ccb912a"
     }
    },
    "f837149a103d493b9f898dcdcea31916": {
     "model_module": "@jupyter-widgets/controls",
     "model_module_version": "1.5.0",
     "model_name": "DescriptionStyleModel",
     "state": {
      "_model_module": "@jupyter-widgets/controls",
      "_model_module_version": "1.5.0",
      "_model_name": "DescriptionStyleModel",
      "_view_count": null,
      "_view_module": "@jupyter-widgets/base",
      "_view_module_version": "1.2.0",
      "_view_name": "StyleView",
      "description_width": ""
     }
    },
    "f85fbe1026644e62ace59be7171a7056": {
     "model_module": "@jupyter-widgets/controls",
     "model_module_version": "1.5.0",
     "model_name": "HBoxModel",
     "state": {
      "_dom_classes": [],
      "_model_module": "@jupyter-widgets/controls",
      "_model_module_version": "1.5.0",
      "_model_name": "HBoxModel",
      "_view_count": null,
      "_view_module": "@jupyter-widgets/controls",
      "_view_module_version": "1.5.0",
      "_view_name": "HBoxView",
      "box_style": "",
      "children": [
       "IPY_MODEL_3b46f8e762f7426f9bcf822d98100616",
       "IPY_MODEL_7d9b95588ad44776824e884ec86752fd",
       "IPY_MODEL_3d6f12a2187c43f8b0244edaae16ee33"
      ],
      "layout": "IPY_MODEL_8029032d6e404aca9dd1471b499ec821"
     }
    },
    "fc160c6d5469432790557a4cdc539169": {
     "model_module": "@jupyter-widgets/base",
     "model_module_version": "1.2.0",
     "model_name": "LayoutModel",
     "state": {
      "_model_module": "@jupyter-widgets/base",
      "_model_module_version": "1.2.0",
      "_model_name": "LayoutModel",
      "_view_count": null,
      "_view_module": "@jupyter-widgets/base",
      "_view_module_version": "1.2.0",
      "_view_name": "LayoutView",
      "align_content": null,
      "align_items": null,
      "align_self": null,
      "border": null,
      "bottom": null,
      "display": null,
      "flex": null,
      "flex_flow": null,
      "grid_area": null,
      "grid_auto_columns": null,
      "grid_auto_flow": null,
      "grid_auto_rows": null,
      "grid_column": null,
      "grid_gap": null,
      "grid_row": null,
      "grid_template_areas": null,
      "grid_template_columns": null,
      "grid_template_rows": null,
      "height": null,
      "justify_content": null,
      "justify_items": null,
      "left": null,
      "margin": null,
      "max_height": null,
      "max_width": null,
      "min_height": null,
      "min_width": null,
      "object_fit": null,
      "object_position": null,
      "order": null,
      "overflow": null,
      "overflow_x": null,
      "overflow_y": null,
      "padding": null,
      "right": null,
      "top": null,
      "visibility": "hidden",
      "width": null
     }
    },
    "ff48c624a325458692b5bb146ebabb64": {
     "model_module": "@jupyter-widgets/base",
     "model_module_version": "1.2.0",
     "model_name": "LayoutModel",
     "state": {
      "_model_module": "@jupyter-widgets/base",
      "_model_module_version": "1.2.0",
      "_model_name": "LayoutModel",
      "_view_count": null,
      "_view_module": "@jupyter-widgets/base",
      "_view_module_version": "1.2.0",
      "_view_name": "LayoutView",
      "align_content": null,
      "align_items": null,
      "align_self": null,
      "border": null,
      "bottom": null,
      "display": null,
      "flex": null,
      "flex_flow": null,
      "grid_area": null,
      "grid_auto_columns": null,
      "grid_auto_flow": null,
      "grid_auto_rows": null,
      "grid_column": null,
      "grid_gap": null,
      "grid_row": null,
      "grid_template_areas": null,
      "grid_template_columns": null,
      "grid_template_rows": null,
      "height": null,
      "justify_content": null,
      "justify_items": null,
      "left": null,
      "margin": null,
      "max_height": null,
      "max_width": null,
      "min_height": null,
      "min_width": null,
      "object_fit": null,
      "object_position": null,
      "order": null,
      "overflow": null,
      "overflow_x": null,
      "overflow_y": null,
      "padding": null,
      "right": null,
      "top": null,
      "visibility": null,
      "width": null
     }
    }
   }
  }
 },
 "nbformat": 4,
 "nbformat_minor": 1
}
